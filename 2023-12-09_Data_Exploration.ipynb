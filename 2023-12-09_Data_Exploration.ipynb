{
 "cells": [
  {
   "cell_type": "code",
   "execution_count": 1,
   "id": "f95185a6-0cd2-427e-bb90-61bbd31d44f0",
   "metadata": {},
   "outputs": [
    {
     "data": {
      "text/html": [
       "'C:/Users/William/Documents/Training/Google/Google Data Analyst Career Certification/Capstone'"
      ],
      "text/latex": [
       "'C:/Users/William/Documents/Training/Google/Google Data Analyst Career Certification/Capstone'"
      ],
      "text/markdown": [
       "'C:/Users/William/Documents/Training/Google/Google Data Analyst Career Certification/Capstone'"
      ],
      "text/plain": [
       "[1] \"C:/Users/William/Documents/Training/Google/Google Data Analyst Career Certification/Capstone\""
      ]
     },
     "metadata": {},
     "output_type": "display_data"
    }
   ],
   "source": [
    "getwd()"
   ]
  },
  {
   "cell_type": "code",
   "execution_count": 2,
   "id": "a1d2d66b-3742-4352-82fe-4b511bc65e7c",
   "metadata": {},
   "outputs": [
    {
     "name": "stdout",
     "output_type": "stream",
     "text": [
      "\n",
      "  There is a binary version available but the source version is later:\n",
      "      binary source needs_compilation\n",
      "dplyr  1.1.2  1.1.4              TRUE\n",
      "\n",
      "  Binaries will be installed\n",
      "package 'dplyr' successfully unpacked and MD5 sums checked\n"
     ]
    },
    {
     "name": "stderr",
     "output_type": "stream",
     "text": [
      "Warning message:\n",
      "\"cannot remove prior installation of package 'dplyr'\"\n",
      "Warning message in file.copy(savedcopy, lib, recursive = TRUE):\n",
      "\"problem copying C:\\Users\\William\\anaconda3\\envs\\r-tutorial\\Lib\\R\\library\\00LOCK\\dplyr\\libs\\x64\\dplyr.dll to C:\\Users\\William\\anaconda3\\envs\\r-tutorial\\Lib\\R\\library\\dplyr\\libs\\x64\\dplyr.dll: Permission denied\"\n",
      "Warning message:\n",
      "\"restored 'dplyr'\"\n"
     ]
    },
    {
     "name": "stdout",
     "output_type": "stream",
     "text": [
      "\n",
      "The downloaded binary packages are in\n",
      "\tC:\\Users\\William\\AppData\\Local\\Temp\\RtmpwfCvkN\\downloaded_packages\n",
      "package 'tidyverse' successfully unpacked and MD5 sums checked\n",
      "\n",
      "The downloaded binary packages are in\n",
      "\tC:\\Users\\William\\AppData\\Local\\Temp\\RtmpwfCvkN\\downloaded_packages\n",
      "package 'gridExtra' successfully unpacked and MD5 sums checked\n",
      "\n",
      "The downloaded binary packages are in\n",
      "\tC:\\Users\\William\\AppData\\Local\\Temp\\RtmpwfCvkN\\downloaded_packages\n",
      "\n",
      "  There is a binary version available but the source version is later:\n",
      "        binary source needs_compilation\n",
      "ggplot2  3.4.2  3.4.4             FALSE\n",
      "\n"
     ]
    },
    {
     "name": "stderr",
     "output_type": "stream",
     "text": [
      "installing the source package 'ggplot2'\n",
      "\n",
      "\n"
     ]
    },
    {
     "name": "stdout",
     "output_type": "stream",
     "text": [
      "\n",
      "  There is a binary version available but the source version is later:\n",
      "       binary     source needs_compilation\n",
      "MASS 7.3-58.3 7.3-60.0.1              TRUE\n",
      "\n",
      "  Binaries will be installed\n",
      "package 'MASS' successfully unpacked and MD5 sums checked\n",
      "\n",
      "The downloaded binary packages are in\n",
      "\tC:\\Users\\William\\AppData\\Local\\Temp\\RtmpwfCvkN\\downloaded_packages\n",
      "\n",
      "  There is a binary version available but the source version is later:\n",
      "     binary source needs_compilation\n",
      "plyr  1.8.8  1.8.9              TRUE\n",
      "\n",
      "  Binaries will be installed\n",
      "package 'plyr' successfully unpacked and MD5 sums checked\n",
      "\n",
      "The downloaded binary packages are in\n",
      "\tC:\\Users\\William\\AppData\\Local\\Temp\\RtmpwfCvkN\\downloaded_packages\n"
     ]
    },
    {
     "name": "stderr",
     "output_type": "stream",
     "text": [
      "\n",
      "Attaching package: 'dplyr'\n",
      "\n",
      "\n",
      "The following objects are masked from 'package:stats':\n",
      "\n",
      "    filter, lag\n",
      "\n",
      "\n",
      "The following objects are masked from 'package:base':\n",
      "\n",
      "    intersect, setdiff, setequal, union\n",
      "\n",
      "\n",
      "-- \u001b[1mAttaching core tidyverse packages\u001b[22m ------------------------ tidyverse 2.0.0 --\n",
      "\u001b[32mv\u001b[39m \u001b[34mforcats  \u001b[39m 1.0.0     \u001b[32mv\u001b[39m \u001b[34mreadr    \u001b[39m 2.1.4\n",
      "\u001b[32mv\u001b[39m \u001b[34mggplot2  \u001b[39m 3.4.4     \u001b[32mv\u001b[39m \u001b[34mstringr  \u001b[39m 1.5.0\n",
      "\u001b[32mv\u001b[39m \u001b[34mlubridate\u001b[39m 1.9.3     \u001b[32mv\u001b[39m \u001b[34mtibble   \u001b[39m 3.2.1\n",
      "\u001b[32mv\u001b[39m \u001b[34mpurrr    \u001b[39m 1.0.2     \u001b[32mv\u001b[39m \u001b[34mtidyr    \u001b[39m 1.3.0\n",
      "-- \u001b[1mConflicts\u001b[22m ------------------------------------------ tidyverse_conflicts() --\n",
      "\u001b[31mx\u001b[39m \u001b[34mdplyr\u001b[39m::\u001b[32mfilter()\u001b[39m masks \u001b[34mstats\u001b[39m::filter()\n",
      "\u001b[31mx\u001b[39m \u001b[34mdplyr\u001b[39m::\u001b[32mlag()\u001b[39m    masks \u001b[34mstats\u001b[39m::lag()\n",
      "\u001b[36mi\u001b[39m Use the conflicted package (\u001b[3m\u001b[34m<http://conflicted.r-lib.org/>\u001b[39m\u001b[23m) to force all conflicts to become errors\n",
      "\n",
      "Attaching package: 'gridExtra'\n",
      "\n",
      "\n",
      "The following object is masked from 'package:dplyr':\n",
      "\n",
      "    combine\n",
      "\n",
      "\n"
     ]
    },
    {
     "ename": "ERROR",
     "evalue": "Error in library(ggplot): there is no package called 'ggplot'\n",
     "output_type": "error",
     "traceback": [
      "Error in library(ggplot): there is no package called 'ggplot'\nTraceback:\n",
      "1. library(ggplot)"
     ]
    }
   ],
   "source": [
    "install.packages(\"dplyr\")\n",
    "install.packages(\"tidyverse\")\n",
    "install.packages(\"gridExtra\")\n",
    "install.packages(\"ggplot2\")\n",
    "install.packages(\"MASS\")\n",
    "install.packages(\"plyr\")\n",
    "\n",
    "library(dplyr)\n",
    "library(tidyverse)\n",
    "library(gridExtra)\n",
    "library(ggplot)\n",
    "library(MASS)\n",
    "library(plyr)"
   ]
  },
  {
   "cell_type": "code",
   "execution_count": 3,
   "id": "a76fbdf1-19d0-497d-aadf-552dee6dc771",
   "metadata": {},
   "outputs": [],
   "source": [
    "# Loading 2019 data\n",
    "base_19Q1 <- read.csv(\"./Divvy_Trips_2019_Q1/Divvy_Trips_2019_Q1.csv\")\n",
    "base_19Q2 <- read.csv(\"./Divvy_trips_2019_Q2/Divvy_Trips_2019_Q2.csv\")\n",
    "base_19Q3 <- read.csv(\"./Divvy_trips_2019_Q3/Divvy_Trips_2019_Q3.csv\")\n",
    "base_19Q4 <- read.csv(\"./Divvy_trips_2019_Q4/Divvy_Trips_2019_Q4.csv\")"
   ]
  },
  {
   "cell_type": "code",
   "execution_count": 5,
   "id": "5861d3c3-4105-4865-a277-bb0a61ca7cfd",
   "metadata": {},
   "outputs": [
    {
     "data": {
      "text/html": [
       "<table class=\"dataframe\">\n",
       "<caption>A data.frame: 6 × 12</caption>\n",
       "<thead>\n",
       "\t<tr><th></th><th scope=col>trip_id</th><th scope=col>start_time</th><th scope=col>end_time</th><th scope=col>bikeid</th><th scope=col>tripduration</th><th scope=col>from_station_id</th><th scope=col>from_station_name</th><th scope=col>to_station_id</th><th scope=col>to_station_name</th><th scope=col>usertype</th><th scope=col>gender</th><th scope=col>birthyear</th></tr>\n",
       "\t<tr><th></th><th scope=col>&lt;int&gt;</th><th scope=col>&lt;chr&gt;</th><th scope=col>&lt;chr&gt;</th><th scope=col>&lt;int&gt;</th><th scope=col>&lt;chr&gt;</th><th scope=col>&lt;int&gt;</th><th scope=col>&lt;chr&gt;</th><th scope=col>&lt;int&gt;</th><th scope=col>&lt;chr&gt;</th><th scope=col>&lt;chr&gt;</th><th scope=col>&lt;chr&gt;</th><th scope=col>&lt;int&gt;</th></tr>\n",
       "</thead>\n",
       "<tbody>\n",
       "\t<tr><th scope=row>1</th><td>21742443</td><td>2019-01-01 00:04:37</td><td>2019-01-01 00:11:07</td><td>2167</td><td><span style=white-space:pre-wrap>390.0  </span></td><td>199</td><td><span style=white-space:pre-wrap>Wabash Ave &amp; Grand Ave             </span></td><td> 84</td><td><span style=white-space:pre-wrap>Milwaukee Ave &amp; Grand Ave     </span></td><td>Subscriber</td><td><span style=white-space:pre-wrap>Male  </span></td><td>1989</td></tr>\n",
       "\t<tr><th scope=row>2</th><td>21742444</td><td>2019-01-01 00:08:13</td><td>2019-01-01 00:15:34</td><td>4386</td><td><span style=white-space:pre-wrap>441.0  </span></td><td> 44</td><td><span style=white-space:pre-wrap>State St &amp; Randolph St             </span></td><td>624</td><td>Dearborn St &amp; Van Buren St (*)</td><td>Subscriber</td><td>Female</td><td>1990</td></tr>\n",
       "\t<tr><th scope=row>3</th><td>21742445</td><td>2019-01-01 00:13:23</td><td>2019-01-01 00:27:12</td><td>1524</td><td><span style=white-space:pre-wrap>829.0  </span></td><td> 15</td><td><span style=white-space:pre-wrap>Racine Ave &amp; 18th St               </span></td><td>644</td><td>Western Ave &amp; Fillmore St (*) </td><td>Subscriber</td><td>Female</td><td>1994</td></tr>\n",
       "\t<tr><th scope=row>4</th><td>21742446</td><td>2019-01-01 00:13:45</td><td>2019-01-01 00:43:28</td><td> 252</td><td>1,783.0</td><td>123</td><td><span style=white-space:pre-wrap>California Ave &amp; Milwaukee Ave     </span></td><td>176</td><td><span style=white-space:pre-wrap>Clark St &amp; Elm St             </span></td><td>Subscriber</td><td><span style=white-space:pre-wrap>Male  </span></td><td>1993</td></tr>\n",
       "\t<tr><th scope=row>5</th><td>21742447</td><td>2019-01-01 00:14:52</td><td>2019-01-01 00:20:56</td><td>1170</td><td><span style=white-space:pre-wrap>364.0  </span></td><td>173</td><td>Mies van der Rohe Way &amp; Chicago Ave</td><td> 35</td><td><span style=white-space:pre-wrap>Streeter Dr &amp; Grand Ave       </span></td><td>Subscriber</td><td><span style=white-space:pre-wrap>Male  </span></td><td>1994</td></tr>\n",
       "\t<tr><th scope=row>6</th><td>21742448</td><td>2019-01-01 00:15:33</td><td>2019-01-01 00:19:09</td><td>2437</td><td><span style=white-space:pre-wrap>216.0  </span></td><td> 98</td><td><span style=white-space:pre-wrap>LaSalle St &amp; Washington St         </span></td><td> 49</td><td><span style=white-space:pre-wrap>Dearborn St &amp; Monroe St       </span></td><td>Subscriber</td><td>Female</td><td>1983</td></tr>\n",
       "</tbody>\n",
       "</table>\n"
      ],
      "text/latex": [
       "A data.frame: 6 × 12\n",
       "\\begin{tabular}{r|llllllllllll}\n",
       "  & trip\\_id & start\\_time & end\\_time & bikeid & tripduration & from\\_station\\_id & from\\_station\\_name & to\\_station\\_id & to\\_station\\_name & usertype & gender & birthyear\\\\\n",
       "  & <int> & <chr> & <chr> & <int> & <chr> & <int> & <chr> & <int> & <chr> & <chr> & <chr> & <int>\\\\\n",
       "\\hline\n",
       "\t1 & 21742443 & 2019-01-01 00:04:37 & 2019-01-01 00:11:07 & 2167 & 390.0   & 199 & Wabash Ave \\& Grand Ave              &  84 & Milwaukee Ave \\& Grand Ave      & Subscriber & Male   & 1989\\\\\n",
       "\t2 & 21742444 & 2019-01-01 00:08:13 & 2019-01-01 00:15:34 & 4386 & 441.0   &  44 & State St \\& Randolph St              & 624 & Dearborn St \\& Van Buren St (*) & Subscriber & Female & 1990\\\\\n",
       "\t3 & 21742445 & 2019-01-01 00:13:23 & 2019-01-01 00:27:12 & 1524 & 829.0   &  15 & Racine Ave \\& 18th St                & 644 & Western Ave \\& Fillmore St (*)  & Subscriber & Female & 1994\\\\\n",
       "\t4 & 21742446 & 2019-01-01 00:13:45 & 2019-01-01 00:43:28 &  252 & 1,783.0 & 123 & California Ave \\& Milwaukee Ave      & 176 & Clark St \\& Elm St              & Subscriber & Male   & 1993\\\\\n",
       "\t5 & 21742447 & 2019-01-01 00:14:52 & 2019-01-01 00:20:56 & 1170 & 364.0   & 173 & Mies van der Rohe Way \\& Chicago Ave &  35 & Streeter Dr \\& Grand Ave        & Subscriber & Male   & 1994\\\\\n",
       "\t6 & 21742448 & 2019-01-01 00:15:33 & 2019-01-01 00:19:09 & 2437 & 216.0   &  98 & LaSalle St \\& Washington St          &  49 & Dearborn St \\& Monroe St        & Subscriber & Female & 1983\\\\\n",
       "\\end{tabular}\n"
      ],
      "text/markdown": [
       "\n",
       "A data.frame: 6 × 12\n",
       "\n",
       "| <!--/--> | trip_id &lt;int&gt; | start_time &lt;chr&gt; | end_time &lt;chr&gt; | bikeid &lt;int&gt; | tripduration &lt;chr&gt; | from_station_id &lt;int&gt; | from_station_name &lt;chr&gt; | to_station_id &lt;int&gt; | to_station_name &lt;chr&gt; | usertype &lt;chr&gt; | gender &lt;chr&gt; | birthyear &lt;int&gt; |\n",
       "|---|---|---|---|---|---|---|---|---|---|---|---|---|\n",
       "| 1 | 21742443 | 2019-01-01 00:04:37 | 2019-01-01 00:11:07 | 2167 | 390.0   | 199 | Wabash Ave &amp; Grand Ave              |  84 | Milwaukee Ave &amp; Grand Ave      | Subscriber | Male   | 1989 |\n",
       "| 2 | 21742444 | 2019-01-01 00:08:13 | 2019-01-01 00:15:34 | 4386 | 441.0   |  44 | State St &amp; Randolph St              | 624 | Dearborn St &amp; Van Buren St (*) | Subscriber | Female | 1990 |\n",
       "| 3 | 21742445 | 2019-01-01 00:13:23 | 2019-01-01 00:27:12 | 1524 | 829.0   |  15 | Racine Ave &amp; 18th St                | 644 | Western Ave &amp; Fillmore St (*)  | Subscriber | Female | 1994 |\n",
       "| 4 | 21742446 | 2019-01-01 00:13:45 | 2019-01-01 00:43:28 |  252 | 1,783.0 | 123 | California Ave &amp; Milwaukee Ave      | 176 | Clark St &amp; Elm St              | Subscriber | Male   | 1993 |\n",
       "| 5 | 21742447 | 2019-01-01 00:14:52 | 2019-01-01 00:20:56 | 1170 | 364.0   | 173 | Mies van der Rohe Way &amp; Chicago Ave |  35 | Streeter Dr &amp; Grand Ave        | Subscriber | Male   | 1994 |\n",
       "| 6 | 21742448 | 2019-01-01 00:15:33 | 2019-01-01 00:19:09 | 2437 | 216.0   |  98 | LaSalle St &amp; Washington St          |  49 | Dearborn St &amp; Monroe St        | Subscriber | Female | 1983 |\n",
       "\n"
      ],
      "text/plain": [
       "  trip_id  start_time          end_time            bikeid tripduration\n",
       "1 21742443 2019-01-01 00:04:37 2019-01-01 00:11:07 2167   390.0       \n",
       "2 21742444 2019-01-01 00:08:13 2019-01-01 00:15:34 4386   441.0       \n",
       "3 21742445 2019-01-01 00:13:23 2019-01-01 00:27:12 1524   829.0       \n",
       "4 21742446 2019-01-01 00:13:45 2019-01-01 00:43:28  252   1,783.0     \n",
       "5 21742447 2019-01-01 00:14:52 2019-01-01 00:20:56 1170   364.0       \n",
       "6 21742448 2019-01-01 00:15:33 2019-01-01 00:19:09 2437   216.0       \n",
       "  from_station_id from_station_name                   to_station_id\n",
       "1 199             Wabash Ave & Grand Ave               84          \n",
       "2  44             State St & Randolph St              624          \n",
       "3  15             Racine Ave & 18th St                644          \n",
       "4 123             California Ave & Milwaukee Ave      176          \n",
       "5 173             Mies van der Rohe Way & Chicago Ave  35          \n",
       "6  98             LaSalle St & Washington St           49          \n",
       "  to_station_name                usertype   gender birthyear\n",
       "1 Milwaukee Ave & Grand Ave      Subscriber Male   1989     \n",
       "2 Dearborn St & Van Buren St (*) Subscriber Female 1990     \n",
       "3 Western Ave & Fillmore St (*)  Subscriber Female 1994     \n",
       "4 Clark St & Elm St              Subscriber Male   1993     \n",
       "5 Streeter Dr & Grand Ave        Subscriber Male   1994     \n",
       "6 Dearborn St & Monroe St        Subscriber Female 1983     "
      ]
     },
     "metadata": {},
     "output_type": "display_data"
    },
    {
     "data": {
      "text/html": [
       "<table class=\"dataframe\">\n",
       "<caption>A data.frame: 6 × 12</caption>\n",
       "<thead>\n",
       "\t<tr><th></th><th scope=col>X01...Rental.Details.Rental.ID</th><th scope=col>X01...Rental.Details.Local.Start.Time</th><th scope=col>X01...Rental.Details.Local.End.Time</th><th scope=col>X01...Rental.Details.Bike.ID</th><th scope=col>X01...Rental.Details.Duration.In.Seconds.Uncapped</th><th scope=col>X03...Rental.Start.Station.ID</th><th scope=col>X03...Rental.Start.Station.Name</th><th scope=col>X02...Rental.End.Station.ID</th><th scope=col>X02...Rental.End.Station.Name</th><th scope=col>User.Type</th><th scope=col>Member.Gender</th><th scope=col>X05...Member.Details.Member.Birthday.Year</th></tr>\n",
       "\t<tr><th></th><th scope=col>&lt;int&gt;</th><th scope=col>&lt;chr&gt;</th><th scope=col>&lt;chr&gt;</th><th scope=col>&lt;int&gt;</th><th scope=col>&lt;chr&gt;</th><th scope=col>&lt;int&gt;</th><th scope=col>&lt;chr&gt;</th><th scope=col>&lt;int&gt;</th><th scope=col>&lt;chr&gt;</th><th scope=col>&lt;chr&gt;</th><th scope=col>&lt;chr&gt;</th><th scope=col>&lt;int&gt;</th></tr>\n",
       "</thead>\n",
       "<tbody>\n",
       "\t<tr><th scope=row>1</th><td>22178529</td><td>2019-04-01 00:02:22</td><td>2019-04-01 00:09:48</td><td>6251</td><td><span style=white-space:pre-wrap>446.0  </span></td><td> 81</td><td><span style=white-space:pre-wrap>Daley Center Plaza       </span></td><td> 56</td><td>Desplaines St &amp; Kinzie St</td><td>Subscriber</td><td><span style=white-space:pre-wrap>Male  </span></td><td>1975</td></tr>\n",
       "\t<tr><th scope=row>2</th><td>22178530</td><td>2019-04-01 00:03:02</td><td>2019-04-01 00:20:30</td><td>6226</td><td>1,048.0</td><td>317</td><td><span style=white-space:pre-wrap>Wood St &amp; Taylor St      </span></td><td> 59</td><td>Wabash Ave &amp; Roosevelt Rd</td><td>Subscriber</td><td>Female</td><td>1984</td></tr>\n",
       "\t<tr><th scope=row>3</th><td>22178531</td><td>2019-04-01 00:11:07</td><td>2019-04-01 00:15:19</td><td>5649</td><td><span style=white-space:pre-wrap>252.0  </span></td><td>283</td><td>LaSalle St &amp; Jackson Blvd</td><td>174</td><td><span style=white-space:pre-wrap>Canal St &amp; Madison St    </span></td><td>Subscriber</td><td><span style=white-space:pre-wrap>Male  </span></td><td>1990</td></tr>\n",
       "\t<tr><th scope=row>4</th><td>22178532</td><td>2019-04-01 00:13:01</td><td>2019-04-01 00:18:58</td><td>4151</td><td><span style=white-space:pre-wrap>357.0  </span></td><td> 26</td><td>McClurg Ct &amp; Illinois St </td><td>133</td><td>Kingsbury St &amp; Kinzie St </td><td>Subscriber</td><td><span style=white-space:pre-wrap>Male  </span></td><td>1993</td></tr>\n",
       "\t<tr><th scope=row>5</th><td>22178533</td><td>2019-04-01 00:19:26</td><td>2019-04-01 00:36:13</td><td>3270</td><td>1,007.0</td><td>202</td><td><span style=white-space:pre-wrap>Halsted St &amp; 18th St     </span></td><td>129</td><td>Blue Island Ave &amp; 18th St</td><td>Subscriber</td><td><span style=white-space:pre-wrap>Male  </span></td><td>1992</td></tr>\n",
       "\t<tr><th scope=row>6</th><td>22178534</td><td>2019-04-01 00:19:39</td><td>2019-04-01 00:23:56</td><td>3123</td><td><span style=white-space:pre-wrap>257.0  </span></td><td>420</td><td><span style=white-space:pre-wrap>Ellis Ave &amp; 55th St      </span></td><td>426</td><td><span style=white-space:pre-wrap>Ellis Ave &amp; 60th St      </span></td><td>Subscriber</td><td><span style=white-space:pre-wrap>Male  </span></td><td>1999</td></tr>\n",
       "</tbody>\n",
       "</table>\n"
      ],
      "text/latex": [
       "A data.frame: 6 × 12\n",
       "\\begin{tabular}{r|llllllllllll}\n",
       "  & X01...Rental.Details.Rental.ID & X01...Rental.Details.Local.Start.Time & X01...Rental.Details.Local.End.Time & X01...Rental.Details.Bike.ID & X01...Rental.Details.Duration.In.Seconds.Uncapped & X03...Rental.Start.Station.ID & X03...Rental.Start.Station.Name & X02...Rental.End.Station.ID & X02...Rental.End.Station.Name & User.Type & Member.Gender & X05...Member.Details.Member.Birthday.Year\\\\\n",
       "  & <int> & <chr> & <chr> & <int> & <chr> & <int> & <chr> & <int> & <chr> & <chr> & <chr> & <int>\\\\\n",
       "\\hline\n",
       "\t1 & 22178529 & 2019-04-01 00:02:22 & 2019-04-01 00:09:48 & 6251 & 446.0   &  81 & Daley Center Plaza        &  56 & Desplaines St \\& Kinzie St & Subscriber & Male   & 1975\\\\\n",
       "\t2 & 22178530 & 2019-04-01 00:03:02 & 2019-04-01 00:20:30 & 6226 & 1,048.0 & 317 & Wood St \\& Taylor St       &  59 & Wabash Ave \\& Roosevelt Rd & Subscriber & Female & 1984\\\\\n",
       "\t3 & 22178531 & 2019-04-01 00:11:07 & 2019-04-01 00:15:19 & 5649 & 252.0   & 283 & LaSalle St \\& Jackson Blvd & 174 & Canal St \\& Madison St     & Subscriber & Male   & 1990\\\\\n",
       "\t4 & 22178532 & 2019-04-01 00:13:01 & 2019-04-01 00:18:58 & 4151 & 357.0   &  26 & McClurg Ct \\& Illinois St  & 133 & Kingsbury St \\& Kinzie St  & Subscriber & Male   & 1993\\\\\n",
       "\t5 & 22178533 & 2019-04-01 00:19:26 & 2019-04-01 00:36:13 & 3270 & 1,007.0 & 202 & Halsted St \\& 18th St      & 129 & Blue Island Ave \\& 18th St & Subscriber & Male   & 1992\\\\\n",
       "\t6 & 22178534 & 2019-04-01 00:19:39 & 2019-04-01 00:23:56 & 3123 & 257.0   & 420 & Ellis Ave \\& 55th St       & 426 & Ellis Ave \\& 60th St       & Subscriber & Male   & 1999\\\\\n",
       "\\end{tabular}\n"
      ],
      "text/markdown": [
       "\n",
       "A data.frame: 6 × 12\n",
       "\n",
       "| <!--/--> | X01...Rental.Details.Rental.ID &lt;int&gt; | X01...Rental.Details.Local.Start.Time &lt;chr&gt; | X01...Rental.Details.Local.End.Time &lt;chr&gt; | X01...Rental.Details.Bike.ID &lt;int&gt; | X01...Rental.Details.Duration.In.Seconds.Uncapped &lt;chr&gt; | X03...Rental.Start.Station.ID &lt;int&gt; | X03...Rental.Start.Station.Name &lt;chr&gt; | X02...Rental.End.Station.ID &lt;int&gt; | X02...Rental.End.Station.Name &lt;chr&gt; | User.Type &lt;chr&gt; | Member.Gender &lt;chr&gt; | X05...Member.Details.Member.Birthday.Year &lt;int&gt; |\n",
       "|---|---|---|---|---|---|---|---|---|---|---|---|---|\n",
       "| 1 | 22178529 | 2019-04-01 00:02:22 | 2019-04-01 00:09:48 | 6251 | 446.0   |  81 | Daley Center Plaza        |  56 | Desplaines St &amp; Kinzie St | Subscriber | Male   | 1975 |\n",
       "| 2 | 22178530 | 2019-04-01 00:03:02 | 2019-04-01 00:20:30 | 6226 | 1,048.0 | 317 | Wood St &amp; Taylor St       |  59 | Wabash Ave &amp; Roosevelt Rd | Subscriber | Female | 1984 |\n",
       "| 3 | 22178531 | 2019-04-01 00:11:07 | 2019-04-01 00:15:19 | 5649 | 252.0   | 283 | LaSalle St &amp; Jackson Blvd | 174 | Canal St &amp; Madison St     | Subscriber | Male   | 1990 |\n",
       "| 4 | 22178532 | 2019-04-01 00:13:01 | 2019-04-01 00:18:58 | 4151 | 357.0   |  26 | McClurg Ct &amp; Illinois St  | 133 | Kingsbury St &amp; Kinzie St  | Subscriber | Male   | 1993 |\n",
       "| 5 | 22178533 | 2019-04-01 00:19:26 | 2019-04-01 00:36:13 | 3270 | 1,007.0 | 202 | Halsted St &amp; 18th St      | 129 | Blue Island Ave &amp; 18th St | Subscriber | Male   | 1992 |\n",
       "| 6 | 22178534 | 2019-04-01 00:19:39 | 2019-04-01 00:23:56 | 3123 | 257.0   | 420 | Ellis Ave &amp; 55th St       | 426 | Ellis Ave &amp; 60th St       | Subscriber | Male   | 1999 |\n",
       "\n"
      ],
      "text/plain": [
       "  X01...Rental.Details.Rental.ID X01...Rental.Details.Local.Start.Time\n",
       "1 22178529                       2019-04-01 00:02:22                  \n",
       "2 22178530                       2019-04-01 00:03:02                  \n",
       "3 22178531                       2019-04-01 00:11:07                  \n",
       "4 22178532                       2019-04-01 00:13:01                  \n",
       "5 22178533                       2019-04-01 00:19:26                  \n",
       "6 22178534                       2019-04-01 00:19:39                  \n",
       "  X01...Rental.Details.Local.End.Time X01...Rental.Details.Bike.ID\n",
       "1 2019-04-01 00:09:48                 6251                        \n",
       "2 2019-04-01 00:20:30                 6226                        \n",
       "3 2019-04-01 00:15:19                 5649                        \n",
       "4 2019-04-01 00:18:58                 4151                        \n",
       "5 2019-04-01 00:36:13                 3270                        \n",
       "6 2019-04-01 00:23:56                 3123                        \n",
       "  X01...Rental.Details.Duration.In.Seconds.Uncapped\n",
       "1 446.0                                            \n",
       "2 1,048.0                                          \n",
       "3 252.0                                            \n",
       "4 357.0                                            \n",
       "5 1,007.0                                          \n",
       "6 257.0                                            \n",
       "  X03...Rental.Start.Station.ID X03...Rental.Start.Station.Name\n",
       "1  81                           Daley Center Plaza             \n",
       "2 317                           Wood St & Taylor St            \n",
       "3 283                           LaSalle St & Jackson Blvd      \n",
       "4  26                           McClurg Ct & Illinois St       \n",
       "5 202                           Halsted St & 18th St           \n",
       "6 420                           Ellis Ave & 55th St            \n",
       "  X02...Rental.End.Station.ID X02...Rental.End.Station.Name User.Type \n",
       "1  56                         Desplaines St & Kinzie St     Subscriber\n",
       "2  59                         Wabash Ave & Roosevelt Rd     Subscriber\n",
       "3 174                         Canal St & Madison St         Subscriber\n",
       "4 133                         Kingsbury St & Kinzie St      Subscriber\n",
       "5 129                         Blue Island Ave & 18th St     Subscriber\n",
       "6 426                         Ellis Ave & 60th St           Subscriber\n",
       "  Member.Gender X05...Member.Details.Member.Birthday.Year\n",
       "1 Male          1975                                     \n",
       "2 Female        1984                                     \n",
       "3 Male          1990                                     \n",
       "4 Male          1993                                     \n",
       "5 Male          1992                                     \n",
       "6 Male          1999                                     "
      ]
     },
     "metadata": {},
     "output_type": "display_data"
    },
    {
     "data": {
      "text/html": [
       "<table class=\"dataframe\">\n",
       "<caption>A data.frame: 6 × 12</caption>\n",
       "<thead>\n",
       "\t<tr><th></th><th scope=col>trip_id</th><th scope=col>start_time</th><th scope=col>end_time</th><th scope=col>bikeid</th><th scope=col>tripduration</th><th scope=col>from_station_id</th><th scope=col>from_station_name</th><th scope=col>to_station_id</th><th scope=col>to_station_name</th><th scope=col>usertype</th><th scope=col>gender</th><th scope=col>birthyear</th></tr>\n",
       "\t<tr><th></th><th scope=col>&lt;int&gt;</th><th scope=col>&lt;chr&gt;</th><th scope=col>&lt;chr&gt;</th><th scope=col>&lt;int&gt;</th><th scope=col>&lt;chr&gt;</th><th scope=col>&lt;int&gt;</th><th scope=col>&lt;chr&gt;</th><th scope=col>&lt;int&gt;</th><th scope=col>&lt;chr&gt;</th><th scope=col>&lt;chr&gt;</th><th scope=col>&lt;chr&gt;</th><th scope=col>&lt;int&gt;</th></tr>\n",
       "</thead>\n",
       "<tbody>\n",
       "\t<tr><th scope=row>1</th><td>23479388</td><td>2019-07-01 00:00:27</td><td>2019-07-01 00:20:41</td><td>3591</td><td>1,214.0</td><td>117</td><td><span style=white-space:pre-wrap>Wilton Ave &amp; Belmont Ave     </span></td><td>497</td><td><span style=white-space:pre-wrap>Kimball Ave &amp; Belmont Ave    </span></td><td>Subscriber</td><td>Male</td><td>1992</td></tr>\n",
       "\t<tr><th scope=row>2</th><td>23479389</td><td>2019-07-01 00:01:16</td><td>2019-07-01 00:18:44</td><td>5353</td><td>1,048.0</td><td>381</td><td><span style=white-space:pre-wrap>Western Ave &amp; Monroe St      </span></td><td>203</td><td><span style=white-space:pre-wrap>Western Ave &amp; 21st St        </span></td><td><span style=white-space:pre-wrap>Customer  </span></td><td><span style=white-space:pre-wrap>    </span></td><td><span style=white-space:pre-wrap>  NA</span></td></tr>\n",
       "\t<tr><th scope=row>3</th><td>23479390</td><td>2019-07-01 00:01:48</td><td>2019-07-01 00:27:42</td><td>6180</td><td>1,554.0</td><td>313</td><td>Lakeview Ave &amp; Fullerton Pkwy</td><td>144</td><td><span style=white-space:pre-wrap>Larrabee St &amp; Webster Ave    </span></td><td><span style=white-space:pre-wrap>Customer  </span></td><td><span style=white-space:pre-wrap>    </span></td><td><span style=white-space:pre-wrap>  NA</span></td></tr>\n",
       "\t<tr><th scope=row>4</th><td>23479391</td><td>2019-07-01 00:02:07</td><td>2019-07-01 00:27:10</td><td>5540</td><td>1,503.0</td><td>313</td><td>Lakeview Ave &amp; Fullerton Pkwy</td><td>144</td><td><span style=white-space:pre-wrap>Larrabee St &amp; Webster Ave    </span></td><td><span style=white-space:pre-wrap>Customer  </span></td><td><span style=white-space:pre-wrap>    </span></td><td><span style=white-space:pre-wrap>  NA</span></td></tr>\n",
       "\t<tr><th scope=row>5</th><td>23479392</td><td>2019-07-01 00:02:13</td><td>2019-07-01 00:22:26</td><td>6014</td><td>1,213.0</td><td>168</td><td><span style=white-space:pre-wrap>Michigan Ave &amp; 14th St       </span></td><td> 62</td><td><span style=white-space:pre-wrap>McCormick Place              </span></td><td><span style=white-space:pre-wrap>Customer  </span></td><td><span style=white-space:pre-wrap>    </span></td><td><span style=white-space:pre-wrap>  NA</span></td></tr>\n",
       "\t<tr><th scope=row>6</th><td>23479393</td><td>2019-07-01 00:02:21</td><td>2019-07-01 00:07:31</td><td>4941</td><td><span style=white-space:pre-wrap>310.0  </span></td><td>300</td><td><span style=white-space:pre-wrap>Broadway &amp; Barry Ave         </span></td><td>232</td><td>Pine Grove Ave &amp; Waveland Ave</td><td>Subscriber</td><td>Male</td><td>1990</td></tr>\n",
       "</tbody>\n",
       "</table>\n"
      ],
      "text/latex": [
       "A data.frame: 6 × 12\n",
       "\\begin{tabular}{r|llllllllllll}\n",
       "  & trip\\_id & start\\_time & end\\_time & bikeid & tripduration & from\\_station\\_id & from\\_station\\_name & to\\_station\\_id & to\\_station\\_name & usertype & gender & birthyear\\\\\n",
       "  & <int> & <chr> & <chr> & <int> & <chr> & <int> & <chr> & <int> & <chr> & <chr> & <chr> & <int>\\\\\n",
       "\\hline\n",
       "\t1 & 23479388 & 2019-07-01 00:00:27 & 2019-07-01 00:20:41 & 3591 & 1,214.0 & 117 & Wilton Ave \\& Belmont Ave      & 497 & Kimball Ave \\& Belmont Ave     & Subscriber & Male & 1992\\\\\n",
       "\t2 & 23479389 & 2019-07-01 00:01:16 & 2019-07-01 00:18:44 & 5353 & 1,048.0 & 381 & Western Ave \\& Monroe St       & 203 & Western Ave \\& 21st St         & Customer   &      &   NA\\\\\n",
       "\t3 & 23479390 & 2019-07-01 00:01:48 & 2019-07-01 00:27:42 & 6180 & 1,554.0 & 313 & Lakeview Ave \\& Fullerton Pkwy & 144 & Larrabee St \\& Webster Ave     & Customer   &      &   NA\\\\\n",
       "\t4 & 23479391 & 2019-07-01 00:02:07 & 2019-07-01 00:27:10 & 5540 & 1,503.0 & 313 & Lakeview Ave \\& Fullerton Pkwy & 144 & Larrabee St \\& Webster Ave     & Customer   &      &   NA\\\\\n",
       "\t5 & 23479392 & 2019-07-01 00:02:13 & 2019-07-01 00:22:26 & 6014 & 1,213.0 & 168 & Michigan Ave \\& 14th St        &  62 & McCormick Place               & Customer   &      &   NA\\\\\n",
       "\t6 & 23479393 & 2019-07-01 00:02:21 & 2019-07-01 00:07:31 & 4941 & 310.0   & 300 & Broadway \\& Barry Ave          & 232 & Pine Grove Ave \\& Waveland Ave & Subscriber & Male & 1990\\\\\n",
       "\\end{tabular}\n"
      ],
      "text/markdown": [
       "\n",
       "A data.frame: 6 × 12\n",
       "\n",
       "| <!--/--> | trip_id &lt;int&gt; | start_time &lt;chr&gt; | end_time &lt;chr&gt; | bikeid &lt;int&gt; | tripduration &lt;chr&gt; | from_station_id &lt;int&gt; | from_station_name &lt;chr&gt; | to_station_id &lt;int&gt; | to_station_name &lt;chr&gt; | usertype &lt;chr&gt; | gender &lt;chr&gt; | birthyear &lt;int&gt; |\n",
       "|---|---|---|---|---|---|---|---|---|---|---|---|---|\n",
       "| 1 | 23479388 | 2019-07-01 00:00:27 | 2019-07-01 00:20:41 | 3591 | 1,214.0 | 117 | Wilton Ave &amp; Belmont Ave      | 497 | Kimball Ave &amp; Belmont Ave     | Subscriber | Male | 1992 |\n",
       "| 2 | 23479389 | 2019-07-01 00:01:16 | 2019-07-01 00:18:44 | 5353 | 1,048.0 | 381 | Western Ave &amp; Monroe St       | 203 | Western Ave &amp; 21st St         | Customer   | <!----> |   NA |\n",
       "| 3 | 23479390 | 2019-07-01 00:01:48 | 2019-07-01 00:27:42 | 6180 | 1,554.0 | 313 | Lakeview Ave &amp; Fullerton Pkwy | 144 | Larrabee St &amp; Webster Ave     | Customer   | <!----> |   NA |\n",
       "| 4 | 23479391 | 2019-07-01 00:02:07 | 2019-07-01 00:27:10 | 5540 | 1,503.0 | 313 | Lakeview Ave &amp; Fullerton Pkwy | 144 | Larrabee St &amp; Webster Ave     | Customer   | <!----> |   NA |\n",
       "| 5 | 23479392 | 2019-07-01 00:02:13 | 2019-07-01 00:22:26 | 6014 | 1,213.0 | 168 | Michigan Ave &amp; 14th St        |  62 | McCormick Place               | Customer   | <!----> |   NA |\n",
       "| 6 | 23479393 | 2019-07-01 00:02:21 | 2019-07-01 00:07:31 | 4941 | 310.0   | 300 | Broadway &amp; Barry Ave          | 232 | Pine Grove Ave &amp; Waveland Ave | Subscriber | Male | 1990 |\n",
       "\n"
      ],
      "text/plain": [
       "  trip_id  start_time          end_time            bikeid tripduration\n",
       "1 23479388 2019-07-01 00:00:27 2019-07-01 00:20:41 3591   1,214.0     \n",
       "2 23479389 2019-07-01 00:01:16 2019-07-01 00:18:44 5353   1,048.0     \n",
       "3 23479390 2019-07-01 00:01:48 2019-07-01 00:27:42 6180   1,554.0     \n",
       "4 23479391 2019-07-01 00:02:07 2019-07-01 00:27:10 5540   1,503.0     \n",
       "5 23479392 2019-07-01 00:02:13 2019-07-01 00:22:26 6014   1,213.0     \n",
       "6 23479393 2019-07-01 00:02:21 2019-07-01 00:07:31 4941   310.0       \n",
       "  from_station_id from_station_name             to_station_id\n",
       "1 117             Wilton Ave & Belmont Ave      497          \n",
       "2 381             Western Ave & Monroe St       203          \n",
       "3 313             Lakeview Ave & Fullerton Pkwy 144          \n",
       "4 313             Lakeview Ave & Fullerton Pkwy 144          \n",
       "5 168             Michigan Ave & 14th St         62          \n",
       "6 300             Broadway & Barry Ave          232          \n",
       "  to_station_name               usertype   gender birthyear\n",
       "1 Kimball Ave & Belmont Ave     Subscriber Male   1992     \n",
       "2 Western Ave & 21st St         Customer            NA     \n",
       "3 Larrabee St & Webster Ave     Customer            NA     \n",
       "4 Larrabee St & Webster Ave     Customer            NA     \n",
       "5 McCormick Place               Customer            NA     \n",
       "6 Pine Grove Ave & Waveland Ave Subscriber Male   1990     "
      ]
     },
     "metadata": {},
     "output_type": "display_data"
    },
    {
     "data": {
      "text/html": [
       "<table class=\"dataframe\">\n",
       "<caption>A data.frame: 6 × 12</caption>\n",
       "<thead>\n",
       "\t<tr><th></th><th scope=col>trip_id</th><th scope=col>start_time</th><th scope=col>end_time</th><th scope=col>bikeid</th><th scope=col>tripduration</th><th scope=col>from_station_id</th><th scope=col>from_station_name</th><th scope=col>to_station_id</th><th scope=col>to_station_name</th><th scope=col>usertype</th><th scope=col>gender</th><th scope=col>birthyear</th></tr>\n",
       "\t<tr><th></th><th scope=col>&lt;int&gt;</th><th scope=col>&lt;chr&gt;</th><th scope=col>&lt;chr&gt;</th><th scope=col>&lt;int&gt;</th><th scope=col>&lt;chr&gt;</th><th scope=col>&lt;int&gt;</th><th scope=col>&lt;chr&gt;</th><th scope=col>&lt;int&gt;</th><th scope=col>&lt;chr&gt;</th><th scope=col>&lt;chr&gt;</th><th scope=col>&lt;chr&gt;</th><th scope=col>&lt;int&gt;</th></tr>\n",
       "</thead>\n",
       "<tbody>\n",
       "\t<tr><th scope=row>1</th><td>25223640</td><td>2019-10-01 00:01:39</td><td>2019-10-01 00:17:20</td><td>2215</td><td><span style=white-space:pre-wrap>940.0  </span></td><td> 20</td><td><span style=white-space:pre-wrap>Sheffield Ave &amp; Kingsbury St  </span></td><td>309</td><td><span style=white-space:pre-wrap>Leavitt St &amp; Armitage Ave  </span></td><td>Subscriber</td><td><span style=white-space:pre-wrap>Male  </span></td><td>1987</td></tr>\n",
       "\t<tr><th scope=row>2</th><td>25223641</td><td>2019-10-01 00:02:16</td><td>2019-10-01 00:06:34</td><td>6328</td><td><span style=white-space:pre-wrap>258.0  </span></td><td> 19</td><td>Throop (Loomis) St &amp; Taylor St</td><td>241</td><td><span style=white-space:pre-wrap>Morgan St &amp; Polk St        </span></td><td>Subscriber</td><td><span style=white-space:pre-wrap>Male  </span></td><td>1998</td></tr>\n",
       "\t<tr><th scope=row>3</th><td>25223642</td><td>2019-10-01 00:04:32</td><td>2019-10-01 00:18:43</td><td>3003</td><td><span style=white-space:pre-wrap>850.0  </span></td><td> 84</td><td><span style=white-space:pre-wrap>Milwaukee Ave &amp; Grand Ave     </span></td><td>199</td><td><span style=white-space:pre-wrap>Wabash Ave &amp; Grand Ave     </span></td><td>Subscriber</td><td>Female</td><td>1991</td></tr>\n",
       "\t<tr><th scope=row>4</th><td>25223643</td><td>2019-10-01 00:04:32</td><td>2019-10-01 00:43:43</td><td>3275</td><td>2,350.0</td><td>313</td><td>Lakeview Ave &amp; Fullerton Pkwy </td><td>290</td><td><span style=white-space:pre-wrap>Kedzie Ave &amp; Palmer Ct     </span></td><td>Subscriber</td><td><span style=white-space:pre-wrap>Male  </span></td><td>1990</td></tr>\n",
       "\t<tr><th scope=row>5</th><td>25223644</td><td>2019-10-01 00:04:34</td><td>2019-10-01 00:35:42</td><td>5294</td><td>1,867.0</td><td>210</td><td><span style=white-space:pre-wrap>Ashland Ave &amp; Division St     </span></td><td>382</td><td>Western Ave &amp; Congress Pkwy</td><td>Subscriber</td><td><span style=white-space:pre-wrap>Male  </span></td><td>1987</td></tr>\n",
       "\t<tr><th scope=row>6</th><td>25223645</td><td>2019-10-01 00:04:38</td><td>2019-10-01 00:10:51</td><td>1891</td><td><span style=white-space:pre-wrap>373.0  </span></td><td>156</td><td><span style=white-space:pre-wrap>Clark St &amp; Wellington Ave     </span></td><td>226</td><td><span style=white-space:pre-wrap>Racine Ave &amp; Belmont Ave   </span></td><td>Subscriber</td><td>Female</td><td>1994</td></tr>\n",
       "</tbody>\n",
       "</table>\n"
      ],
      "text/latex": [
       "A data.frame: 6 × 12\n",
       "\\begin{tabular}{r|llllllllllll}\n",
       "  & trip\\_id & start\\_time & end\\_time & bikeid & tripduration & from\\_station\\_id & from\\_station\\_name & to\\_station\\_id & to\\_station\\_name & usertype & gender & birthyear\\\\\n",
       "  & <int> & <chr> & <chr> & <int> & <chr> & <int> & <chr> & <int> & <chr> & <chr> & <chr> & <int>\\\\\n",
       "\\hline\n",
       "\t1 & 25223640 & 2019-10-01 00:01:39 & 2019-10-01 00:17:20 & 2215 & 940.0   &  20 & Sheffield Ave \\& Kingsbury St   & 309 & Leavitt St \\& Armitage Ave   & Subscriber & Male   & 1987\\\\\n",
       "\t2 & 25223641 & 2019-10-01 00:02:16 & 2019-10-01 00:06:34 & 6328 & 258.0   &  19 & Throop (Loomis) St \\& Taylor St & 241 & Morgan St \\& Polk St         & Subscriber & Male   & 1998\\\\\n",
       "\t3 & 25223642 & 2019-10-01 00:04:32 & 2019-10-01 00:18:43 & 3003 & 850.0   &  84 & Milwaukee Ave \\& Grand Ave      & 199 & Wabash Ave \\& Grand Ave      & Subscriber & Female & 1991\\\\\n",
       "\t4 & 25223643 & 2019-10-01 00:04:32 & 2019-10-01 00:43:43 & 3275 & 2,350.0 & 313 & Lakeview Ave \\& Fullerton Pkwy  & 290 & Kedzie Ave \\& Palmer Ct      & Subscriber & Male   & 1990\\\\\n",
       "\t5 & 25223644 & 2019-10-01 00:04:34 & 2019-10-01 00:35:42 & 5294 & 1,867.0 & 210 & Ashland Ave \\& Division St      & 382 & Western Ave \\& Congress Pkwy & Subscriber & Male   & 1987\\\\\n",
       "\t6 & 25223645 & 2019-10-01 00:04:38 & 2019-10-01 00:10:51 & 1891 & 373.0   & 156 & Clark St \\& Wellington Ave      & 226 & Racine Ave \\& Belmont Ave    & Subscriber & Female & 1994\\\\\n",
       "\\end{tabular}\n"
      ],
      "text/markdown": [
       "\n",
       "A data.frame: 6 × 12\n",
       "\n",
       "| <!--/--> | trip_id &lt;int&gt; | start_time &lt;chr&gt; | end_time &lt;chr&gt; | bikeid &lt;int&gt; | tripduration &lt;chr&gt; | from_station_id &lt;int&gt; | from_station_name &lt;chr&gt; | to_station_id &lt;int&gt; | to_station_name &lt;chr&gt; | usertype &lt;chr&gt; | gender &lt;chr&gt; | birthyear &lt;int&gt; |\n",
       "|---|---|---|---|---|---|---|---|---|---|---|---|---|\n",
       "| 1 | 25223640 | 2019-10-01 00:01:39 | 2019-10-01 00:17:20 | 2215 | 940.0   |  20 | Sheffield Ave &amp; Kingsbury St   | 309 | Leavitt St &amp; Armitage Ave   | Subscriber | Male   | 1987 |\n",
       "| 2 | 25223641 | 2019-10-01 00:02:16 | 2019-10-01 00:06:34 | 6328 | 258.0   |  19 | Throop (Loomis) St &amp; Taylor St | 241 | Morgan St &amp; Polk St         | Subscriber | Male   | 1998 |\n",
       "| 3 | 25223642 | 2019-10-01 00:04:32 | 2019-10-01 00:18:43 | 3003 | 850.0   |  84 | Milwaukee Ave &amp; Grand Ave      | 199 | Wabash Ave &amp; Grand Ave      | Subscriber | Female | 1991 |\n",
       "| 4 | 25223643 | 2019-10-01 00:04:32 | 2019-10-01 00:43:43 | 3275 | 2,350.0 | 313 | Lakeview Ave &amp; Fullerton Pkwy  | 290 | Kedzie Ave &amp; Palmer Ct      | Subscriber | Male   | 1990 |\n",
       "| 5 | 25223644 | 2019-10-01 00:04:34 | 2019-10-01 00:35:42 | 5294 | 1,867.0 | 210 | Ashland Ave &amp; Division St      | 382 | Western Ave &amp; Congress Pkwy | Subscriber | Male   | 1987 |\n",
       "| 6 | 25223645 | 2019-10-01 00:04:38 | 2019-10-01 00:10:51 | 1891 | 373.0   | 156 | Clark St &amp; Wellington Ave      | 226 | Racine Ave &amp; Belmont Ave    | Subscriber | Female | 1994 |\n",
       "\n"
      ],
      "text/plain": [
       "  trip_id  start_time          end_time            bikeid tripduration\n",
       "1 25223640 2019-10-01 00:01:39 2019-10-01 00:17:20 2215   940.0       \n",
       "2 25223641 2019-10-01 00:02:16 2019-10-01 00:06:34 6328   258.0       \n",
       "3 25223642 2019-10-01 00:04:32 2019-10-01 00:18:43 3003   850.0       \n",
       "4 25223643 2019-10-01 00:04:32 2019-10-01 00:43:43 3275   2,350.0     \n",
       "5 25223644 2019-10-01 00:04:34 2019-10-01 00:35:42 5294   1,867.0     \n",
       "6 25223645 2019-10-01 00:04:38 2019-10-01 00:10:51 1891   373.0       \n",
       "  from_station_id from_station_name              to_station_id\n",
       "1  20             Sheffield Ave & Kingsbury St   309          \n",
       "2  19             Throop (Loomis) St & Taylor St 241          \n",
       "3  84             Milwaukee Ave & Grand Ave      199          \n",
       "4 313             Lakeview Ave & Fullerton Pkwy  290          \n",
       "5 210             Ashland Ave & Division St      382          \n",
       "6 156             Clark St & Wellington Ave      226          \n",
       "  to_station_name             usertype   gender birthyear\n",
       "1 Leavitt St & Armitage Ave   Subscriber Male   1987     \n",
       "2 Morgan St & Polk St         Subscriber Male   1998     \n",
       "3 Wabash Ave & Grand Ave      Subscriber Female 1991     \n",
       "4 Kedzie Ave & Palmer Ct      Subscriber Male   1990     \n",
       "5 Western Ave & Congress Pkwy Subscriber Male   1987     \n",
       "6 Racine Ave & Belmont Ave    Subscriber Female 1994     "
      ]
     },
     "metadata": {},
     "output_type": "display_data"
    }
   ],
   "source": [
    "# Checking 2019 data\n",
    "head(base_19Q1)\n",
    "head(base_19Q2)\n",
    "head(base_19Q3)\n",
    "head(base_19Q4)"
   ]
  },
  {
   "cell_type": "code",
   "execution_count": 6,
   "id": "91a6509d-1d3f-4b7c-a54b-4077b6cd133a",
   "metadata": {},
   "outputs": [
    {
     "data": {
      "text/html": [
       "<table class=\"dataframe\">\n",
       "<caption>A data.frame: 6 × 12</caption>\n",
       "<thead>\n",
       "\t<tr><th></th><th scope=col>trip_id</th><th scope=col>start_time</th><th scope=col>end_time</th><th scope=col>bikeid</th><th scope=col>tripduration</th><th scope=col>from_station_id</th><th scope=col>from_station_name</th><th scope=col>to_station_id</th><th scope=col>to_station_name</th><th scope=col>usertype</th><th scope=col>gender</th><th scope=col>birthyear</th></tr>\n",
       "\t<tr><th></th><th scope=col>&lt;int&gt;</th><th scope=col>&lt;chr&gt;</th><th scope=col>&lt;chr&gt;</th><th scope=col>&lt;int&gt;</th><th scope=col>&lt;chr&gt;</th><th scope=col>&lt;int&gt;</th><th scope=col>&lt;chr&gt;</th><th scope=col>&lt;int&gt;</th><th scope=col>&lt;chr&gt;</th><th scope=col>&lt;chr&gt;</th><th scope=col>&lt;chr&gt;</th><th scope=col>&lt;int&gt;</th></tr>\n",
       "</thead>\n",
       "<tbody>\n",
       "\t<tr><th scope=row>365064</th><td>22178522</td><td>2019-03-31 23:47:05</td><td>2019-03-31 23:51:35</td><td>3873</td><td>270.0</td><td> 69</td><td><span style=white-space:pre-wrap>Damen Ave &amp; Pierce Ave   </span></td><td>183</td><td>Damen Ave &amp; Thomas St (Augusta Blvd)</td><td>Subscriber</td><td>Male</td><td>1985</td></tr>\n",
       "\t<tr><th scope=row>365065</th><td>22178524</td><td>2019-03-31 23:51:32</td><td>2019-04-01 00:04:09</td><td>1501</td><td>757.0</td><td> 38</td><td><span style=white-space:pre-wrap>Clark St &amp; Lake St       </span></td><td> 29</td><td><span style=white-space:pre-wrap>Noble St &amp; Milwaukee Ave            </span></td><td>Subscriber</td><td>Male</td><td>1993</td></tr>\n",
       "\t<tr><th scope=row>365066</th><td>22178525</td><td>2019-03-31 23:52:37</td><td>2019-03-31 23:58:09</td><td>3270</td><td>332.0</td><td>129</td><td>Blue Island Ave &amp; 18th St</td><td>202</td><td><span style=white-space:pre-wrap>Halsted St &amp; 18th St                </span></td><td>Subscriber</td><td>Male</td><td>1992</td></tr>\n",
       "\t<tr><th scope=row>365067</th><td>22178526</td><td>2019-03-31 23:52:38</td><td>2019-04-01 00:06:44</td><td>3584</td><td>846.0</td><td>283</td><td>LaSalle St &amp; Jackson Blvd</td><td>273</td><td><span style=white-space:pre-wrap>Michigan Ave &amp; 18th St              </span></td><td>Subscriber</td><td>Male</td><td>1984</td></tr>\n",
       "\t<tr><th scope=row>365068</th><td>22178527</td><td>2019-03-31 23:53:08</td><td>2019-03-31 23:56:06</td><td>4384</td><td>178.0</td><td>321</td><td><span style=white-space:pre-wrap>Wabash Ave &amp; 9th St      </span></td><td> 39</td><td><span style=white-space:pre-wrap>Wabash Ave &amp; Adams St               </span></td><td>Subscriber</td><td>Male</td><td>1969</td></tr>\n",
       "\t<tr><th scope=row>365069</th><td>22178528</td><td>2019-03-31 23:53:48</td><td>2019-04-01 00:01:16</td><td>5589</td><td>448.0</td><td>248</td><td><span style=white-space:pre-wrap>Woodlawn Ave &amp; 55th St   </span></td><td>247</td><td><span style=white-space:pre-wrap>Shore Dr &amp; 55th St                  </span></td><td>Subscriber</td><td>Male</td><td>1998</td></tr>\n",
       "</tbody>\n",
       "</table>\n"
      ],
      "text/latex": [
       "A data.frame: 6 × 12\n",
       "\\begin{tabular}{r|llllllllllll}\n",
       "  & trip\\_id & start\\_time & end\\_time & bikeid & tripduration & from\\_station\\_id & from\\_station\\_name & to\\_station\\_id & to\\_station\\_name & usertype & gender & birthyear\\\\\n",
       "  & <int> & <chr> & <chr> & <int> & <chr> & <int> & <chr> & <int> & <chr> & <chr> & <chr> & <int>\\\\\n",
       "\\hline\n",
       "\t365064 & 22178522 & 2019-03-31 23:47:05 & 2019-03-31 23:51:35 & 3873 & 270.0 &  69 & Damen Ave \\& Pierce Ave    & 183 & Damen Ave \\& Thomas St (Augusta Blvd) & Subscriber & Male & 1985\\\\\n",
       "\t365065 & 22178524 & 2019-03-31 23:51:32 & 2019-04-01 00:04:09 & 1501 & 757.0 &  38 & Clark St \\& Lake St        &  29 & Noble St \\& Milwaukee Ave             & Subscriber & Male & 1993\\\\\n",
       "\t365066 & 22178525 & 2019-03-31 23:52:37 & 2019-03-31 23:58:09 & 3270 & 332.0 & 129 & Blue Island Ave \\& 18th St & 202 & Halsted St \\& 18th St                 & Subscriber & Male & 1992\\\\\n",
       "\t365067 & 22178526 & 2019-03-31 23:52:38 & 2019-04-01 00:06:44 & 3584 & 846.0 & 283 & LaSalle St \\& Jackson Blvd & 273 & Michigan Ave \\& 18th St               & Subscriber & Male & 1984\\\\\n",
       "\t365068 & 22178527 & 2019-03-31 23:53:08 & 2019-03-31 23:56:06 & 4384 & 178.0 & 321 & Wabash Ave \\& 9th St       &  39 & Wabash Ave \\& Adams St                & Subscriber & Male & 1969\\\\\n",
       "\t365069 & 22178528 & 2019-03-31 23:53:48 & 2019-04-01 00:01:16 & 5589 & 448.0 & 248 & Woodlawn Ave \\& 55th St    & 247 & Shore Dr \\& 55th St                   & Subscriber & Male & 1998\\\\\n",
       "\\end{tabular}\n"
      ],
      "text/markdown": [
       "\n",
       "A data.frame: 6 × 12\n",
       "\n",
       "| <!--/--> | trip_id &lt;int&gt; | start_time &lt;chr&gt; | end_time &lt;chr&gt; | bikeid &lt;int&gt; | tripduration &lt;chr&gt; | from_station_id &lt;int&gt; | from_station_name &lt;chr&gt; | to_station_id &lt;int&gt; | to_station_name &lt;chr&gt; | usertype &lt;chr&gt; | gender &lt;chr&gt; | birthyear &lt;int&gt; |\n",
       "|---|---|---|---|---|---|---|---|---|---|---|---|---|\n",
       "| 365064 | 22178522 | 2019-03-31 23:47:05 | 2019-03-31 23:51:35 | 3873 | 270.0 |  69 | Damen Ave &amp; Pierce Ave    | 183 | Damen Ave &amp; Thomas St (Augusta Blvd) | Subscriber | Male | 1985 |\n",
       "| 365065 | 22178524 | 2019-03-31 23:51:32 | 2019-04-01 00:04:09 | 1501 | 757.0 |  38 | Clark St &amp; Lake St        |  29 | Noble St &amp; Milwaukee Ave             | Subscriber | Male | 1993 |\n",
       "| 365066 | 22178525 | 2019-03-31 23:52:37 | 2019-03-31 23:58:09 | 3270 | 332.0 | 129 | Blue Island Ave &amp; 18th St | 202 | Halsted St &amp; 18th St                 | Subscriber | Male | 1992 |\n",
       "| 365067 | 22178526 | 2019-03-31 23:52:38 | 2019-04-01 00:06:44 | 3584 | 846.0 | 283 | LaSalle St &amp; Jackson Blvd | 273 | Michigan Ave &amp; 18th St               | Subscriber | Male | 1984 |\n",
       "| 365068 | 22178527 | 2019-03-31 23:53:08 | 2019-03-31 23:56:06 | 4384 | 178.0 | 321 | Wabash Ave &amp; 9th St       |  39 | Wabash Ave &amp; Adams St                | Subscriber | Male | 1969 |\n",
       "| 365069 | 22178528 | 2019-03-31 23:53:48 | 2019-04-01 00:01:16 | 5589 | 448.0 | 248 | Woodlawn Ave &amp; 55th St    | 247 | Shore Dr &amp; 55th St                   | Subscriber | Male | 1998 |\n",
       "\n"
      ],
      "text/plain": [
       "       trip_id  start_time          end_time            bikeid tripduration\n",
       "365064 22178522 2019-03-31 23:47:05 2019-03-31 23:51:35 3873   270.0       \n",
       "365065 22178524 2019-03-31 23:51:32 2019-04-01 00:04:09 1501   757.0       \n",
       "365066 22178525 2019-03-31 23:52:37 2019-03-31 23:58:09 3270   332.0       \n",
       "365067 22178526 2019-03-31 23:52:38 2019-04-01 00:06:44 3584   846.0       \n",
       "365068 22178527 2019-03-31 23:53:08 2019-03-31 23:56:06 4384   178.0       \n",
       "365069 22178528 2019-03-31 23:53:48 2019-04-01 00:01:16 5589   448.0       \n",
       "       from_station_id from_station_name         to_station_id\n",
       "365064  69             Damen Ave & Pierce Ave    183          \n",
       "365065  38             Clark St & Lake St         29          \n",
       "365066 129             Blue Island Ave & 18th St 202          \n",
       "365067 283             LaSalle St & Jackson Blvd 273          \n",
       "365068 321             Wabash Ave & 9th St        39          \n",
       "365069 248             Woodlawn Ave & 55th St    247          \n",
       "       to_station_name                      usertype   gender birthyear\n",
       "365064 Damen Ave & Thomas St (Augusta Blvd) Subscriber Male   1985     \n",
       "365065 Noble St & Milwaukee Ave             Subscriber Male   1993     \n",
       "365066 Halsted St & 18th St                 Subscriber Male   1992     \n",
       "365067 Michigan Ave & 18th St               Subscriber Male   1984     \n",
       "365068 Wabash Ave & Adams St                Subscriber Male   1969     \n",
       "365069 Shore Dr & 55th St                   Subscriber Male   1998     "
      ]
     },
     "metadata": {},
     "output_type": "display_data"
    },
    {
     "data": {
      "text/html": [
       "<table class=\"dataframe\">\n",
       "<caption>A data.frame: 6 × 12</caption>\n",
       "<thead>\n",
       "\t<tr><th></th><th scope=col>X01...Rental.Details.Rental.ID</th><th scope=col>X01...Rental.Details.Local.Start.Time</th><th scope=col>X01...Rental.Details.Local.End.Time</th><th scope=col>X01...Rental.Details.Bike.ID</th><th scope=col>X01...Rental.Details.Duration.In.Seconds.Uncapped</th><th scope=col>X03...Rental.Start.Station.ID</th><th scope=col>X03...Rental.Start.Station.Name</th><th scope=col>X02...Rental.End.Station.ID</th><th scope=col>X02...Rental.End.Station.Name</th><th scope=col>User.Type</th><th scope=col>Member.Gender</th><th scope=col>X05...Member.Details.Member.Birthday.Year</th></tr>\n",
       "\t<tr><th></th><th scope=col>&lt;int&gt;</th><th scope=col>&lt;chr&gt;</th><th scope=col>&lt;chr&gt;</th><th scope=col>&lt;int&gt;</th><th scope=col>&lt;chr&gt;</th><th scope=col>&lt;int&gt;</th><th scope=col>&lt;chr&gt;</th><th scope=col>&lt;int&gt;</th><th scope=col>&lt;chr&gt;</th><th scope=col>&lt;chr&gt;</th><th scope=col>&lt;chr&gt;</th><th scope=col>&lt;int&gt;</th></tr>\n",
       "</thead>\n",
       "<tbody>\n",
       "\t<tr><th scope=row>1108158</th><td>23479382</td><td>2019-06-30 23:57:55</td><td>2019-07-01 01:20:55</td><td>4281</td><td>4,980.0</td><td>515</td><td><span style=white-space:pre-wrap>Paulina St &amp; Howard St       </span></td><td>451</td><td>Sheridan Rd &amp; Loyola Ave</td><td><span style=white-space:pre-wrap>Customer  </span></td><td><span style=white-space:pre-wrap>      </span></td><td><span style=white-space:pre-wrap>  NA</span></td></tr>\n",
       "\t<tr><th scope=row>1108159</th><td>23479383</td><td>2019-06-30 23:58:00</td><td>2019-07-01 00:20:22</td><td>4573</td><td>1,342.0</td><td>206</td><td><span style=white-space:pre-wrap>Halsted St &amp; Archer Ave      </span></td><td>206</td><td>Halsted St &amp; Archer Ave </td><td><span style=white-space:pre-wrap>Customer  </span></td><td><span style=white-space:pre-wrap>      </span></td><td><span style=white-space:pre-wrap>  NA</span></td></tr>\n",
       "\t<tr><th scope=row>1108160</th><td>23479384</td><td>2019-06-30 23:58:04</td><td>2019-07-01 00:14:17</td><td>6301</td><td><span style=white-space:pre-wrap>973.0  </span></td><td>199</td><td><span style=white-space:pre-wrap>Wabash Ave &amp; Grand Ave       </span></td><td>338</td><td><span style=white-space:pre-wrap>Calumet Ave &amp; 18th St   </span></td><td>Subscriber</td><td><span style=white-space:pre-wrap>Male  </span></td><td>1980</td></tr>\n",
       "\t<tr><th scope=row>1108161</th><td>23479385</td><td>2019-06-30 23:58:20</td><td>2019-07-01 00:25:51</td><td>4472</td><td>1,651.0</td><td>319</td><td>Greenview Ave &amp; Diversey Pkwy</td><td>337</td><td><span style=white-space:pre-wrap>Clark St &amp; Chicago Ave  </span></td><td>Subscriber</td><td>Female</td><td>1991</td></tr>\n",
       "\t<tr><th scope=row>1108162</th><td>23479386</td><td>2019-06-30 23:58:52</td><td>2019-07-01 00:11:24</td><td>5021</td><td><span style=white-space:pre-wrap>752.0  </span></td><td>226</td><td><span style=white-space:pre-wrap>Racine Ave &amp; Belmont Ave     </span></td><td>300</td><td><span style=white-space:pre-wrap>Broadway &amp; Barry Ave    </span></td><td>Subscriber</td><td><span style=white-space:pre-wrap>Male  </span></td><td>1992</td></tr>\n",
       "\t<tr><th scope=row>1108163</th><td>23479387</td><td>2019-06-30 23:59:05</td><td>2019-07-01 00:26:14</td><td>4749</td><td>1,629.0</td><td> 85</td><td><span style=white-space:pre-wrap>Michigan Ave &amp; Oak St        </span></td><td>249</td><td><span style=white-space:pre-wrap>Montrose Harbor         </span></td><td>Subscriber</td><td><span style=white-space:pre-wrap>Male  </span></td><td>1987</td></tr>\n",
       "</tbody>\n",
       "</table>\n"
      ],
      "text/latex": [
       "A data.frame: 6 × 12\n",
       "\\begin{tabular}{r|llllllllllll}\n",
       "  & X01...Rental.Details.Rental.ID & X01...Rental.Details.Local.Start.Time & X01...Rental.Details.Local.End.Time & X01...Rental.Details.Bike.ID & X01...Rental.Details.Duration.In.Seconds.Uncapped & X03...Rental.Start.Station.ID & X03...Rental.Start.Station.Name & X02...Rental.End.Station.ID & X02...Rental.End.Station.Name & User.Type & Member.Gender & X05...Member.Details.Member.Birthday.Year\\\\\n",
       "  & <int> & <chr> & <chr> & <int> & <chr> & <int> & <chr> & <int> & <chr> & <chr> & <chr> & <int>\\\\\n",
       "\\hline\n",
       "\t1108158 & 23479382 & 2019-06-30 23:57:55 & 2019-07-01 01:20:55 & 4281 & 4,980.0 & 515 & Paulina St \\& Howard St        & 451 & Sheridan Rd \\& Loyola Ave & Customer   &        &   NA\\\\\n",
       "\t1108159 & 23479383 & 2019-06-30 23:58:00 & 2019-07-01 00:20:22 & 4573 & 1,342.0 & 206 & Halsted St \\& Archer Ave       & 206 & Halsted St \\& Archer Ave  & Customer   &        &   NA\\\\\n",
       "\t1108160 & 23479384 & 2019-06-30 23:58:04 & 2019-07-01 00:14:17 & 6301 & 973.0   & 199 & Wabash Ave \\& Grand Ave        & 338 & Calumet Ave \\& 18th St    & Subscriber & Male   & 1980\\\\\n",
       "\t1108161 & 23479385 & 2019-06-30 23:58:20 & 2019-07-01 00:25:51 & 4472 & 1,651.0 & 319 & Greenview Ave \\& Diversey Pkwy & 337 & Clark St \\& Chicago Ave   & Subscriber & Female & 1991\\\\\n",
       "\t1108162 & 23479386 & 2019-06-30 23:58:52 & 2019-07-01 00:11:24 & 5021 & 752.0   & 226 & Racine Ave \\& Belmont Ave      & 300 & Broadway \\& Barry Ave     & Subscriber & Male   & 1992\\\\\n",
       "\t1108163 & 23479387 & 2019-06-30 23:59:05 & 2019-07-01 00:26:14 & 4749 & 1,629.0 &  85 & Michigan Ave \\& Oak St         & 249 & Montrose Harbor          & Subscriber & Male   & 1987\\\\\n",
       "\\end{tabular}\n"
      ],
      "text/markdown": [
       "\n",
       "A data.frame: 6 × 12\n",
       "\n",
       "| <!--/--> | X01...Rental.Details.Rental.ID &lt;int&gt; | X01...Rental.Details.Local.Start.Time &lt;chr&gt; | X01...Rental.Details.Local.End.Time &lt;chr&gt; | X01...Rental.Details.Bike.ID &lt;int&gt; | X01...Rental.Details.Duration.In.Seconds.Uncapped &lt;chr&gt; | X03...Rental.Start.Station.ID &lt;int&gt; | X03...Rental.Start.Station.Name &lt;chr&gt; | X02...Rental.End.Station.ID &lt;int&gt; | X02...Rental.End.Station.Name &lt;chr&gt; | User.Type &lt;chr&gt; | Member.Gender &lt;chr&gt; | X05...Member.Details.Member.Birthday.Year &lt;int&gt; |\n",
       "|---|---|---|---|---|---|---|---|---|---|---|---|---|\n",
       "| 1108158 | 23479382 | 2019-06-30 23:57:55 | 2019-07-01 01:20:55 | 4281 | 4,980.0 | 515 | Paulina St &amp; Howard St        | 451 | Sheridan Rd &amp; Loyola Ave | Customer   | <!----> |   NA |\n",
       "| 1108159 | 23479383 | 2019-06-30 23:58:00 | 2019-07-01 00:20:22 | 4573 | 1,342.0 | 206 | Halsted St &amp; Archer Ave       | 206 | Halsted St &amp; Archer Ave  | Customer   | <!----> |   NA |\n",
       "| 1108160 | 23479384 | 2019-06-30 23:58:04 | 2019-07-01 00:14:17 | 6301 | 973.0   | 199 | Wabash Ave &amp; Grand Ave        | 338 | Calumet Ave &amp; 18th St    | Subscriber | Male   | 1980 |\n",
       "| 1108161 | 23479385 | 2019-06-30 23:58:20 | 2019-07-01 00:25:51 | 4472 | 1,651.0 | 319 | Greenview Ave &amp; Diversey Pkwy | 337 | Clark St &amp; Chicago Ave   | Subscriber | Female | 1991 |\n",
       "| 1108162 | 23479386 | 2019-06-30 23:58:52 | 2019-07-01 00:11:24 | 5021 | 752.0   | 226 | Racine Ave &amp; Belmont Ave      | 300 | Broadway &amp; Barry Ave     | Subscriber | Male   | 1992 |\n",
       "| 1108163 | 23479387 | 2019-06-30 23:59:05 | 2019-07-01 00:26:14 | 4749 | 1,629.0 |  85 | Michigan Ave &amp; Oak St         | 249 | Montrose Harbor          | Subscriber | Male   | 1987 |\n",
       "\n"
      ],
      "text/plain": [
       "        X01...Rental.Details.Rental.ID X01...Rental.Details.Local.Start.Time\n",
       "1108158 23479382                       2019-06-30 23:57:55                  \n",
       "1108159 23479383                       2019-06-30 23:58:00                  \n",
       "1108160 23479384                       2019-06-30 23:58:04                  \n",
       "1108161 23479385                       2019-06-30 23:58:20                  \n",
       "1108162 23479386                       2019-06-30 23:58:52                  \n",
       "1108163 23479387                       2019-06-30 23:59:05                  \n",
       "        X01...Rental.Details.Local.End.Time X01...Rental.Details.Bike.ID\n",
       "1108158 2019-07-01 01:20:55                 4281                        \n",
       "1108159 2019-07-01 00:20:22                 4573                        \n",
       "1108160 2019-07-01 00:14:17                 6301                        \n",
       "1108161 2019-07-01 00:25:51                 4472                        \n",
       "1108162 2019-07-01 00:11:24                 5021                        \n",
       "1108163 2019-07-01 00:26:14                 4749                        \n",
       "        X01...Rental.Details.Duration.In.Seconds.Uncapped\n",
       "1108158 4,980.0                                          \n",
       "1108159 1,342.0                                          \n",
       "1108160 973.0                                            \n",
       "1108161 1,651.0                                          \n",
       "1108162 752.0                                            \n",
       "1108163 1,629.0                                          \n",
       "        X03...Rental.Start.Station.ID X03...Rental.Start.Station.Name\n",
       "1108158 515                           Paulina St & Howard St         \n",
       "1108159 206                           Halsted St & Archer Ave        \n",
       "1108160 199                           Wabash Ave & Grand Ave         \n",
       "1108161 319                           Greenview Ave & Diversey Pkwy  \n",
       "1108162 226                           Racine Ave & Belmont Ave       \n",
       "1108163  85                           Michigan Ave & Oak St          \n",
       "        X02...Rental.End.Station.ID X02...Rental.End.Station.Name User.Type \n",
       "1108158 451                         Sheridan Rd & Loyola Ave      Customer  \n",
       "1108159 206                         Halsted St & Archer Ave       Customer  \n",
       "1108160 338                         Calumet Ave & 18th St         Subscriber\n",
       "1108161 337                         Clark St & Chicago Ave        Subscriber\n",
       "1108162 300                         Broadway & Barry Ave          Subscriber\n",
       "1108163 249                         Montrose Harbor               Subscriber\n",
       "        Member.Gender X05...Member.Details.Member.Birthday.Year\n",
       "1108158                 NA                                     \n",
       "1108159                 NA                                     \n",
       "1108160 Male          1980                                     \n",
       "1108161 Female        1991                                     \n",
       "1108162 Male          1992                                     \n",
       "1108163 Male          1987                                     "
      ]
     },
     "metadata": {},
     "output_type": "display_data"
    },
    {
     "data": {
      "text/html": [
       "<table class=\"dataframe\">\n",
       "<caption>A data.frame: 6 × 12</caption>\n",
       "<thead>\n",
       "\t<tr><th></th><th scope=col>trip_id</th><th scope=col>start_time</th><th scope=col>end_time</th><th scope=col>bikeid</th><th scope=col>tripduration</th><th scope=col>from_station_id</th><th scope=col>from_station_name</th><th scope=col>to_station_id</th><th scope=col>to_station_name</th><th scope=col>usertype</th><th scope=col>gender</th><th scope=col>birthyear</th></tr>\n",
       "\t<tr><th></th><th scope=col>&lt;int&gt;</th><th scope=col>&lt;chr&gt;</th><th scope=col>&lt;chr&gt;</th><th scope=col>&lt;int&gt;</th><th scope=col>&lt;chr&gt;</th><th scope=col>&lt;int&gt;</th><th scope=col>&lt;chr&gt;</th><th scope=col>&lt;int&gt;</th><th scope=col>&lt;chr&gt;</th><th scope=col>&lt;chr&gt;</th><th scope=col>&lt;chr&gt;</th><th scope=col>&lt;int&gt;</th></tr>\n",
       "</thead>\n",
       "<tbody>\n",
       "\t<tr><th scope=row>1640713</th><td>25223634</td><td>2019-09-30 23:56:12</td><td>2019-10-01 00:30:21</td><td> 400</td><td>2,049.0</td><td>264</td><td><span style=white-space:pre-wrap>Stetson Ave &amp; South Water St    </span></td><td>623</td><td><span style=white-space:pre-wrap>Michigan Ave &amp; 8th St           </span></td><td><span style=white-space:pre-wrap>Customer  </span></td><td><span style=white-space:pre-wrap>      </span></td><td><span style=white-space:pre-wrap>  NA</span></td></tr>\n",
       "\t<tr><th scope=row>1640714</th><td>25223635</td><td>2019-09-30 23:56:27</td><td>2019-10-01 00:06:20</td><td>5690</td><td><span style=white-space:pre-wrap>593.0  </span></td><td> 84</td><td><span style=white-space:pre-wrap>Milwaukee Ave &amp; Grand Ave       </span></td><td>134</td><td><span style=white-space:pre-wrap>Peoria St &amp; Jackson Blvd        </span></td><td>Subscriber</td><td><span style=white-space:pre-wrap>Male  </span></td><td>1993</td></tr>\n",
       "\t<tr><th scope=row>1640715</th><td>25223636</td><td>2019-09-30 23:57:02</td><td>2019-10-01 00:02:13</td><td>5079</td><td><span style=white-space:pre-wrap>310.0  </span></td><td>268</td><td><span style=white-space:pre-wrap>Lake Shore Dr &amp; North Blvd      </span></td><td> 85</td><td><span style=white-space:pre-wrap>Michigan Ave &amp; Oak St           </span></td><td>Subscriber</td><td><span style=white-space:pre-wrap>Male  </span></td><td>1992</td></tr>\n",
       "\t<tr><th scope=row>1640716</th><td>25223637</td><td>2019-09-30 23:57:45</td><td>2019-10-01 00:01:41</td><td>5535</td><td><span style=white-space:pre-wrap>235.0  </span></td><td>423</td><td><span style=white-space:pre-wrap>University Ave &amp; 57th St        </span></td><td>426</td><td><span style=white-space:pre-wrap>Ellis Ave &amp; 60th St             </span></td><td><span style=white-space:pre-wrap>Customer  </span></td><td><span style=white-space:pre-wrap>Male  </span></td><td>2000</td></tr>\n",
       "\t<tr><th scope=row>1640717</th><td>25223638</td><td>2019-09-30 23:57:47</td><td>2019-10-01 00:04:41</td><td>6120</td><td><span style=white-space:pre-wrap>414.0  </span></td><td>110</td><td><span style=white-space:pre-wrap>Dearborn St &amp; Erie St           </span></td><td> 31</td><td>Franklin St &amp; Chicago Ave (Temp)</td><td>Subscriber</td><td><span style=white-space:pre-wrap>Male  </span></td><td>1986</td></tr>\n",
       "\t<tr><th scope=row>1640718</th><td>25223639</td><td>2019-09-30 23:59:37</td><td>2019-10-01 00:05:17</td><td><span style=white-space:pre-wrap>  60</span></td><td><span style=white-space:pre-wrap>339.0  </span></td><td>265</td><td>Cottage Grove Ave &amp; Oakwood Blvd</td><td>179</td><td><span style=white-space:pre-wrap>MLK Jr Dr &amp; Pershing Rd         </span></td><td>Subscriber</td><td>Female</td><td>1996</td></tr>\n",
       "</tbody>\n",
       "</table>\n"
      ],
      "text/latex": [
       "A data.frame: 6 × 12\n",
       "\\begin{tabular}{r|llllllllllll}\n",
       "  & trip\\_id & start\\_time & end\\_time & bikeid & tripduration & from\\_station\\_id & from\\_station\\_name & to\\_station\\_id & to\\_station\\_name & usertype & gender & birthyear\\\\\n",
       "  & <int> & <chr> & <chr> & <int> & <chr> & <int> & <chr> & <int> & <chr> & <chr> & <chr> & <int>\\\\\n",
       "\\hline\n",
       "\t1640713 & 25223634 & 2019-09-30 23:56:12 & 2019-10-01 00:30:21 &  400 & 2,049.0 & 264 & Stetson Ave \\& South Water St     & 623 & Michigan Ave \\& 8th St            & Customer   &        &   NA\\\\\n",
       "\t1640714 & 25223635 & 2019-09-30 23:56:27 & 2019-10-01 00:06:20 & 5690 & 593.0   &  84 & Milwaukee Ave \\& Grand Ave        & 134 & Peoria St \\& Jackson Blvd         & Subscriber & Male   & 1993\\\\\n",
       "\t1640715 & 25223636 & 2019-09-30 23:57:02 & 2019-10-01 00:02:13 & 5079 & 310.0   & 268 & Lake Shore Dr \\& North Blvd       &  85 & Michigan Ave \\& Oak St            & Subscriber & Male   & 1992\\\\\n",
       "\t1640716 & 25223637 & 2019-09-30 23:57:45 & 2019-10-01 00:01:41 & 5535 & 235.0   & 423 & University Ave \\& 57th St         & 426 & Ellis Ave \\& 60th St              & Customer   & Male   & 2000\\\\\n",
       "\t1640717 & 25223638 & 2019-09-30 23:57:47 & 2019-10-01 00:04:41 & 6120 & 414.0   & 110 & Dearborn St \\& Erie St            &  31 & Franklin St \\& Chicago Ave (Temp) & Subscriber & Male   & 1986\\\\\n",
       "\t1640718 & 25223639 & 2019-09-30 23:59:37 & 2019-10-01 00:05:17 &   60 & 339.0   & 265 & Cottage Grove Ave \\& Oakwood Blvd & 179 & MLK Jr Dr \\& Pershing Rd          & Subscriber & Female & 1996\\\\\n",
       "\\end{tabular}\n"
      ],
      "text/markdown": [
       "\n",
       "A data.frame: 6 × 12\n",
       "\n",
       "| <!--/--> | trip_id &lt;int&gt; | start_time &lt;chr&gt; | end_time &lt;chr&gt; | bikeid &lt;int&gt; | tripduration &lt;chr&gt; | from_station_id &lt;int&gt; | from_station_name &lt;chr&gt; | to_station_id &lt;int&gt; | to_station_name &lt;chr&gt; | usertype &lt;chr&gt; | gender &lt;chr&gt; | birthyear &lt;int&gt; |\n",
       "|---|---|---|---|---|---|---|---|---|---|---|---|---|\n",
       "| 1640713 | 25223634 | 2019-09-30 23:56:12 | 2019-10-01 00:30:21 |  400 | 2,049.0 | 264 | Stetson Ave &amp; South Water St     | 623 | Michigan Ave &amp; 8th St            | Customer   | <!----> |   NA |\n",
       "| 1640714 | 25223635 | 2019-09-30 23:56:27 | 2019-10-01 00:06:20 | 5690 | 593.0   |  84 | Milwaukee Ave &amp; Grand Ave        | 134 | Peoria St &amp; Jackson Blvd         | Subscriber | Male   | 1993 |\n",
       "| 1640715 | 25223636 | 2019-09-30 23:57:02 | 2019-10-01 00:02:13 | 5079 | 310.0   | 268 | Lake Shore Dr &amp; North Blvd       |  85 | Michigan Ave &amp; Oak St            | Subscriber | Male   | 1992 |\n",
       "| 1640716 | 25223637 | 2019-09-30 23:57:45 | 2019-10-01 00:01:41 | 5535 | 235.0   | 423 | University Ave &amp; 57th St         | 426 | Ellis Ave &amp; 60th St              | Customer   | Male   | 2000 |\n",
       "| 1640717 | 25223638 | 2019-09-30 23:57:47 | 2019-10-01 00:04:41 | 6120 | 414.0   | 110 | Dearborn St &amp; Erie St            |  31 | Franklin St &amp; Chicago Ave (Temp) | Subscriber | Male   | 1986 |\n",
       "| 1640718 | 25223639 | 2019-09-30 23:59:37 | 2019-10-01 00:05:17 |   60 | 339.0   | 265 | Cottage Grove Ave &amp; Oakwood Blvd | 179 | MLK Jr Dr &amp; Pershing Rd          | Subscriber | Female | 1996 |\n",
       "\n"
      ],
      "text/plain": [
       "        trip_id  start_time          end_time            bikeid tripduration\n",
       "1640713 25223634 2019-09-30 23:56:12 2019-10-01 00:30:21  400   2,049.0     \n",
       "1640714 25223635 2019-09-30 23:56:27 2019-10-01 00:06:20 5690   593.0       \n",
       "1640715 25223636 2019-09-30 23:57:02 2019-10-01 00:02:13 5079   310.0       \n",
       "1640716 25223637 2019-09-30 23:57:45 2019-10-01 00:01:41 5535   235.0       \n",
       "1640717 25223638 2019-09-30 23:57:47 2019-10-01 00:04:41 6120   414.0       \n",
       "1640718 25223639 2019-09-30 23:59:37 2019-10-01 00:05:17   60   339.0       \n",
       "        from_station_id from_station_name                to_station_id\n",
       "1640713 264             Stetson Ave & South Water St     623          \n",
       "1640714  84             Milwaukee Ave & Grand Ave        134          \n",
       "1640715 268             Lake Shore Dr & North Blvd        85          \n",
       "1640716 423             University Ave & 57th St         426          \n",
       "1640717 110             Dearborn St & Erie St             31          \n",
       "1640718 265             Cottage Grove Ave & Oakwood Blvd 179          \n",
       "        to_station_name                  usertype   gender birthyear\n",
       "1640713 Michigan Ave & 8th St            Customer            NA     \n",
       "1640714 Peoria St & Jackson Blvd         Subscriber Male   1993     \n",
       "1640715 Michigan Ave & Oak St            Subscriber Male   1992     \n",
       "1640716 Ellis Ave & 60th St              Customer   Male   2000     \n",
       "1640717 Franklin St & Chicago Ave (Temp) Subscriber Male   1986     \n",
       "1640718 MLK Jr Dr & Pershing Rd          Subscriber Female 1996     "
      ]
     },
     "metadata": {},
     "output_type": "display_data"
    },
    {
     "data": {
      "text/html": [
       "<table class=\"dataframe\">\n",
       "<caption>A data.frame: 6 × 12</caption>\n",
       "<thead>\n",
       "\t<tr><th></th><th scope=col>trip_id</th><th scope=col>start_time</th><th scope=col>end_time</th><th scope=col>bikeid</th><th scope=col>tripduration</th><th scope=col>from_station_id</th><th scope=col>from_station_name</th><th scope=col>to_station_id</th><th scope=col>to_station_name</th><th scope=col>usertype</th><th scope=col>gender</th><th scope=col>birthyear</th></tr>\n",
       "\t<tr><th></th><th scope=col>&lt;int&gt;</th><th scope=col>&lt;chr&gt;</th><th scope=col>&lt;chr&gt;</th><th scope=col>&lt;int&gt;</th><th scope=col>&lt;chr&gt;</th><th scope=col>&lt;int&gt;</th><th scope=col>&lt;chr&gt;</th><th scope=col>&lt;int&gt;</th><th scope=col>&lt;chr&gt;</th><th scope=col>&lt;chr&gt;</th><th scope=col>&lt;chr&gt;</th><th scope=col>&lt;int&gt;</th></tr>\n",
       "</thead>\n",
       "<tbody>\n",
       "\t<tr><th scope=row>704049</th><td>25962899</td><td>2019-12-31 23:54:54</td><td>2020-01-01 00:22:02</td><td>5996</td><td>1,628.0</td><td>145</td><td>Mies van der Rohe Way &amp; Chestnut St</td><td> 25</td><td><span style=white-space:pre-wrap>Michigan Ave &amp; Pearson St   </span></td><td>Subscriber</td><td><span style=white-space:pre-wrap>Male  </span></td><td>1992</td></tr>\n",
       "\t<tr><th scope=row>704050</th><td>25962900</td><td>2019-12-31 23:56:13</td><td>2020-01-01 00:15:45</td><td>2196</td><td>1,172.0</td><td>112</td><td><span style=white-space:pre-wrap>Green St &amp; Randolph St             </span></td><td>225</td><td><span style=white-space:pre-wrap>Halsted St &amp; Dickens Ave    </span></td><td>Subscriber</td><td><span style=white-space:pre-wrap>Male  </span></td><td>1981</td></tr>\n",
       "\t<tr><th scope=row>704051</th><td>25962901</td><td>2019-12-31 23:56:34</td><td>2020-01-01 00:22:08</td><td>4877</td><td>1,533.0</td><td> 90</td><td>Millennium Park                    </td><td> 90</td><td>Millennium Park             </td><td>Subscriber</td><td>Male  </td><td>1992</td></tr>\n",
       "\t<tr><th scope=row>704052</th><td>25962902</td><td>2019-12-31 23:57:05</td><td>2020-01-01 00:05:46</td><td> 863</td><td><span style=white-space:pre-wrap>520.0  </span></td><td>623</td><td><span style=white-space:pre-wrap>Michigan Ave &amp; 8th St              </span></td><td> 52</td><td><span style=white-space:pre-wrap>Michigan Ave &amp; Lake St      </span></td><td>Subscriber</td><td><span style=white-space:pre-wrap>Male  </span></td><td>1967</td></tr>\n",
       "\t<tr><th scope=row>704053</th><td>25962903</td><td>2019-12-31 23:57:11</td><td>2020-01-01 00:05:45</td><td>2637</td><td><span style=white-space:pre-wrap>514.0  </span></td><td>623</td><td><span style=white-space:pre-wrap>Michigan Ave &amp; 8th St              </span></td><td> 52</td><td><span style=white-space:pre-wrap>Michigan Ave &amp; Lake St      </span></td><td>Subscriber</td><td>Female</td><td>1970</td></tr>\n",
       "\t<tr><th scope=row>704054</th><td>25962904</td><td>2019-12-31 23:57:17</td><td>2019-12-31 23:59:18</td><td>5930</td><td><span style=white-space:pre-wrap>120.0  </span></td><td>256</td><td><span style=white-space:pre-wrap>Broadway &amp; Sheridan Rd             </span></td><td>240</td><td>Sheridan Rd &amp; Irving Park Rd</td><td>Subscriber</td><td><span style=white-space:pre-wrap>Male  </span></td><td>1982</td></tr>\n",
       "</tbody>\n",
       "</table>\n"
      ],
      "text/latex": [
       "A data.frame: 6 × 12\n",
       "\\begin{tabular}{r|llllllllllll}\n",
       "  & trip\\_id & start\\_time & end\\_time & bikeid & tripduration & from\\_station\\_id & from\\_station\\_name & to\\_station\\_id & to\\_station\\_name & usertype & gender & birthyear\\\\\n",
       "  & <int> & <chr> & <chr> & <int> & <chr> & <int> & <chr> & <int> & <chr> & <chr> & <chr> & <int>\\\\\n",
       "\\hline\n",
       "\t704049 & 25962899 & 2019-12-31 23:54:54 & 2020-01-01 00:22:02 & 5996 & 1,628.0 & 145 & Mies van der Rohe Way \\& Chestnut St &  25 & Michigan Ave \\& Pearson St    & Subscriber & Male   & 1992\\\\\n",
       "\t704050 & 25962900 & 2019-12-31 23:56:13 & 2020-01-01 00:15:45 & 2196 & 1,172.0 & 112 & Green St \\& Randolph St              & 225 & Halsted St \\& Dickens Ave     & Subscriber & Male   & 1981\\\\\n",
       "\t704051 & 25962901 & 2019-12-31 23:56:34 & 2020-01-01 00:22:08 & 4877 & 1,533.0 &  90 & Millennium Park                     &  90 & Millennium Park              & Subscriber & Male   & 1992\\\\\n",
       "\t704052 & 25962902 & 2019-12-31 23:57:05 & 2020-01-01 00:05:46 &  863 & 520.0   & 623 & Michigan Ave \\& 8th St               &  52 & Michigan Ave \\& Lake St       & Subscriber & Male   & 1967\\\\\n",
       "\t704053 & 25962903 & 2019-12-31 23:57:11 & 2020-01-01 00:05:45 & 2637 & 514.0   & 623 & Michigan Ave \\& 8th St               &  52 & Michigan Ave \\& Lake St       & Subscriber & Female & 1970\\\\\n",
       "\t704054 & 25962904 & 2019-12-31 23:57:17 & 2019-12-31 23:59:18 & 5930 & 120.0   & 256 & Broadway \\& Sheridan Rd              & 240 & Sheridan Rd \\& Irving Park Rd & Subscriber & Male   & 1982\\\\\n",
       "\\end{tabular}\n"
      ],
      "text/markdown": [
       "\n",
       "A data.frame: 6 × 12\n",
       "\n",
       "| <!--/--> | trip_id &lt;int&gt; | start_time &lt;chr&gt; | end_time &lt;chr&gt; | bikeid &lt;int&gt; | tripduration &lt;chr&gt; | from_station_id &lt;int&gt; | from_station_name &lt;chr&gt; | to_station_id &lt;int&gt; | to_station_name &lt;chr&gt; | usertype &lt;chr&gt; | gender &lt;chr&gt; | birthyear &lt;int&gt; |\n",
       "|---|---|---|---|---|---|---|---|---|---|---|---|---|\n",
       "| 704049 | 25962899 | 2019-12-31 23:54:54 | 2020-01-01 00:22:02 | 5996 | 1,628.0 | 145 | Mies van der Rohe Way &amp; Chestnut St |  25 | Michigan Ave &amp; Pearson St    | Subscriber | Male   | 1992 |\n",
       "| 704050 | 25962900 | 2019-12-31 23:56:13 | 2020-01-01 00:15:45 | 2196 | 1,172.0 | 112 | Green St &amp; Randolph St              | 225 | Halsted St &amp; Dickens Ave     | Subscriber | Male   | 1981 |\n",
       "| 704051 | 25962901 | 2019-12-31 23:56:34 | 2020-01-01 00:22:08 | 4877 | 1,533.0 |  90 | Millennium Park                     |  90 | Millennium Park              | Subscriber | Male   | 1992 |\n",
       "| 704052 | 25962902 | 2019-12-31 23:57:05 | 2020-01-01 00:05:46 |  863 | 520.0   | 623 | Michigan Ave &amp; 8th St               |  52 | Michigan Ave &amp; Lake St       | Subscriber | Male   | 1967 |\n",
       "| 704053 | 25962903 | 2019-12-31 23:57:11 | 2020-01-01 00:05:45 | 2637 | 514.0   | 623 | Michigan Ave &amp; 8th St               |  52 | Michigan Ave &amp; Lake St       | Subscriber | Female | 1970 |\n",
       "| 704054 | 25962904 | 2019-12-31 23:57:17 | 2019-12-31 23:59:18 | 5930 | 120.0   | 256 | Broadway &amp; Sheridan Rd              | 240 | Sheridan Rd &amp; Irving Park Rd | Subscriber | Male   | 1982 |\n",
       "\n"
      ],
      "text/plain": [
       "       trip_id  start_time          end_time            bikeid tripduration\n",
       "704049 25962899 2019-12-31 23:54:54 2020-01-01 00:22:02 5996   1,628.0     \n",
       "704050 25962900 2019-12-31 23:56:13 2020-01-01 00:15:45 2196   1,172.0     \n",
       "704051 25962901 2019-12-31 23:56:34 2020-01-01 00:22:08 4877   1,533.0     \n",
       "704052 25962902 2019-12-31 23:57:05 2020-01-01 00:05:46  863   520.0       \n",
       "704053 25962903 2019-12-31 23:57:11 2020-01-01 00:05:45 2637   514.0       \n",
       "704054 25962904 2019-12-31 23:57:17 2019-12-31 23:59:18 5930   120.0       \n",
       "       from_station_id from_station_name                   to_station_id\n",
       "704049 145             Mies van der Rohe Way & Chestnut St  25          \n",
       "704050 112             Green St & Randolph St              225          \n",
       "704051  90             Millennium Park                      90          \n",
       "704052 623             Michigan Ave & 8th St                52          \n",
       "704053 623             Michigan Ave & 8th St                52          \n",
       "704054 256             Broadway & Sheridan Rd              240          \n",
       "       to_station_name              usertype   gender birthyear\n",
       "704049 Michigan Ave & Pearson St    Subscriber Male   1992     \n",
       "704050 Halsted St & Dickens Ave     Subscriber Male   1981     \n",
       "704051 Millennium Park              Subscriber Male   1992     \n",
       "704052 Michigan Ave & Lake St       Subscriber Male   1967     \n",
       "704053 Michigan Ave & Lake St       Subscriber Female 1970     \n",
       "704054 Sheridan Rd & Irving Park Rd Subscriber Male   1982     "
      ]
     },
     "metadata": {},
     "output_type": "display_data"
    }
   ],
   "source": [
    "tail(base_19Q1)\n",
    "tail(base_19Q2)\n",
    "tail(base_19Q3)\n",
    "tail(base_19Q4)"
   ]
  },
  {
   "cell_type": "code",
   "execution_count": 7,
   "id": "882e2ca1-f661-4901-b7fd-7022afaf6d47",
   "metadata": {},
   "outputs": [],
   "source": [
    "# Loading 2020 Q1 data\n",
    "base_20Q1 <- read.csv(\"./Divvy_trips_2020_Q1/Divvy_Trips_2020_Q1.csv\")"
   ]
  },
  {
   "cell_type": "code",
   "execution_count": 8,
   "id": "9ac8697d-8656-4daa-819a-dd5c745debbf",
   "metadata": {},
   "outputs": [
    {
     "data": {
      "text/html": [
       "<style>\n",
       ".list-inline {list-style: none; margin:0; padding: 0}\n",
       ".list-inline>li {display: inline-block}\n",
       ".list-inline>li:not(:last-child)::after {content: \"\\00b7\"; padding: 0 .5ex}\n",
       "</style>\n",
       "<ol class=list-inline><li>'ride_id'</li><li>'rideable_type'</li><li>'started_at'</li><li>'ended_at'</li><li>'start_station_name'</li><li>'start_station_id'</li><li>'end_station_name'</li><li>'end_station_id'</li><li>'start_lat'</li><li>'start_lng'</li><li>'end_lat'</li><li>'end_lng'</li><li>'member_casual'</li></ol>\n"
      ],
      "text/latex": [
       "\\begin{enumerate*}\n",
       "\\item 'ride\\_id'\n",
       "\\item 'rideable\\_type'\n",
       "\\item 'started\\_at'\n",
       "\\item 'ended\\_at'\n",
       "\\item 'start\\_station\\_name'\n",
       "\\item 'start\\_station\\_id'\n",
       "\\item 'end\\_station\\_name'\n",
       "\\item 'end\\_station\\_id'\n",
       "\\item 'start\\_lat'\n",
       "\\item 'start\\_lng'\n",
       "\\item 'end\\_lat'\n",
       "\\item 'end\\_lng'\n",
       "\\item 'member\\_casual'\n",
       "\\end{enumerate*}\n"
      ],
      "text/markdown": [
       "1. 'ride_id'\n",
       "2. 'rideable_type'\n",
       "3. 'started_at'\n",
       "4. 'ended_at'\n",
       "5. 'start_station_name'\n",
       "6. 'start_station_id'\n",
       "7. 'end_station_name'\n",
       "8. 'end_station_id'\n",
       "9. 'start_lat'\n",
       "10. 'start_lng'\n",
       "11. 'end_lat'\n",
       "12. 'end_lng'\n",
       "13. 'member_casual'\n",
       "\n",
       "\n"
      ],
      "text/plain": [
       " [1] \"ride_id\"            \"rideable_type\"      \"started_at\"        \n",
       " [4] \"ended_at\"           \"start_station_name\" \"start_station_id\"  \n",
       " [7] \"end_station_name\"   \"end_station_id\"     \"start_lat\"         \n",
       "[10] \"start_lng\"          \"end_lat\"            \"end_lng\"           \n",
       "[13] \"member_casual\"     "
      ]
     },
     "metadata": {},
     "output_type": "display_data"
    }
   ],
   "source": [
    "# Checking 2020 Q1 data\n",
    "colnames(base_20Q1)"
   ]
  },
  {
   "cell_type": "code",
   "execution_count": 10,
   "id": "7bbd9093-ccc5-489f-b5f4-9101e9eb5a88",
   "metadata": {},
   "outputs": [
    {
     "name": "stderr",
     "output_type": "stream",
     "text": [
      "\n",
      "Attaching package: 'data.table'\n",
      "\n",
      "\n",
      "The following objects are masked from 'package:lubridate':\n",
      "\n",
      "    hour, isoweek, mday, minute, month, quarter, second, wday, week,\n",
      "    yday, year\n",
      "\n",
      "\n",
      "The following object is masked from 'package:purrr':\n",
      "\n",
      "    transpose\n",
      "\n",
      "\n",
      "The following objects are masked from 'package:dplyr':\n",
      "\n",
      "    between, first, last\n",
      "\n",
      "\n"
     ]
    }
   ],
   "source": [
    "# Loading another package\n",
    "library(data.table)"
   ]
  },
  {
   "cell_type": "code",
   "execution_count": 11,
   "id": "ca1ffd22-1ac9-40cb-9f24-a631f744c834",
   "metadata": {},
   "outputs": [],
   "source": [
    "# Loading 2020 Q2 data\n",
    "files <- list.files(path = \"./Divvy_Trips_2020_Q2\", pattern = \".csv\")\n",
    "setwd('./Divvy_Trips_2020_Q2')\n",
    "temp <- lapply(files, read.csv)\n",
    "base_20Q2 <- rbindlist( temp )"
   ]
  },
  {
   "cell_type": "code",
   "execution_count": 12,
   "id": "b0ef124e-f3fe-4adb-99e4-69620fc4b223",
   "metadata": {},
   "outputs": [],
   "source": [
    "# Loading 2020 Q3 data\n",
    "setwd('..')\n",
    "files <- list.files(path = \"./Divvy_Trips_2020_Q3\", pattern = \".csv\")\n",
    "setwd('./Divvy_Trips_2020_Q3')\n",
    "temp <- lapply(files, read.csv)\n",
    "base_20Q3 <- rbindlist( temp )"
   ]
  },
  {
   "cell_type": "code",
   "execution_count": 13,
   "id": "0fec5476-4f93-4ec4-a264-b3763b218e1e",
   "metadata": {},
   "outputs": [
    {
     "data": {
      "text/html": [
       "'C:/Users/William/Documents/Training/Google/Google Data Analyst Career Certification/Capstone'"
      ],
      "text/latex": [
       "'C:/Users/William/Documents/Training/Google/Google Data Analyst Career Certification/Capstone'"
      ],
      "text/markdown": [
       "'C:/Users/William/Documents/Training/Google/Google Data Analyst Career Certification/Capstone'"
      ],
      "text/plain": [
       "[1] \"C:/Users/William/Documents/Training/Google/Google Data Analyst Career Certification/Capstone\""
      ]
     },
     "metadata": {},
     "output_type": "display_data"
    }
   ],
   "source": [
    "# Loading 2020 Q4 data\n",
    "setwd('..')\n",
    "files <- list.files(path = \"./Divvy_Trips_2020_Q4\", pattern = \".csv\")\n",
    "setwd('./Divvy_Trips_2020_Q4')\n",
    "temp <- lapply(files, read.csv)\n",
    "base_20Q4 <- rbindlist( temp )\n",
    "\n",
    "# Setting path back to default\n",
    "setwd('..')\n",
    "getwd()"
   ]
  },
  {
   "cell_type": "code",
   "execution_count": 14,
   "id": "4f6e2dd3-dd9e-4720-8199-a0b757a36fee",
   "metadata": {},
   "outputs": [
    {
     "data": {
      "text/html": [
       "<table class=\"dataframe\">\n",
       "<caption>A data.frame: 6 × 13</caption>\n",
       "<thead>\n",
       "\t<tr><th></th><th scope=col>ride_id</th><th scope=col>rideable_type</th><th scope=col>started_at</th><th scope=col>ended_at</th><th scope=col>start_station_name</th><th scope=col>start_station_id</th><th scope=col>end_station_name</th><th scope=col>end_station_id</th><th scope=col>start_lat</th><th scope=col>start_lng</th><th scope=col>end_lat</th><th scope=col>end_lng</th><th scope=col>member_casual</th></tr>\n",
       "\t<tr><th></th><th scope=col>&lt;chr&gt;</th><th scope=col>&lt;chr&gt;</th><th scope=col>&lt;chr&gt;</th><th scope=col>&lt;chr&gt;</th><th scope=col>&lt;chr&gt;</th><th scope=col>&lt;int&gt;</th><th scope=col>&lt;chr&gt;</th><th scope=col>&lt;int&gt;</th><th scope=col>&lt;dbl&gt;</th><th scope=col>&lt;dbl&gt;</th><th scope=col>&lt;dbl&gt;</th><th scope=col>&lt;dbl&gt;</th><th scope=col>&lt;chr&gt;</th></tr>\n",
       "</thead>\n",
       "<tbody>\n",
       "\t<tr><th scope=row>1</th><td>EACB19130B0CDA4A</td><td>docked_bike</td><td>2020-01-21 20:06:59</td><td>2020-01-21 20:14:30</td><td>Western Ave &amp; Leland Ave</td><td>239</td><td><span style=white-space:pre-wrap>Clark St &amp; Leland Ave         </span></td><td>326</td><td>41.9665</td><td>-87.6884</td><td>41.9671</td><td>-87.6674</td><td>member</td></tr>\n",
       "\t<tr><th scope=row>2</th><td>8FED874C809DC021</td><td>docked_bike</td><td>2020-01-30 14:22:39</td><td>2020-01-30 14:26:22</td><td>Clark St &amp; Montrose Ave </td><td>234</td><td>Southport Ave &amp; Irving Park Rd</td><td>318</td><td>41.9616</td><td>-87.6660</td><td>41.9542</td><td>-87.6644</td><td>member</td></tr>\n",
       "\t<tr><th scope=row>3</th><td>789F3C21E472CA96</td><td>docked_bike</td><td>2020-01-09 19:29:26</td><td>2020-01-09 19:32:17</td><td><span style=white-space:pre-wrap>Broadway &amp; Belmont Ave  </span></td><td>296</td><td><span style=white-space:pre-wrap>Wilton Ave &amp; Belmont Ave      </span></td><td>117</td><td>41.9401</td><td>-87.6455</td><td>41.9402</td><td>-87.6530</td><td>member</td></tr>\n",
       "\t<tr><th scope=row>4</th><td>C9A388DAC6ABF313</td><td>docked_bike</td><td>2020-01-06 16:17:07</td><td>2020-01-06 16:25:56</td><td><span style=white-space:pre-wrap>Clark St &amp; Randolph St  </span></td><td> 51</td><td><span style=white-space:pre-wrap>Fairbanks Ct &amp; Grand Ave      </span></td><td> 24</td><td>41.8846</td><td>-87.6319</td><td>41.8918</td><td>-87.6206</td><td>member</td></tr>\n",
       "\t<tr><th scope=row>5</th><td>943BC3CBECCFD662</td><td>docked_bike</td><td>2020-01-30 08:37:16</td><td>2020-01-30 08:42:48</td><td><span style=white-space:pre-wrap>Clinton St &amp; Lake St    </span></td><td> 66</td><td><span style=white-space:pre-wrap>Wells St &amp; Hubbard St         </span></td><td>212</td><td>41.8856</td><td>-87.6418</td><td>41.8899</td><td>-87.6343</td><td>member</td></tr>\n",
       "\t<tr><th scope=row>6</th><td>6D9C8A6938165C11</td><td>docked_bike</td><td>2020-01-10 12:33:05</td><td>2020-01-10 12:37:54</td><td><span style=white-space:pre-wrap>Wells St &amp; Hubbard St   </span></td><td>212</td><td><span style=white-space:pre-wrap>Desplaines St &amp; Randolph St   </span></td><td> 96</td><td>41.8899</td><td>-87.6343</td><td>41.8846</td><td>-87.6446</td><td>member</td></tr>\n",
       "</tbody>\n",
       "</table>\n"
      ],
      "text/latex": [
       "A data.frame: 6 × 13\n",
       "\\begin{tabular}{r|lllllllllllll}\n",
       "  & ride\\_id & rideable\\_type & started\\_at & ended\\_at & start\\_station\\_name & start\\_station\\_id & end\\_station\\_name & end\\_station\\_id & start\\_lat & start\\_lng & end\\_lat & end\\_lng & member\\_casual\\\\\n",
       "  & <chr> & <chr> & <chr> & <chr> & <chr> & <int> & <chr> & <int> & <dbl> & <dbl> & <dbl> & <dbl> & <chr>\\\\\n",
       "\\hline\n",
       "\t1 & EACB19130B0CDA4A & docked\\_bike & 2020-01-21 20:06:59 & 2020-01-21 20:14:30 & Western Ave \\& Leland Ave & 239 & Clark St \\& Leland Ave          & 326 & 41.9665 & -87.6884 & 41.9671 & -87.6674 & member\\\\\n",
       "\t2 & 8FED874C809DC021 & docked\\_bike & 2020-01-30 14:22:39 & 2020-01-30 14:26:22 & Clark St \\& Montrose Ave  & 234 & Southport Ave \\& Irving Park Rd & 318 & 41.9616 & -87.6660 & 41.9542 & -87.6644 & member\\\\\n",
       "\t3 & 789F3C21E472CA96 & docked\\_bike & 2020-01-09 19:29:26 & 2020-01-09 19:32:17 & Broadway \\& Belmont Ave   & 296 & Wilton Ave \\& Belmont Ave       & 117 & 41.9401 & -87.6455 & 41.9402 & -87.6530 & member\\\\\n",
       "\t4 & C9A388DAC6ABF313 & docked\\_bike & 2020-01-06 16:17:07 & 2020-01-06 16:25:56 & Clark St \\& Randolph St   &  51 & Fairbanks Ct \\& Grand Ave       &  24 & 41.8846 & -87.6319 & 41.8918 & -87.6206 & member\\\\\n",
       "\t5 & 943BC3CBECCFD662 & docked\\_bike & 2020-01-30 08:37:16 & 2020-01-30 08:42:48 & Clinton St \\& Lake St     &  66 & Wells St \\& Hubbard St          & 212 & 41.8856 & -87.6418 & 41.8899 & -87.6343 & member\\\\\n",
       "\t6 & 6D9C8A6938165C11 & docked\\_bike & 2020-01-10 12:33:05 & 2020-01-10 12:37:54 & Wells St \\& Hubbard St    & 212 & Desplaines St \\& Randolph St    &  96 & 41.8899 & -87.6343 & 41.8846 & -87.6446 & member\\\\\n",
       "\\end{tabular}\n"
      ],
      "text/markdown": [
       "\n",
       "A data.frame: 6 × 13\n",
       "\n",
       "| <!--/--> | ride_id &lt;chr&gt; | rideable_type &lt;chr&gt; | started_at &lt;chr&gt; | ended_at &lt;chr&gt; | start_station_name &lt;chr&gt; | start_station_id &lt;int&gt; | end_station_name &lt;chr&gt; | end_station_id &lt;int&gt; | start_lat &lt;dbl&gt; | start_lng &lt;dbl&gt; | end_lat &lt;dbl&gt; | end_lng &lt;dbl&gt; | member_casual &lt;chr&gt; |\n",
       "|---|---|---|---|---|---|---|---|---|---|---|---|---|---|\n",
       "| 1 | EACB19130B0CDA4A | docked_bike | 2020-01-21 20:06:59 | 2020-01-21 20:14:30 | Western Ave &amp; Leland Ave | 239 | Clark St &amp; Leland Ave          | 326 | 41.9665 | -87.6884 | 41.9671 | -87.6674 | member |\n",
       "| 2 | 8FED874C809DC021 | docked_bike | 2020-01-30 14:22:39 | 2020-01-30 14:26:22 | Clark St &amp; Montrose Ave  | 234 | Southport Ave &amp; Irving Park Rd | 318 | 41.9616 | -87.6660 | 41.9542 | -87.6644 | member |\n",
       "| 3 | 789F3C21E472CA96 | docked_bike | 2020-01-09 19:29:26 | 2020-01-09 19:32:17 | Broadway &amp; Belmont Ave   | 296 | Wilton Ave &amp; Belmont Ave       | 117 | 41.9401 | -87.6455 | 41.9402 | -87.6530 | member |\n",
       "| 4 | C9A388DAC6ABF313 | docked_bike | 2020-01-06 16:17:07 | 2020-01-06 16:25:56 | Clark St &amp; Randolph St   |  51 | Fairbanks Ct &amp; Grand Ave       |  24 | 41.8846 | -87.6319 | 41.8918 | -87.6206 | member |\n",
       "| 5 | 943BC3CBECCFD662 | docked_bike | 2020-01-30 08:37:16 | 2020-01-30 08:42:48 | Clinton St &amp; Lake St     |  66 | Wells St &amp; Hubbard St          | 212 | 41.8856 | -87.6418 | 41.8899 | -87.6343 | member |\n",
       "| 6 | 6D9C8A6938165C11 | docked_bike | 2020-01-10 12:33:05 | 2020-01-10 12:37:54 | Wells St &amp; Hubbard St    | 212 | Desplaines St &amp; Randolph St    |  96 | 41.8899 | -87.6343 | 41.8846 | -87.6446 | member |\n",
       "\n"
      ],
      "text/plain": [
       "  ride_id          rideable_type started_at          ended_at           \n",
       "1 EACB19130B0CDA4A docked_bike   2020-01-21 20:06:59 2020-01-21 20:14:30\n",
       "2 8FED874C809DC021 docked_bike   2020-01-30 14:22:39 2020-01-30 14:26:22\n",
       "3 789F3C21E472CA96 docked_bike   2020-01-09 19:29:26 2020-01-09 19:32:17\n",
       "4 C9A388DAC6ABF313 docked_bike   2020-01-06 16:17:07 2020-01-06 16:25:56\n",
       "5 943BC3CBECCFD662 docked_bike   2020-01-30 08:37:16 2020-01-30 08:42:48\n",
       "6 6D9C8A6938165C11 docked_bike   2020-01-10 12:33:05 2020-01-10 12:37:54\n",
       "  start_station_name       start_station_id end_station_name              \n",
       "1 Western Ave & Leland Ave 239              Clark St & Leland Ave         \n",
       "2 Clark St & Montrose Ave  234              Southport Ave & Irving Park Rd\n",
       "3 Broadway & Belmont Ave   296              Wilton Ave & Belmont Ave      \n",
       "4 Clark St & Randolph St    51              Fairbanks Ct & Grand Ave      \n",
       "5 Clinton St & Lake St      66              Wells St & Hubbard St         \n",
       "6 Wells St & Hubbard St    212              Desplaines St & Randolph St   \n",
       "  end_station_id start_lat start_lng end_lat end_lng  member_casual\n",
       "1 326            41.9665   -87.6884  41.9671 -87.6674 member       \n",
       "2 318            41.9616   -87.6660  41.9542 -87.6644 member       \n",
       "3 117            41.9401   -87.6455  41.9402 -87.6530 member       \n",
       "4  24            41.8846   -87.6319  41.8918 -87.6206 member       \n",
       "5 212            41.8856   -87.6418  41.8899 -87.6343 member       \n",
       "6  96            41.8899   -87.6343  41.8846 -87.6446 member       "
      ]
     },
     "metadata": {},
     "output_type": "display_data"
    },
    {
     "data": {
      "text/html": [
       "<table class=\"dataframe\">\n",
       "<caption>A data.table: 6 × 13</caption>\n",
       "<thead>\n",
       "\t<tr><th scope=col>ride_id</th><th scope=col>rideable_type</th><th scope=col>started_at</th><th scope=col>ended_at</th><th scope=col>start_station_name</th><th scope=col>start_station_id</th><th scope=col>end_station_name</th><th scope=col>end_station_id</th><th scope=col>start_lat</th><th scope=col>start_lng</th><th scope=col>end_lat</th><th scope=col>end_lng</th><th scope=col>member_casual</th></tr>\n",
       "\t<tr><th scope=col>&lt;chr&gt;</th><th scope=col>&lt;chr&gt;</th><th scope=col>&lt;chr&gt;</th><th scope=col>&lt;chr&gt;</th><th scope=col>&lt;chr&gt;</th><th scope=col>&lt;int&gt;</th><th scope=col>&lt;chr&gt;</th><th scope=col>&lt;int&gt;</th><th scope=col>&lt;dbl&gt;</th><th scope=col>&lt;dbl&gt;</th><th scope=col>&lt;dbl&gt;</th><th scope=col>&lt;dbl&gt;</th><th scope=col>&lt;chr&gt;</th></tr>\n",
       "</thead>\n",
       "<tbody>\n",
       "\t<tr><td>A847FADBBC638E45</td><td>docked_bike</td><td>2020-04-26 17:45:14</td><td>2020-04-26 18:12:03</td><td><span style=white-space:pre-wrap>Eckhart Park                       </span></td><td> 86</td><td>Lincoln Ave &amp; Diversey Pkwy</td><td>152</td><td>41.8964</td><td>-87.6610</td><td>41.9322</td><td>-87.6586</td><td>member</td></tr>\n",
       "\t<tr><td>5405B80E996FF60D</td><td>docked_bike</td><td>2020-04-17 17:08:54</td><td>2020-04-17 17:17:03</td><td><span style=white-space:pre-wrap>Drake Ave &amp; Fullerton Ave          </span></td><td>503</td><td><span style=white-space:pre-wrap>Kosciuszko Park            </span></td><td>499</td><td>41.9244</td><td>-87.7154</td><td>41.9306</td><td>-87.7238</td><td>member</td></tr>\n",
       "\t<tr><td>5DD24A79A4E006F4</td><td>docked_bike</td><td>2020-04-01 17:54:13</td><td>2020-04-01 18:08:36</td><td><span style=white-space:pre-wrap>McClurg Ct &amp; Erie St               </span></td><td>142</td><td>Indiana Ave &amp; Roosevelt Rd </td><td>255</td><td>41.8945</td><td>-87.6179</td><td>41.8679</td><td>-87.6230</td><td>member</td></tr>\n",
       "\t<tr><td>2A59BBDF5CDBA725</td><td>docked_bike</td><td>2020-04-07 12:50:19</td><td>2020-04-07 13:02:31</td><td><span style=white-space:pre-wrap>California Ave &amp; Division St       </span></td><td>216</td><td><span style=white-space:pre-wrap>Wood St &amp; Augusta Blvd     </span></td><td>657</td><td>41.9030</td><td>-87.6975</td><td>41.8992</td><td>-87.6722</td><td>member</td></tr>\n",
       "\t<tr><td>27AD306C119C6158</td><td>docked_bike</td><td>2020-04-18 10:22:59</td><td>2020-04-18 11:15:54</td><td><span style=white-space:pre-wrap>Rush St &amp; Hubbard St               </span></td><td>125</td><td>Sheridan Rd &amp; Lawrence Ave </td><td>323</td><td>41.8902</td><td>-87.6262</td><td>41.9695</td><td>-87.6547</td><td>casual</td></tr>\n",
       "\t<tr><td>356216E875132F61</td><td>docked_bike</td><td>2020-04-30 17:55:47</td><td>2020-04-30 18:01:11</td><td>Mies van der Rohe Way &amp; Chicago Ave</td><td>173</td><td><span style=white-space:pre-wrap>Streeter Dr &amp; Grand Ave    </span></td><td> 35</td><td>41.8969</td><td>-87.6217</td><td>41.8923</td><td>-87.6120</td><td>member</td></tr>\n",
       "</tbody>\n",
       "</table>\n"
      ],
      "text/latex": [
       "A data.table: 6 × 13\n",
       "\\begin{tabular}{lllllllllllll}\n",
       " ride\\_id & rideable\\_type & started\\_at & ended\\_at & start\\_station\\_name & start\\_station\\_id & end\\_station\\_name & end\\_station\\_id & start\\_lat & start\\_lng & end\\_lat & end\\_lng & member\\_casual\\\\\n",
       " <chr> & <chr> & <chr> & <chr> & <chr> & <int> & <chr> & <int> & <dbl> & <dbl> & <dbl> & <dbl> & <chr>\\\\\n",
       "\\hline\n",
       "\t A847FADBBC638E45 & docked\\_bike & 2020-04-26 17:45:14 & 2020-04-26 18:12:03 & Eckhart Park                        &  86 & Lincoln Ave \\& Diversey Pkwy & 152 & 41.8964 & -87.6610 & 41.9322 & -87.6586 & member\\\\\n",
       "\t 5405B80E996FF60D & docked\\_bike & 2020-04-17 17:08:54 & 2020-04-17 17:17:03 & Drake Ave \\& Fullerton Ave           & 503 & Kosciuszko Park             & 499 & 41.9244 & -87.7154 & 41.9306 & -87.7238 & member\\\\\n",
       "\t 5DD24A79A4E006F4 & docked\\_bike & 2020-04-01 17:54:13 & 2020-04-01 18:08:36 & McClurg Ct \\& Erie St                & 142 & Indiana Ave \\& Roosevelt Rd  & 255 & 41.8945 & -87.6179 & 41.8679 & -87.6230 & member\\\\\n",
       "\t 2A59BBDF5CDBA725 & docked\\_bike & 2020-04-07 12:50:19 & 2020-04-07 13:02:31 & California Ave \\& Division St        & 216 & Wood St \\& Augusta Blvd      & 657 & 41.9030 & -87.6975 & 41.8992 & -87.6722 & member\\\\\n",
       "\t 27AD306C119C6158 & docked\\_bike & 2020-04-18 10:22:59 & 2020-04-18 11:15:54 & Rush St \\& Hubbard St                & 125 & Sheridan Rd \\& Lawrence Ave  & 323 & 41.8902 & -87.6262 & 41.9695 & -87.6547 & casual\\\\\n",
       "\t 356216E875132F61 & docked\\_bike & 2020-04-30 17:55:47 & 2020-04-30 18:01:11 & Mies van der Rohe Way \\& Chicago Ave & 173 & Streeter Dr \\& Grand Ave     &  35 & 41.8969 & -87.6217 & 41.8923 & -87.6120 & member\\\\\n",
       "\\end{tabular}\n"
      ],
      "text/markdown": [
       "\n",
       "A data.table: 6 × 13\n",
       "\n",
       "| ride_id &lt;chr&gt; | rideable_type &lt;chr&gt; | started_at &lt;chr&gt; | ended_at &lt;chr&gt; | start_station_name &lt;chr&gt; | start_station_id &lt;int&gt; | end_station_name &lt;chr&gt; | end_station_id &lt;int&gt; | start_lat &lt;dbl&gt; | start_lng &lt;dbl&gt; | end_lat &lt;dbl&gt; | end_lng &lt;dbl&gt; | member_casual &lt;chr&gt; |\n",
       "|---|---|---|---|---|---|---|---|---|---|---|---|---|\n",
       "| A847FADBBC638E45 | docked_bike | 2020-04-26 17:45:14 | 2020-04-26 18:12:03 | Eckhart Park                        |  86 | Lincoln Ave &amp; Diversey Pkwy | 152 | 41.8964 | -87.6610 | 41.9322 | -87.6586 | member |\n",
       "| 5405B80E996FF60D | docked_bike | 2020-04-17 17:08:54 | 2020-04-17 17:17:03 | Drake Ave &amp; Fullerton Ave           | 503 | Kosciuszko Park             | 499 | 41.9244 | -87.7154 | 41.9306 | -87.7238 | member |\n",
       "| 5DD24A79A4E006F4 | docked_bike | 2020-04-01 17:54:13 | 2020-04-01 18:08:36 | McClurg Ct &amp; Erie St                | 142 | Indiana Ave &amp; Roosevelt Rd  | 255 | 41.8945 | -87.6179 | 41.8679 | -87.6230 | member |\n",
       "| 2A59BBDF5CDBA725 | docked_bike | 2020-04-07 12:50:19 | 2020-04-07 13:02:31 | California Ave &amp; Division St        | 216 | Wood St &amp; Augusta Blvd      | 657 | 41.9030 | -87.6975 | 41.8992 | -87.6722 | member |\n",
       "| 27AD306C119C6158 | docked_bike | 2020-04-18 10:22:59 | 2020-04-18 11:15:54 | Rush St &amp; Hubbard St                | 125 | Sheridan Rd &amp; Lawrence Ave  | 323 | 41.8902 | -87.6262 | 41.9695 | -87.6547 | casual |\n",
       "| 356216E875132F61 | docked_bike | 2020-04-30 17:55:47 | 2020-04-30 18:01:11 | Mies van der Rohe Way &amp; Chicago Ave | 173 | Streeter Dr &amp; Grand Ave     |  35 | 41.8969 | -87.6217 | 41.8923 | -87.6120 | member |\n",
       "\n"
      ],
      "text/plain": [
       "  ride_id          rideable_type started_at          ended_at           \n",
       "1 A847FADBBC638E45 docked_bike   2020-04-26 17:45:14 2020-04-26 18:12:03\n",
       "2 5405B80E996FF60D docked_bike   2020-04-17 17:08:54 2020-04-17 17:17:03\n",
       "3 5DD24A79A4E006F4 docked_bike   2020-04-01 17:54:13 2020-04-01 18:08:36\n",
       "4 2A59BBDF5CDBA725 docked_bike   2020-04-07 12:50:19 2020-04-07 13:02:31\n",
       "5 27AD306C119C6158 docked_bike   2020-04-18 10:22:59 2020-04-18 11:15:54\n",
       "6 356216E875132F61 docked_bike   2020-04-30 17:55:47 2020-04-30 18:01:11\n",
       "  start_station_name                  start_station_id\n",
       "1 Eckhart Park                         86             \n",
       "2 Drake Ave & Fullerton Ave           503             \n",
       "3 McClurg Ct & Erie St                142             \n",
       "4 California Ave & Division St        216             \n",
       "5 Rush St & Hubbard St                125             \n",
       "6 Mies van der Rohe Way & Chicago Ave 173             \n",
       "  end_station_name            end_station_id start_lat start_lng end_lat\n",
       "1 Lincoln Ave & Diversey Pkwy 152            41.8964   -87.6610  41.9322\n",
       "2 Kosciuszko Park             499            41.9244   -87.7154  41.9306\n",
       "3 Indiana Ave & Roosevelt Rd  255            41.8945   -87.6179  41.8679\n",
       "4 Wood St & Augusta Blvd      657            41.9030   -87.6975  41.8992\n",
       "5 Sheridan Rd & Lawrence Ave  323            41.8902   -87.6262  41.9695\n",
       "6 Streeter Dr & Grand Ave      35            41.8969   -87.6217  41.8923\n",
       "  end_lng  member_casual\n",
       "1 -87.6586 member       \n",
       "2 -87.7238 member       \n",
       "3 -87.6230 member       \n",
       "4 -87.6722 member       \n",
       "5 -87.6547 casual       \n",
       "6 -87.6120 member       "
      ]
     },
     "metadata": {},
     "output_type": "display_data"
    },
    {
     "data": {
      "text/html": [
       "<table class=\"dataframe\">\n",
       "<caption>A data.table: 6 × 13</caption>\n",
       "<thead>\n",
       "\t<tr><th scope=col>ride_id</th><th scope=col>rideable_type</th><th scope=col>started_at</th><th scope=col>ended_at</th><th scope=col>start_station_name</th><th scope=col>start_station_id</th><th scope=col>end_station_name</th><th scope=col>end_station_id</th><th scope=col>start_lat</th><th scope=col>start_lng</th><th scope=col>end_lat</th><th scope=col>end_lng</th><th scope=col>member_casual</th></tr>\n",
       "\t<tr><th scope=col>&lt;chr&gt;</th><th scope=col>&lt;chr&gt;</th><th scope=col>&lt;chr&gt;</th><th scope=col>&lt;chr&gt;</th><th scope=col>&lt;chr&gt;</th><th scope=col>&lt;int&gt;</th><th scope=col>&lt;chr&gt;</th><th scope=col>&lt;int&gt;</th><th scope=col>&lt;dbl&gt;</th><th scope=col>&lt;dbl&gt;</th><th scope=col>&lt;dbl&gt;</th><th scope=col>&lt;dbl&gt;</th><th scope=col>&lt;chr&gt;</th></tr>\n",
       "</thead>\n",
       "<tbody>\n",
       "\t<tr><td>762198876D69004D</td><td>docked_bike</td><td>2020-07-09 15:22:02</td><td>2020-07-09 15:25:52</td><td><span style=white-space:pre-wrap>Ritchie Ct &amp; Banks St        </span></td><td>180</td><td>Wells St &amp; Evergreen Ave </td><td>291</td><td>41.90687</td><td>-87.62622</td><td>41.90672</td><td>-87.63483</td><td>member</td></tr>\n",
       "\t<tr><td>BEC9C9FBA0D4CF1B</td><td>docked_bike</td><td>2020-07-24 23:56:30</td><td>2020-07-25 00:20:17</td><td><span style=white-space:pre-wrap>Halsted St &amp; Roscoe St       </span></td><td>299</td><td><span style=white-space:pre-wrap>Broadway &amp; Ridge Ave     </span></td><td>461</td><td>41.94367</td><td>-87.64895</td><td>41.98404</td><td>-87.66027</td><td>member</td></tr>\n",
       "\t<tr><td>D2FD8EA432C77EC1</td><td>docked_bike</td><td>2020-07-08 19:49:07</td><td>2020-07-08 19:56:22</td><td>Lake Shore Dr &amp; Diversey Pkwy</td><td>329</td><td>Clark St &amp; Wellington Ave</td><td>156</td><td>41.93259</td><td>-87.63643</td><td>41.93650</td><td>-87.64754</td><td>casual</td></tr>\n",
       "\t<tr><td>54AE594E20B35881</td><td>docked_bike</td><td>2020-07-17 19:06:42</td><td>2020-07-17 19:27:38</td><td><span style=white-space:pre-wrap>LaSalle St &amp; Illinois St     </span></td><td>181</td><td><span style=white-space:pre-wrap>Clark St &amp; Armitage Ave  </span></td><td> 94</td><td>41.89076</td><td>-87.63170</td><td>41.91831</td><td>-87.63628</td><td>casual</td></tr>\n",
       "\t<tr><td>54025FDC7440B56F</td><td>docked_bike</td><td>2020-07-04 10:39:57</td><td>2020-07-04 10:45:05</td><td><span style=white-space:pre-wrap>Lake Shore Dr &amp; North Blvd   </span></td><td>268</td><td><span style=white-space:pre-wrap>Clark St &amp; Schiller St   </span></td><td>301</td><td>41.91172</td><td>-87.62680</td><td>41.90799</td><td>-87.63150</td><td>member</td></tr>\n",
       "\t<tr><td>65636B619E24257F</td><td>docked_bike</td><td>2020-07-28 16:33:03</td><td>2020-07-28 16:49:10</td><td><span style=white-space:pre-wrap>Fairbanks St &amp; Superior St   </span></td><td>635</td><td><span style=white-space:pre-wrap>Wells St &amp; Concord Ln    </span></td><td>289</td><td>41.89575</td><td>-87.62010</td><td>41.91213</td><td>-87.63466</td><td>casual</td></tr>\n",
       "</tbody>\n",
       "</table>\n"
      ],
      "text/latex": [
       "A data.table: 6 × 13\n",
       "\\begin{tabular}{lllllllllllll}\n",
       " ride\\_id & rideable\\_type & started\\_at & ended\\_at & start\\_station\\_name & start\\_station\\_id & end\\_station\\_name & end\\_station\\_id & start\\_lat & start\\_lng & end\\_lat & end\\_lng & member\\_casual\\\\\n",
       " <chr> & <chr> & <chr> & <chr> & <chr> & <int> & <chr> & <int> & <dbl> & <dbl> & <dbl> & <dbl> & <chr>\\\\\n",
       "\\hline\n",
       "\t 762198876D69004D & docked\\_bike & 2020-07-09 15:22:02 & 2020-07-09 15:25:52 & Ritchie Ct \\& Banks St         & 180 & Wells St \\& Evergreen Ave  & 291 & 41.90687 & -87.62622 & 41.90672 & -87.63483 & member\\\\\n",
       "\t BEC9C9FBA0D4CF1B & docked\\_bike & 2020-07-24 23:56:30 & 2020-07-25 00:20:17 & Halsted St \\& Roscoe St        & 299 & Broadway \\& Ridge Ave      & 461 & 41.94367 & -87.64895 & 41.98404 & -87.66027 & member\\\\\n",
       "\t D2FD8EA432C77EC1 & docked\\_bike & 2020-07-08 19:49:07 & 2020-07-08 19:56:22 & Lake Shore Dr \\& Diversey Pkwy & 329 & Clark St \\& Wellington Ave & 156 & 41.93259 & -87.63643 & 41.93650 & -87.64754 & casual\\\\\n",
       "\t 54AE594E20B35881 & docked\\_bike & 2020-07-17 19:06:42 & 2020-07-17 19:27:38 & LaSalle St \\& Illinois St      & 181 & Clark St \\& Armitage Ave   &  94 & 41.89076 & -87.63170 & 41.91831 & -87.63628 & casual\\\\\n",
       "\t 54025FDC7440B56F & docked\\_bike & 2020-07-04 10:39:57 & 2020-07-04 10:45:05 & Lake Shore Dr \\& North Blvd    & 268 & Clark St \\& Schiller St    & 301 & 41.91172 & -87.62680 & 41.90799 & -87.63150 & member\\\\\n",
       "\t 65636B619E24257F & docked\\_bike & 2020-07-28 16:33:03 & 2020-07-28 16:49:10 & Fairbanks St \\& Superior St    & 635 & Wells St \\& Concord Ln     & 289 & 41.89575 & -87.62010 & 41.91213 & -87.63466 & casual\\\\\n",
       "\\end{tabular}\n"
      ],
      "text/markdown": [
       "\n",
       "A data.table: 6 × 13\n",
       "\n",
       "| ride_id &lt;chr&gt; | rideable_type &lt;chr&gt; | started_at &lt;chr&gt; | ended_at &lt;chr&gt; | start_station_name &lt;chr&gt; | start_station_id &lt;int&gt; | end_station_name &lt;chr&gt; | end_station_id &lt;int&gt; | start_lat &lt;dbl&gt; | start_lng &lt;dbl&gt; | end_lat &lt;dbl&gt; | end_lng &lt;dbl&gt; | member_casual &lt;chr&gt; |\n",
       "|---|---|---|---|---|---|---|---|---|---|---|---|---|\n",
       "| 762198876D69004D | docked_bike | 2020-07-09 15:22:02 | 2020-07-09 15:25:52 | Ritchie Ct &amp; Banks St         | 180 | Wells St &amp; Evergreen Ave  | 291 | 41.90687 | -87.62622 | 41.90672 | -87.63483 | member |\n",
       "| BEC9C9FBA0D4CF1B | docked_bike | 2020-07-24 23:56:30 | 2020-07-25 00:20:17 | Halsted St &amp; Roscoe St        | 299 | Broadway &amp; Ridge Ave      | 461 | 41.94367 | -87.64895 | 41.98404 | -87.66027 | member |\n",
       "| D2FD8EA432C77EC1 | docked_bike | 2020-07-08 19:49:07 | 2020-07-08 19:56:22 | Lake Shore Dr &amp; Diversey Pkwy | 329 | Clark St &amp; Wellington Ave | 156 | 41.93259 | -87.63643 | 41.93650 | -87.64754 | casual |\n",
       "| 54AE594E20B35881 | docked_bike | 2020-07-17 19:06:42 | 2020-07-17 19:27:38 | LaSalle St &amp; Illinois St      | 181 | Clark St &amp; Armitage Ave   |  94 | 41.89076 | -87.63170 | 41.91831 | -87.63628 | casual |\n",
       "| 54025FDC7440B56F | docked_bike | 2020-07-04 10:39:57 | 2020-07-04 10:45:05 | Lake Shore Dr &amp; North Blvd    | 268 | Clark St &amp; Schiller St    | 301 | 41.91172 | -87.62680 | 41.90799 | -87.63150 | member |\n",
       "| 65636B619E24257F | docked_bike | 2020-07-28 16:33:03 | 2020-07-28 16:49:10 | Fairbanks St &amp; Superior St    | 635 | Wells St &amp; Concord Ln     | 289 | 41.89575 | -87.62010 | 41.91213 | -87.63466 | casual |\n",
       "\n"
      ],
      "text/plain": [
       "  ride_id          rideable_type started_at          ended_at           \n",
       "1 762198876D69004D docked_bike   2020-07-09 15:22:02 2020-07-09 15:25:52\n",
       "2 BEC9C9FBA0D4CF1B docked_bike   2020-07-24 23:56:30 2020-07-25 00:20:17\n",
       "3 D2FD8EA432C77EC1 docked_bike   2020-07-08 19:49:07 2020-07-08 19:56:22\n",
       "4 54AE594E20B35881 docked_bike   2020-07-17 19:06:42 2020-07-17 19:27:38\n",
       "5 54025FDC7440B56F docked_bike   2020-07-04 10:39:57 2020-07-04 10:45:05\n",
       "6 65636B619E24257F docked_bike   2020-07-28 16:33:03 2020-07-28 16:49:10\n",
       "  start_station_name            start_station_id end_station_name         \n",
       "1 Ritchie Ct & Banks St         180              Wells St & Evergreen Ave \n",
       "2 Halsted St & Roscoe St        299              Broadway & Ridge Ave     \n",
       "3 Lake Shore Dr & Diversey Pkwy 329              Clark St & Wellington Ave\n",
       "4 LaSalle St & Illinois St      181              Clark St & Armitage Ave  \n",
       "5 Lake Shore Dr & North Blvd    268              Clark St & Schiller St   \n",
       "6 Fairbanks St & Superior St    635              Wells St & Concord Ln    \n",
       "  end_station_id start_lat start_lng end_lat  end_lng   member_casual\n",
       "1 291            41.90687  -87.62622 41.90672 -87.63483 member       \n",
       "2 461            41.94367  -87.64895 41.98404 -87.66027 member       \n",
       "3 156            41.93259  -87.63643 41.93650 -87.64754 casual       \n",
       "4  94            41.89076  -87.63170 41.91831 -87.63628 casual       \n",
       "5 301            41.91172  -87.62680 41.90799 -87.63150 member       \n",
       "6 289            41.89575  -87.62010 41.91213 -87.63466 casual       "
      ]
     },
     "metadata": {},
     "output_type": "display_data"
    },
    {
     "data": {
      "text/html": [
       "<table class=\"dataframe\">\n",
       "<caption>A data.table: 6 × 13</caption>\n",
       "<thead>\n",
       "\t<tr><th scope=col>ride_id</th><th scope=col>rideable_type</th><th scope=col>started_at</th><th scope=col>ended_at</th><th scope=col>start_station_name</th><th scope=col>start_station_id</th><th scope=col>end_station_name</th><th scope=col>end_station_id</th><th scope=col>start_lat</th><th scope=col>start_lng</th><th scope=col>end_lat</th><th scope=col>end_lng</th><th scope=col>member_casual</th></tr>\n",
       "\t<tr><th scope=col>&lt;chr&gt;</th><th scope=col>&lt;chr&gt;</th><th scope=col>&lt;chr&gt;</th><th scope=col>&lt;chr&gt;</th><th scope=col>&lt;chr&gt;</th><th scope=col>&lt;chr&gt;</th><th scope=col>&lt;chr&gt;</th><th scope=col>&lt;chr&gt;</th><th scope=col>&lt;dbl&gt;</th><th scope=col>&lt;dbl&gt;</th><th scope=col>&lt;dbl&gt;</th><th scope=col>&lt;dbl&gt;</th><th scope=col>&lt;chr&gt;</th></tr>\n",
       "</thead>\n",
       "<tbody>\n",
       "\t<tr><td>ACB6B40CF5B9044C</td><td>electric_bike</td><td>2020-10-31 19:39:43</td><td>2020-10-31 19:57:12</td><td>Lakeview Ave &amp; Fullerton Pkwy </td><td>313</td><td><span style=white-space:pre-wrap>Rush St &amp; Hubbard St      </span></td><td>125</td><td>41.92610</td><td>-87.63898</td><td>41.89035</td><td>-87.62607</td><td>casual</td></tr>\n",
       "\t<tr><td>DF450C72FD109C01</td><td>electric_bike</td><td>2020-10-31 23:50:08</td><td>2020-11-01 00:04:16</td><td><span style=white-space:pre-wrap>Southport Ave &amp; Waveland Ave  </span></td><td>227</td><td>Kedzie Ave &amp; Milwaukee Ave</td><td>260</td><td>41.94817</td><td>-87.66391</td><td>41.92953</td><td>-87.70782</td><td>casual</td></tr>\n",
       "\t<tr><td>B6396B54A15AC0DF</td><td>electric_bike</td><td>2020-10-31 23:00:01</td><td>2020-10-31 23:08:22</td><td><span style=white-space:pre-wrap>Stony Island Ave &amp; 67th St    </span></td><td>102</td><td><span style=white-space:pre-wrap>University Ave &amp; 57th St  </span></td><td>423</td><td>41.77346</td><td>-87.58537</td><td>41.79145</td><td>-87.60005</td><td>casual</td></tr>\n",
       "\t<tr><td>44A4AEE261B9E854</td><td>electric_bike</td><td>2020-10-31 22:16:43</td><td>2020-10-31 22:19:35</td><td><span style=white-space:pre-wrap>Clark St &amp; Grace St           </span></td><td>165</td><td><span style=white-space:pre-wrap>Broadway &amp; Sheridan Rd    </span></td><td>256</td><td>41.95085</td><td>-87.65924</td><td>41.95281</td><td>-87.65010</td><td>casual</td></tr>\n",
       "\t<tr><td>10B7DD76A6A2EB95</td><td>electric_bike</td><td>2020-10-31 19:38:19</td><td>2020-10-31 19:54:32</td><td>Southport Ave &amp; Wrightwood Ave</td><td>190</td><td><span style=white-space:pre-wrap>Stave St &amp; Armitage Ave   </span></td><td>185</td><td>41.92886</td><td>-87.66396</td><td>41.91778</td><td>-87.69143</td><td>casual</td></tr>\n",
       "\t<tr><td>DA6C3759660133DA</td><td>electric_bike</td><td>2020-10-29 17:38:04</td><td>2020-10-29 17:45:43</td><td><span style=white-space:pre-wrap>Larrabee St &amp; Division St     </span></td><td>359</td><td><span style=white-space:pre-wrap>Wells St &amp; Huron St       </span></td><td>53 </td><td>41.90353</td><td>-87.64335</td><td>41.89440</td><td>-87.63431</td><td>casual</td></tr>\n",
       "</tbody>\n",
       "</table>\n"
      ],
      "text/latex": [
       "A data.table: 6 × 13\n",
       "\\begin{tabular}{lllllllllllll}\n",
       " ride\\_id & rideable\\_type & started\\_at & ended\\_at & start\\_station\\_name & start\\_station\\_id & end\\_station\\_name & end\\_station\\_id & start\\_lat & start\\_lng & end\\_lat & end\\_lng & member\\_casual\\\\\n",
       " <chr> & <chr> & <chr> & <chr> & <chr> & <chr> & <chr> & <chr> & <dbl> & <dbl> & <dbl> & <dbl> & <chr>\\\\\n",
       "\\hline\n",
       "\t ACB6B40CF5B9044C & electric\\_bike & 2020-10-31 19:39:43 & 2020-10-31 19:57:12 & Lakeview Ave \\& Fullerton Pkwy  & 313 & Rush St \\& Hubbard St       & 125 & 41.92610 & -87.63898 & 41.89035 & -87.62607 & casual\\\\\n",
       "\t DF450C72FD109C01 & electric\\_bike & 2020-10-31 23:50:08 & 2020-11-01 00:04:16 & Southport Ave \\& Waveland Ave   & 227 & Kedzie Ave \\& Milwaukee Ave & 260 & 41.94817 & -87.66391 & 41.92953 & -87.70782 & casual\\\\\n",
       "\t B6396B54A15AC0DF & electric\\_bike & 2020-10-31 23:00:01 & 2020-10-31 23:08:22 & Stony Island Ave \\& 67th St     & 102 & University Ave \\& 57th St   & 423 & 41.77346 & -87.58537 & 41.79145 & -87.60005 & casual\\\\\n",
       "\t 44A4AEE261B9E854 & electric\\_bike & 2020-10-31 22:16:43 & 2020-10-31 22:19:35 & Clark St \\& Grace St            & 165 & Broadway \\& Sheridan Rd     & 256 & 41.95085 & -87.65924 & 41.95281 & -87.65010 & casual\\\\\n",
       "\t 10B7DD76A6A2EB95 & electric\\_bike & 2020-10-31 19:38:19 & 2020-10-31 19:54:32 & Southport Ave \\& Wrightwood Ave & 190 & Stave St \\& Armitage Ave    & 185 & 41.92886 & -87.66396 & 41.91778 & -87.69143 & casual\\\\\n",
       "\t DA6C3759660133DA & electric\\_bike & 2020-10-29 17:38:04 & 2020-10-29 17:45:43 & Larrabee St \\& Division St      & 359 & Wells St \\& Huron St        & 53  & 41.90353 & -87.64335 & 41.89440 & -87.63431 & casual\\\\\n",
       "\\end{tabular}\n"
      ],
      "text/markdown": [
       "\n",
       "A data.table: 6 × 13\n",
       "\n",
       "| ride_id &lt;chr&gt; | rideable_type &lt;chr&gt; | started_at &lt;chr&gt; | ended_at &lt;chr&gt; | start_station_name &lt;chr&gt; | start_station_id &lt;chr&gt; | end_station_name &lt;chr&gt; | end_station_id &lt;chr&gt; | start_lat &lt;dbl&gt; | start_lng &lt;dbl&gt; | end_lat &lt;dbl&gt; | end_lng &lt;dbl&gt; | member_casual &lt;chr&gt; |\n",
       "|---|---|---|---|---|---|---|---|---|---|---|---|---|\n",
       "| ACB6B40CF5B9044C | electric_bike | 2020-10-31 19:39:43 | 2020-10-31 19:57:12 | Lakeview Ave &amp; Fullerton Pkwy  | 313 | Rush St &amp; Hubbard St       | 125 | 41.92610 | -87.63898 | 41.89035 | -87.62607 | casual |\n",
       "| DF450C72FD109C01 | electric_bike | 2020-10-31 23:50:08 | 2020-11-01 00:04:16 | Southport Ave &amp; Waveland Ave   | 227 | Kedzie Ave &amp; Milwaukee Ave | 260 | 41.94817 | -87.66391 | 41.92953 | -87.70782 | casual |\n",
       "| B6396B54A15AC0DF | electric_bike | 2020-10-31 23:00:01 | 2020-10-31 23:08:22 | Stony Island Ave &amp; 67th St     | 102 | University Ave &amp; 57th St   | 423 | 41.77346 | -87.58537 | 41.79145 | -87.60005 | casual |\n",
       "| 44A4AEE261B9E854 | electric_bike | 2020-10-31 22:16:43 | 2020-10-31 22:19:35 | Clark St &amp; Grace St            | 165 | Broadway &amp; Sheridan Rd     | 256 | 41.95085 | -87.65924 | 41.95281 | -87.65010 | casual |\n",
       "| 10B7DD76A6A2EB95 | electric_bike | 2020-10-31 19:38:19 | 2020-10-31 19:54:32 | Southport Ave &amp; Wrightwood Ave | 190 | Stave St &amp; Armitage Ave    | 185 | 41.92886 | -87.66396 | 41.91778 | -87.69143 | casual |\n",
       "| DA6C3759660133DA | electric_bike | 2020-10-29 17:38:04 | 2020-10-29 17:45:43 | Larrabee St &amp; Division St      | 359 | Wells St &amp; Huron St        | 53  | 41.90353 | -87.64335 | 41.89440 | -87.63431 | casual |\n",
       "\n"
      ],
      "text/plain": [
       "  ride_id          rideable_type started_at          ended_at           \n",
       "1 ACB6B40CF5B9044C electric_bike 2020-10-31 19:39:43 2020-10-31 19:57:12\n",
       "2 DF450C72FD109C01 electric_bike 2020-10-31 23:50:08 2020-11-01 00:04:16\n",
       "3 B6396B54A15AC0DF electric_bike 2020-10-31 23:00:01 2020-10-31 23:08:22\n",
       "4 44A4AEE261B9E854 electric_bike 2020-10-31 22:16:43 2020-10-31 22:19:35\n",
       "5 10B7DD76A6A2EB95 electric_bike 2020-10-31 19:38:19 2020-10-31 19:54:32\n",
       "6 DA6C3759660133DA electric_bike 2020-10-29 17:38:04 2020-10-29 17:45:43\n",
       "  start_station_name             start_station_id end_station_name          \n",
       "1 Lakeview Ave & Fullerton Pkwy  313              Rush St & Hubbard St      \n",
       "2 Southport Ave & Waveland Ave   227              Kedzie Ave & Milwaukee Ave\n",
       "3 Stony Island Ave & 67th St     102              University Ave & 57th St  \n",
       "4 Clark St & Grace St            165              Broadway & Sheridan Rd    \n",
       "5 Southport Ave & Wrightwood Ave 190              Stave St & Armitage Ave   \n",
       "6 Larrabee St & Division St      359              Wells St & Huron St       \n",
       "  end_station_id start_lat start_lng end_lat  end_lng   member_casual\n",
       "1 125            41.92610  -87.63898 41.89035 -87.62607 casual       \n",
       "2 260            41.94817  -87.66391 41.92953 -87.70782 casual       \n",
       "3 423            41.77346  -87.58537 41.79145 -87.60005 casual       \n",
       "4 256            41.95085  -87.65924 41.95281 -87.65010 casual       \n",
       "5 185            41.92886  -87.66396 41.91778 -87.69143 casual       \n",
       "6 53             41.90353  -87.64335 41.89440 -87.63431 casual       "
      ]
     },
     "metadata": {},
     "output_type": "display_data"
    }
   ],
   "source": [
    "# Checking 2020 data\n",
    "head(base_20Q1)\n",
    "head(base_20Q2)\n",
    "head(base_20Q3)\n",
    "head(base_20Q4)"
   ]
  },
  {
   "cell_type": "code",
   "execution_count": 15,
   "id": "9d8f30e1-29a1-40cb-ab89-b84d6391b91c",
   "metadata": {},
   "outputs": [
    {
     "data": {
      "text/html": [
       "<table class=\"dataframe\">\n",
       "<caption>A data.frame: 6 × 13</caption>\n",
       "<thead>\n",
       "\t<tr><th></th><th scope=col>ride_id</th><th scope=col>rideable_type</th><th scope=col>started_at</th><th scope=col>ended_at</th><th scope=col>start_station_name</th><th scope=col>start_station_id</th><th scope=col>end_station_name</th><th scope=col>end_station_id</th><th scope=col>start_lat</th><th scope=col>start_lng</th><th scope=col>end_lat</th><th scope=col>end_lng</th><th scope=col>member_casual</th></tr>\n",
       "\t<tr><th></th><th scope=col>&lt;chr&gt;</th><th scope=col>&lt;chr&gt;</th><th scope=col>&lt;chr&gt;</th><th scope=col>&lt;chr&gt;</th><th scope=col>&lt;chr&gt;</th><th scope=col>&lt;int&gt;</th><th scope=col>&lt;chr&gt;</th><th scope=col>&lt;int&gt;</th><th scope=col>&lt;dbl&gt;</th><th scope=col>&lt;dbl&gt;</th><th scope=col>&lt;dbl&gt;</th><th scope=col>&lt;dbl&gt;</th><th scope=col>&lt;chr&gt;</th></tr>\n",
       "</thead>\n",
       "<tbody>\n",
       "\t<tr><th scope=row>426882</th><td>6F4D221BDDFD943F</td><td>docked_bike</td><td>2020-03-10 10:40:27</td><td>2020-03-10 10:40:29</td><td>HQ QR                    </td><td>675</td><td>HQ QR                       </td><td>675</td><td>41.8899</td><td>-87.6803</td><td>41.8899</td><td>-87.6803</td><td>casual</td></tr>\n",
       "\t<tr><th scope=row>426883</th><td>ADDAA33CEBCAE733</td><td>docked_bike</td><td>2020-03-10 10:40:06</td><td>2020-03-10 10:40:07</td><td>HQ QR                    </td><td>675</td><td>HQ QR                       </td><td>675</td><td>41.8899</td><td>-87.6803</td><td>41.8899</td><td>-87.6803</td><td>casual</td></tr>\n",
       "\t<tr><th scope=row>426884</th><td>82B10FA3994BC66A</td><td>docked_bike</td><td>2020-03-07 15:25:55</td><td>2020-03-07 16:14:03</td><td><span style=white-space:pre-wrap>Rush St &amp; Superior St    </span></td><td>161</td><td>Sheridan Rd &amp; Irving Park Rd</td><td>240</td><td>41.8958</td><td>-87.6259</td><td>41.9542</td><td>-87.6544</td><td>member</td></tr>\n",
       "\t<tr><th scope=row>426885</th><td>AA0D5AAA0B59C8AA</td><td>docked_bike</td><td>2020-03-01 13:12:38</td><td>2020-03-01 13:38:29</td><td><span style=white-space:pre-wrap>Clark St &amp; Lincoln Ave   </span></td><td>141</td><td><span style=white-space:pre-wrap>Ashland Ave &amp; Division St   </span></td><td>210</td><td>41.9157</td><td>-87.6346</td><td>41.9035</td><td>-87.6677</td><td>casual</td></tr>\n",
       "\t<tr><th scope=row>426886</th><td>3296360A7BC20FB8</td><td>docked_bike</td><td>2020-03-07 18:02:45</td><td>2020-03-07 18:13:18</td><td>Franklin St &amp; Illinois St</td><td>672</td><td>Stetson Ave &amp; South Water St</td><td>264</td><td>41.8910</td><td>-87.6355</td><td>41.8868</td><td>-87.6223</td><td>member</td></tr>\n",
       "\t<tr><th scope=row>426887</th><td>064EC7698E4FF9B3</td><td>docked_bike</td><td>2020-03-08 13:03:57</td><td>2020-03-08 13:32:27</td><td><span style=white-space:pre-wrap>Dearborn St &amp; Erie St    </span></td><td>110</td><td><span style=white-space:pre-wrap>Michigan Ave &amp; Oak St       </span></td><td> 85</td><td>41.8940</td><td>-87.6293</td><td>41.9010</td><td>-87.6238</td><td>casual</td></tr>\n",
       "</tbody>\n",
       "</table>\n"
      ],
      "text/latex": [
       "A data.frame: 6 × 13\n",
       "\\begin{tabular}{r|lllllllllllll}\n",
       "  & ride\\_id & rideable\\_type & started\\_at & ended\\_at & start\\_station\\_name & start\\_station\\_id & end\\_station\\_name & end\\_station\\_id & start\\_lat & start\\_lng & end\\_lat & end\\_lng & member\\_casual\\\\\n",
       "  & <chr> & <chr> & <chr> & <chr> & <chr> & <int> & <chr> & <int> & <dbl> & <dbl> & <dbl> & <dbl> & <chr>\\\\\n",
       "\\hline\n",
       "\t426882 & 6F4D221BDDFD943F & docked\\_bike & 2020-03-10 10:40:27 & 2020-03-10 10:40:29 & HQ QR                     & 675 & HQ QR                        & 675 & 41.8899 & -87.6803 & 41.8899 & -87.6803 & casual\\\\\n",
       "\t426883 & ADDAA33CEBCAE733 & docked\\_bike & 2020-03-10 10:40:06 & 2020-03-10 10:40:07 & HQ QR                     & 675 & HQ QR                        & 675 & 41.8899 & -87.6803 & 41.8899 & -87.6803 & casual\\\\\n",
       "\t426884 & 82B10FA3994BC66A & docked\\_bike & 2020-03-07 15:25:55 & 2020-03-07 16:14:03 & Rush St \\& Superior St     & 161 & Sheridan Rd \\& Irving Park Rd & 240 & 41.8958 & -87.6259 & 41.9542 & -87.6544 & member\\\\\n",
       "\t426885 & AA0D5AAA0B59C8AA & docked\\_bike & 2020-03-01 13:12:38 & 2020-03-01 13:38:29 & Clark St \\& Lincoln Ave    & 141 & Ashland Ave \\& Division St    & 210 & 41.9157 & -87.6346 & 41.9035 & -87.6677 & casual\\\\\n",
       "\t426886 & 3296360A7BC20FB8 & docked\\_bike & 2020-03-07 18:02:45 & 2020-03-07 18:13:18 & Franklin St \\& Illinois St & 672 & Stetson Ave \\& South Water St & 264 & 41.8910 & -87.6355 & 41.8868 & -87.6223 & member\\\\\n",
       "\t426887 & 064EC7698E4FF9B3 & docked\\_bike & 2020-03-08 13:03:57 & 2020-03-08 13:32:27 & Dearborn St \\& Erie St     & 110 & Michigan Ave \\& Oak St        &  85 & 41.8940 & -87.6293 & 41.9010 & -87.6238 & casual\\\\\n",
       "\\end{tabular}\n"
      ],
      "text/markdown": [
       "\n",
       "A data.frame: 6 × 13\n",
       "\n",
       "| <!--/--> | ride_id &lt;chr&gt; | rideable_type &lt;chr&gt; | started_at &lt;chr&gt; | ended_at &lt;chr&gt; | start_station_name &lt;chr&gt; | start_station_id &lt;int&gt; | end_station_name &lt;chr&gt; | end_station_id &lt;int&gt; | start_lat &lt;dbl&gt; | start_lng &lt;dbl&gt; | end_lat &lt;dbl&gt; | end_lng &lt;dbl&gt; | member_casual &lt;chr&gt; |\n",
       "|---|---|---|---|---|---|---|---|---|---|---|---|---|---|\n",
       "| 426882 | 6F4D221BDDFD943F | docked_bike | 2020-03-10 10:40:27 | 2020-03-10 10:40:29 | HQ QR                     | 675 | HQ QR                        | 675 | 41.8899 | -87.6803 | 41.8899 | -87.6803 | casual |\n",
       "| 426883 | ADDAA33CEBCAE733 | docked_bike | 2020-03-10 10:40:06 | 2020-03-10 10:40:07 | HQ QR                     | 675 | HQ QR                        | 675 | 41.8899 | -87.6803 | 41.8899 | -87.6803 | casual |\n",
       "| 426884 | 82B10FA3994BC66A | docked_bike | 2020-03-07 15:25:55 | 2020-03-07 16:14:03 | Rush St &amp; Superior St     | 161 | Sheridan Rd &amp; Irving Park Rd | 240 | 41.8958 | -87.6259 | 41.9542 | -87.6544 | member |\n",
       "| 426885 | AA0D5AAA0B59C8AA | docked_bike | 2020-03-01 13:12:38 | 2020-03-01 13:38:29 | Clark St &amp; Lincoln Ave    | 141 | Ashland Ave &amp; Division St    | 210 | 41.9157 | -87.6346 | 41.9035 | -87.6677 | casual |\n",
       "| 426886 | 3296360A7BC20FB8 | docked_bike | 2020-03-07 18:02:45 | 2020-03-07 18:13:18 | Franklin St &amp; Illinois St | 672 | Stetson Ave &amp; South Water St | 264 | 41.8910 | -87.6355 | 41.8868 | -87.6223 | member |\n",
       "| 426887 | 064EC7698E4FF9B3 | docked_bike | 2020-03-08 13:03:57 | 2020-03-08 13:32:27 | Dearborn St &amp; Erie St     | 110 | Michigan Ave &amp; Oak St        |  85 | 41.8940 | -87.6293 | 41.9010 | -87.6238 | casual |\n",
       "\n"
      ],
      "text/plain": [
       "       ride_id          rideable_type started_at          ended_at           \n",
       "426882 6F4D221BDDFD943F docked_bike   2020-03-10 10:40:27 2020-03-10 10:40:29\n",
       "426883 ADDAA33CEBCAE733 docked_bike   2020-03-10 10:40:06 2020-03-10 10:40:07\n",
       "426884 82B10FA3994BC66A docked_bike   2020-03-07 15:25:55 2020-03-07 16:14:03\n",
       "426885 AA0D5AAA0B59C8AA docked_bike   2020-03-01 13:12:38 2020-03-01 13:38:29\n",
       "426886 3296360A7BC20FB8 docked_bike   2020-03-07 18:02:45 2020-03-07 18:13:18\n",
       "426887 064EC7698E4FF9B3 docked_bike   2020-03-08 13:03:57 2020-03-08 13:32:27\n",
       "       start_station_name        start_station_id end_station_name            \n",
       "426882 HQ QR                     675              HQ QR                       \n",
       "426883 HQ QR                     675              HQ QR                       \n",
       "426884 Rush St & Superior St     161              Sheridan Rd & Irving Park Rd\n",
       "426885 Clark St & Lincoln Ave    141              Ashland Ave & Division St   \n",
       "426886 Franklin St & Illinois St 672              Stetson Ave & South Water St\n",
       "426887 Dearborn St & Erie St     110              Michigan Ave & Oak St       \n",
       "       end_station_id start_lat start_lng end_lat end_lng  member_casual\n",
       "426882 675            41.8899   -87.6803  41.8899 -87.6803 casual       \n",
       "426883 675            41.8899   -87.6803  41.8899 -87.6803 casual       \n",
       "426884 240            41.8958   -87.6259  41.9542 -87.6544 member       \n",
       "426885 210            41.9157   -87.6346  41.9035 -87.6677 casual       \n",
       "426886 264            41.8910   -87.6355  41.8868 -87.6223 member       \n",
       "426887  85            41.8940   -87.6293  41.9010 -87.6238 casual       "
      ]
     },
     "metadata": {},
     "output_type": "display_data"
    },
    {
     "data": {
      "text/html": [
       "<table class=\"dataframe\">\n",
       "<caption>A data.table: 6 × 13</caption>\n",
       "<thead>\n",
       "\t<tr><th scope=col>ride_id</th><th scope=col>rideable_type</th><th scope=col>started_at</th><th scope=col>ended_at</th><th scope=col>start_station_name</th><th scope=col>start_station_id</th><th scope=col>end_station_name</th><th scope=col>end_station_id</th><th scope=col>start_lat</th><th scope=col>start_lng</th><th scope=col>end_lat</th><th scope=col>end_lng</th><th scope=col>member_casual</th></tr>\n",
       "\t<tr><th scope=col>&lt;chr&gt;</th><th scope=col>&lt;chr&gt;</th><th scope=col>&lt;chr&gt;</th><th scope=col>&lt;chr&gt;</th><th scope=col>&lt;chr&gt;</th><th scope=col>&lt;int&gt;</th><th scope=col>&lt;chr&gt;</th><th scope=col>&lt;int&gt;</th><th scope=col>&lt;dbl&gt;</th><th scope=col>&lt;dbl&gt;</th><th scope=col>&lt;dbl&gt;</th><th scope=col>&lt;dbl&gt;</th><th scope=col>&lt;chr&gt;</th></tr>\n",
       "</thead>\n",
       "<tbody>\n",
       "\t<tr><td>EC924948B484A1AF</td><td>docked_bike</td><td>2020-06-12 15:42:35</td><td>2020-06-12 15:49:41</td><td><span style=white-space:pre-wrap>Ogden Ave &amp; Race Ave     </span></td><td>186</td><td><span style=white-space:pre-wrap>Green St &amp; Randolph St        </span></td><td>112</td><td>41.89180</td><td>-87.65875</td><td>41.88367</td><td>-87.64867</td><td>casual</td></tr>\n",
       "\t<tr><td>52FD068FC638E369</td><td>docked_bike</td><td>2020-06-23 07:34:49</td><td>2020-06-23 07:58:57</td><td>Western Ave &amp; Division St</td><td>305</td><td><span style=white-space:pre-wrap>Canal St &amp; Jackson Blvd       </span></td><td> 75</td><td>41.90289</td><td>-87.68727</td><td>41.87725</td><td>-87.63937</td><td>member</td></tr>\n",
       "\t<tr><td>E1263EE99DA7CC71</td><td>docked_bike</td><td>2020-06-13 14:23:02</td><td>2020-06-13 14:45:20</td><td><span style=white-space:pre-wrap>Broadway &amp; Cornelia Ave  </span></td><td>303</td><td><span style=white-space:pre-wrap>Wells St &amp; Concord Ln         </span></td><td>289</td><td>41.94553</td><td>-87.64644</td><td>41.91213</td><td>-87.63466</td><td>casual</td></tr>\n",
       "\t<tr><td>BCDB84E21D8509D3</td><td>docked_bike</td><td>2020-06-16 16:55:53</td><td>2020-06-16 17:12:42</td><td>Kingsbury St &amp; Kinzie St </td><td>133</td><td><span style=white-space:pre-wrap>Clark St &amp; Lincoln Ave        </span></td><td>141</td><td>41.88918</td><td>-87.63850</td><td>41.91569</td><td>-87.63460</td><td>casual</td></tr>\n",
       "\t<tr><td>AE90AFD2AD1384B1</td><td>docked_bike</td><td>2020-06-24 16:12:23</td><td>2020-06-24 16:24:56</td><td><span style=white-space:pre-wrap>Canal St &amp; Jackson Blvd  </span></td><td> 75</td><td><span style=white-space:pre-wrap>Stetson Ave &amp; South Water St  </span></td><td>264</td><td>41.87725</td><td>-87.63937</td><td>41.88683</td><td>-87.62232</td><td>casual</td></tr>\n",
       "\t<tr><td>998C129DBA742467</td><td>docked_bike</td><td>2020-06-06 15:21:50</td><td>2020-06-06 15:43:45</td><td><span style=white-space:pre-wrap>Wells St &amp; Elm St        </span></td><td>182</td><td>Sheffield Ave &amp; Wellington Ave</td><td>115</td><td>41.90322</td><td>-87.63432</td><td>41.93627</td><td>-87.65266</td><td>casual</td></tr>\n",
       "</tbody>\n",
       "</table>\n"
      ],
      "text/latex": [
       "A data.table: 6 × 13\n",
       "\\begin{tabular}{lllllllllllll}\n",
       " ride\\_id & rideable\\_type & started\\_at & ended\\_at & start\\_station\\_name & start\\_station\\_id & end\\_station\\_name & end\\_station\\_id & start\\_lat & start\\_lng & end\\_lat & end\\_lng & member\\_casual\\\\\n",
       " <chr> & <chr> & <chr> & <chr> & <chr> & <int> & <chr> & <int> & <dbl> & <dbl> & <dbl> & <dbl> & <chr>\\\\\n",
       "\\hline\n",
       "\t EC924948B484A1AF & docked\\_bike & 2020-06-12 15:42:35 & 2020-06-12 15:49:41 & Ogden Ave \\& Race Ave      & 186 & Green St \\& Randolph St         & 112 & 41.89180 & -87.65875 & 41.88367 & -87.64867 & casual\\\\\n",
       "\t 52FD068FC638E369 & docked\\_bike & 2020-06-23 07:34:49 & 2020-06-23 07:58:57 & Western Ave \\& Division St & 305 & Canal St \\& Jackson Blvd        &  75 & 41.90289 & -87.68727 & 41.87725 & -87.63937 & member\\\\\n",
       "\t E1263EE99DA7CC71 & docked\\_bike & 2020-06-13 14:23:02 & 2020-06-13 14:45:20 & Broadway \\& Cornelia Ave   & 303 & Wells St \\& Concord Ln          & 289 & 41.94553 & -87.64644 & 41.91213 & -87.63466 & casual\\\\\n",
       "\t BCDB84E21D8509D3 & docked\\_bike & 2020-06-16 16:55:53 & 2020-06-16 17:12:42 & Kingsbury St \\& Kinzie St  & 133 & Clark St \\& Lincoln Ave         & 141 & 41.88918 & -87.63850 & 41.91569 & -87.63460 & casual\\\\\n",
       "\t AE90AFD2AD1384B1 & docked\\_bike & 2020-06-24 16:12:23 & 2020-06-24 16:24:56 & Canal St \\& Jackson Blvd   &  75 & Stetson Ave \\& South Water St   & 264 & 41.87725 & -87.63937 & 41.88683 & -87.62232 & casual\\\\\n",
       "\t 998C129DBA742467 & docked\\_bike & 2020-06-06 15:21:50 & 2020-06-06 15:43:45 & Wells St \\& Elm St         & 182 & Sheffield Ave \\& Wellington Ave & 115 & 41.90322 & -87.63432 & 41.93627 & -87.65266 & casual\\\\\n",
       "\\end{tabular}\n"
      ],
      "text/markdown": [
       "\n",
       "A data.table: 6 × 13\n",
       "\n",
       "| ride_id &lt;chr&gt; | rideable_type &lt;chr&gt; | started_at &lt;chr&gt; | ended_at &lt;chr&gt; | start_station_name &lt;chr&gt; | start_station_id &lt;int&gt; | end_station_name &lt;chr&gt; | end_station_id &lt;int&gt; | start_lat &lt;dbl&gt; | start_lng &lt;dbl&gt; | end_lat &lt;dbl&gt; | end_lng &lt;dbl&gt; | member_casual &lt;chr&gt; |\n",
       "|---|---|---|---|---|---|---|---|---|---|---|---|---|\n",
       "| EC924948B484A1AF | docked_bike | 2020-06-12 15:42:35 | 2020-06-12 15:49:41 | Ogden Ave &amp; Race Ave      | 186 | Green St &amp; Randolph St         | 112 | 41.89180 | -87.65875 | 41.88367 | -87.64867 | casual |\n",
       "| 52FD068FC638E369 | docked_bike | 2020-06-23 07:34:49 | 2020-06-23 07:58:57 | Western Ave &amp; Division St | 305 | Canal St &amp; Jackson Blvd        |  75 | 41.90289 | -87.68727 | 41.87725 | -87.63937 | member |\n",
       "| E1263EE99DA7CC71 | docked_bike | 2020-06-13 14:23:02 | 2020-06-13 14:45:20 | Broadway &amp; Cornelia Ave   | 303 | Wells St &amp; Concord Ln          | 289 | 41.94553 | -87.64644 | 41.91213 | -87.63466 | casual |\n",
       "| BCDB84E21D8509D3 | docked_bike | 2020-06-16 16:55:53 | 2020-06-16 17:12:42 | Kingsbury St &amp; Kinzie St  | 133 | Clark St &amp; Lincoln Ave         | 141 | 41.88918 | -87.63850 | 41.91569 | -87.63460 | casual |\n",
       "| AE90AFD2AD1384B1 | docked_bike | 2020-06-24 16:12:23 | 2020-06-24 16:24:56 | Canal St &amp; Jackson Blvd   |  75 | Stetson Ave &amp; South Water St   | 264 | 41.87725 | -87.63937 | 41.88683 | -87.62232 | casual |\n",
       "| 998C129DBA742467 | docked_bike | 2020-06-06 15:21:50 | 2020-06-06 15:43:45 | Wells St &amp; Elm St         | 182 | Sheffield Ave &amp; Wellington Ave | 115 | 41.90322 | -87.63432 | 41.93627 | -87.65266 | casual |\n",
       "\n"
      ],
      "text/plain": [
       "  ride_id          rideable_type started_at          ended_at           \n",
       "1 EC924948B484A1AF docked_bike   2020-06-12 15:42:35 2020-06-12 15:49:41\n",
       "2 52FD068FC638E369 docked_bike   2020-06-23 07:34:49 2020-06-23 07:58:57\n",
       "3 E1263EE99DA7CC71 docked_bike   2020-06-13 14:23:02 2020-06-13 14:45:20\n",
       "4 BCDB84E21D8509D3 docked_bike   2020-06-16 16:55:53 2020-06-16 17:12:42\n",
       "5 AE90AFD2AD1384B1 docked_bike   2020-06-24 16:12:23 2020-06-24 16:24:56\n",
       "6 998C129DBA742467 docked_bike   2020-06-06 15:21:50 2020-06-06 15:43:45\n",
       "  start_station_name        start_station_id end_station_name              \n",
       "1 Ogden Ave & Race Ave      186              Green St & Randolph St        \n",
       "2 Western Ave & Division St 305              Canal St & Jackson Blvd       \n",
       "3 Broadway & Cornelia Ave   303              Wells St & Concord Ln         \n",
       "4 Kingsbury St & Kinzie St  133              Clark St & Lincoln Ave        \n",
       "5 Canal St & Jackson Blvd    75              Stetson Ave & South Water St  \n",
       "6 Wells St & Elm St         182              Sheffield Ave & Wellington Ave\n",
       "  end_station_id start_lat start_lng end_lat  end_lng   member_casual\n",
       "1 112            41.89180  -87.65875 41.88367 -87.64867 casual       \n",
       "2  75            41.90289  -87.68727 41.87725 -87.63937 member       \n",
       "3 289            41.94553  -87.64644 41.91213 -87.63466 casual       \n",
       "4 141            41.88918  -87.63850 41.91569 -87.63460 casual       \n",
       "5 264            41.87725  -87.63937 41.88683 -87.62232 casual       \n",
       "6 115            41.90322  -87.63432 41.93627 -87.65266 casual       "
      ]
     },
     "metadata": {},
     "output_type": "display_data"
    },
    {
     "data": {
      "text/html": [
       "<table class=\"dataframe\">\n",
       "<caption>A data.table: 6 × 13</caption>\n",
       "<thead>\n",
       "\t<tr><th scope=col>ride_id</th><th scope=col>rideable_type</th><th scope=col>started_at</th><th scope=col>ended_at</th><th scope=col>start_station_name</th><th scope=col>start_station_id</th><th scope=col>end_station_name</th><th scope=col>end_station_id</th><th scope=col>start_lat</th><th scope=col>start_lng</th><th scope=col>end_lat</th><th scope=col>end_lng</th><th scope=col>member_casual</th></tr>\n",
       "\t<tr><th scope=col>&lt;chr&gt;</th><th scope=col>&lt;chr&gt;</th><th scope=col>&lt;chr&gt;</th><th scope=col>&lt;chr&gt;</th><th scope=col>&lt;chr&gt;</th><th scope=col>&lt;int&gt;</th><th scope=col>&lt;chr&gt;</th><th scope=col>&lt;int&gt;</th><th scope=col>&lt;dbl&gt;</th><th scope=col>&lt;dbl&gt;</th><th scope=col>&lt;dbl&gt;</th><th scope=col>&lt;dbl&gt;</th><th scope=col>&lt;chr&gt;</th></tr>\n",
       "</thead>\n",
       "<tbody>\n",
       "\t<tr><td>21331F397B4D12CB</td><td>electric_bike</td><td>2020-09-26 14:58:19</td><td>2020-09-26 15:04:10</td><td>Museum of Science and Industry</td><td>424</td><td><span style=white-space:pre-wrap>Shore Dr &amp; 55th St         </span></td><td>247</td><td>41.79175</td><td>-87.58394</td><td>41.79518</td><td>-87.58102</td><td>casual</td></tr>\n",
       "\t<tr><td>151752B99EA40774</td><td>electric_bike</td><td>2020-09-26 12:24:38</td><td>2020-09-26 12:37:41</td><td><span style=white-space:pre-wrap>Damen Ave &amp; Wellington Ave    </span></td><td>162</td><td>Campbell Ave &amp; Montrose Ave</td><td>482</td><td>41.93586</td><td>-87.67851</td><td>41.96157</td><td>-87.69123</td><td>casual</td></tr>\n",
       "\t<tr><td>D022E7106FFA648C</td><td>electric_bike</td><td>2020-09-26 17:19:04</td><td>2020-09-26 17:39:26</td><td><span style=white-space:pre-wrap>Torrence Ave &amp; 106th St       </span></td><td>707</td><td><span style=white-space:pre-wrap>                           </span></td><td> NA</td><td>41.70285</td><td>-87.55990</td><td>41.72000</td><td>-87.58000</td><td>casual</td></tr>\n",
       "\t<tr><td>16F6F14FE158E720</td><td>electric_bike</td><td>2020-09-26 17:58:15</td><td>2020-09-26 18:43:59</td><td><span style=white-space:pre-wrap>                              </span></td><td> NA</td><td><span style=white-space:pre-wrap>Torrence Ave &amp; 106th St    </span></td><td>707</td><td>41.72000</td><td>-87.58000</td><td>41.70283</td><td>-87.55993</td><td>casual</td></tr>\n",
       "\t<tr><td>FA6D0FE576341B6B</td><td>electric_bike</td><td>2020-09-25 19:21:53</td><td>2020-09-25 20:37:06</td><td><span style=white-space:pre-wrap>Stockton Dr &amp; Wrightwood Ave  </span></td><td>324</td><td><span style=white-space:pre-wrap>                           </span></td><td> NA</td><td>41.93125</td><td>-87.63870</td><td>41.89000</td><td>-87.61000</td><td>casual</td></tr>\n",
       "\t<tr><td>A48C9D5A2A7DCA34</td><td>electric_bike</td><td>2020-09-26 16:57:55</td><td>2020-09-26 17:31:20</td><td><span style=white-space:pre-wrap>State St &amp; Kinzie St          </span></td><td> 47</td><td><span style=white-space:pre-wrap>Halsted St &amp; Roscoe St     </span></td><td>299</td><td>41.88923</td><td>-87.62800</td><td>41.94367</td><td>-87.64880</td><td>casual</td></tr>\n",
       "</tbody>\n",
       "</table>\n"
      ],
      "text/latex": [
       "A data.table: 6 × 13\n",
       "\\begin{tabular}{lllllllllllll}\n",
       " ride\\_id & rideable\\_type & started\\_at & ended\\_at & start\\_station\\_name & start\\_station\\_id & end\\_station\\_name & end\\_station\\_id & start\\_lat & start\\_lng & end\\_lat & end\\_lng & member\\_casual\\\\\n",
       " <chr> & <chr> & <chr> & <chr> & <chr> & <int> & <chr> & <int> & <dbl> & <dbl> & <dbl> & <dbl> & <chr>\\\\\n",
       "\\hline\n",
       "\t 21331F397B4D12CB & electric\\_bike & 2020-09-26 14:58:19 & 2020-09-26 15:04:10 & Museum of Science and Industry & 424 & Shore Dr \\& 55th St          & 247 & 41.79175 & -87.58394 & 41.79518 & -87.58102 & casual\\\\\n",
       "\t 151752B99EA40774 & electric\\_bike & 2020-09-26 12:24:38 & 2020-09-26 12:37:41 & Damen Ave \\& Wellington Ave     & 162 & Campbell Ave \\& Montrose Ave & 482 & 41.93586 & -87.67851 & 41.96157 & -87.69123 & casual\\\\\n",
       "\t D022E7106FFA648C & electric\\_bike & 2020-09-26 17:19:04 & 2020-09-26 17:39:26 & Torrence Ave \\& 106th St        & 707 &                             &  NA & 41.70285 & -87.55990 & 41.72000 & -87.58000 & casual\\\\\n",
       "\t 16F6F14FE158E720 & electric\\_bike & 2020-09-26 17:58:15 & 2020-09-26 18:43:59 &                                &  NA & Torrence Ave \\& 106th St     & 707 & 41.72000 & -87.58000 & 41.70283 & -87.55993 & casual\\\\\n",
       "\t FA6D0FE576341B6B & electric\\_bike & 2020-09-25 19:21:53 & 2020-09-25 20:37:06 & Stockton Dr \\& Wrightwood Ave   & 324 &                             &  NA & 41.93125 & -87.63870 & 41.89000 & -87.61000 & casual\\\\\n",
       "\t A48C9D5A2A7DCA34 & electric\\_bike & 2020-09-26 16:57:55 & 2020-09-26 17:31:20 & State St \\& Kinzie St           &  47 & Halsted St \\& Roscoe St      & 299 & 41.88923 & -87.62800 & 41.94367 & -87.64880 & casual\\\\\n",
       "\\end{tabular}\n"
      ],
      "text/markdown": [
       "\n",
       "A data.table: 6 × 13\n",
       "\n",
       "| ride_id &lt;chr&gt; | rideable_type &lt;chr&gt; | started_at &lt;chr&gt; | ended_at &lt;chr&gt; | start_station_name &lt;chr&gt; | start_station_id &lt;int&gt; | end_station_name &lt;chr&gt; | end_station_id &lt;int&gt; | start_lat &lt;dbl&gt; | start_lng &lt;dbl&gt; | end_lat &lt;dbl&gt; | end_lng &lt;dbl&gt; | member_casual &lt;chr&gt; |\n",
       "|---|---|---|---|---|---|---|---|---|---|---|---|---|\n",
       "| 21331F397B4D12CB | electric_bike | 2020-09-26 14:58:19 | 2020-09-26 15:04:10 | Museum of Science and Industry | 424 | Shore Dr &amp; 55th St          | 247 | 41.79175 | -87.58394 | 41.79518 | -87.58102 | casual |\n",
       "| 151752B99EA40774 | electric_bike | 2020-09-26 12:24:38 | 2020-09-26 12:37:41 | Damen Ave &amp; Wellington Ave     | 162 | Campbell Ave &amp; Montrose Ave | 482 | 41.93586 | -87.67851 | 41.96157 | -87.69123 | casual |\n",
       "| D022E7106FFA648C | electric_bike | 2020-09-26 17:19:04 | 2020-09-26 17:39:26 | Torrence Ave &amp; 106th St        | 707 | <!----> |  NA | 41.70285 | -87.55990 | 41.72000 | -87.58000 | casual |\n",
       "| 16F6F14FE158E720 | electric_bike | 2020-09-26 17:58:15 | 2020-09-26 18:43:59 | <!----> |  NA | Torrence Ave &amp; 106th St     | 707 | 41.72000 | -87.58000 | 41.70283 | -87.55993 | casual |\n",
       "| FA6D0FE576341B6B | electric_bike | 2020-09-25 19:21:53 | 2020-09-25 20:37:06 | Stockton Dr &amp; Wrightwood Ave   | 324 | <!----> |  NA | 41.93125 | -87.63870 | 41.89000 | -87.61000 | casual |\n",
       "| A48C9D5A2A7DCA34 | electric_bike | 2020-09-26 16:57:55 | 2020-09-26 17:31:20 | State St &amp; Kinzie St           |  47 | Halsted St &amp; Roscoe St      | 299 | 41.88923 | -87.62800 | 41.94367 | -87.64880 | casual |\n",
       "\n"
      ],
      "text/plain": [
       "  ride_id          rideable_type started_at          ended_at           \n",
       "1 21331F397B4D12CB electric_bike 2020-09-26 14:58:19 2020-09-26 15:04:10\n",
       "2 151752B99EA40774 electric_bike 2020-09-26 12:24:38 2020-09-26 12:37:41\n",
       "3 D022E7106FFA648C electric_bike 2020-09-26 17:19:04 2020-09-26 17:39:26\n",
       "4 16F6F14FE158E720 electric_bike 2020-09-26 17:58:15 2020-09-26 18:43:59\n",
       "5 FA6D0FE576341B6B electric_bike 2020-09-25 19:21:53 2020-09-25 20:37:06\n",
       "6 A48C9D5A2A7DCA34 electric_bike 2020-09-26 16:57:55 2020-09-26 17:31:20\n",
       "  start_station_name             start_station_id end_station_name           \n",
       "1 Museum of Science and Industry 424              Shore Dr & 55th St         \n",
       "2 Damen Ave & Wellington Ave     162              Campbell Ave & Montrose Ave\n",
       "3 Torrence Ave & 106th St        707                                         \n",
       "4                                 NA              Torrence Ave & 106th St    \n",
       "5 Stockton Dr & Wrightwood Ave   324                                         \n",
       "6 State St & Kinzie St            47              Halsted St & Roscoe St     \n",
       "  end_station_id start_lat start_lng end_lat  end_lng   member_casual\n",
       "1 247            41.79175  -87.58394 41.79518 -87.58102 casual       \n",
       "2 482            41.93586  -87.67851 41.96157 -87.69123 casual       \n",
       "3  NA            41.70285  -87.55990 41.72000 -87.58000 casual       \n",
       "4 707            41.72000  -87.58000 41.70283 -87.55993 casual       \n",
       "5  NA            41.93125  -87.63870 41.89000 -87.61000 casual       \n",
       "6 299            41.88923  -87.62800 41.94367 -87.64880 casual       "
      ]
     },
     "metadata": {},
     "output_type": "display_data"
    },
    {
     "data": {
      "text/html": [
       "<table class=\"dataframe\">\n",
       "<caption>A data.table: 6 × 13</caption>\n",
       "<thead>\n",
       "\t<tr><th scope=col>ride_id</th><th scope=col>rideable_type</th><th scope=col>started_at</th><th scope=col>ended_at</th><th scope=col>start_station_name</th><th scope=col>start_station_id</th><th scope=col>end_station_name</th><th scope=col>end_station_id</th><th scope=col>start_lat</th><th scope=col>start_lng</th><th scope=col>end_lat</th><th scope=col>end_lng</th><th scope=col>member_casual</th></tr>\n",
       "\t<tr><th scope=col>&lt;chr&gt;</th><th scope=col>&lt;chr&gt;</th><th scope=col>&lt;chr&gt;</th><th scope=col>&lt;chr&gt;</th><th scope=col>&lt;chr&gt;</th><th scope=col>&lt;chr&gt;</th><th scope=col>&lt;chr&gt;</th><th scope=col>&lt;chr&gt;</th><th scope=col>&lt;dbl&gt;</th><th scope=col>&lt;dbl&gt;</th><th scope=col>&lt;dbl&gt;</th><th scope=col>&lt;dbl&gt;</th><th scope=col>&lt;chr&gt;</th></tr>\n",
       "</thead>\n",
       "<tbody>\n",
       "\t<tr><td>6248FC5575ADD257</td><td>classic_bike </td><td>2020-12-28 22:30:39</td><td>2020-12-28 22:36:34</td><td>Rhodes Ave &amp; 32nd St</td><td>13215</td><td>Indiana Ave &amp; 31st St</td><td>TA1308000036</td><td>41.83621</td><td>-87.61353</td><td>41.83884</td><td>-87.62186</td><td>member</td></tr>\n",
       "\t<tr><td>4631EE956BCEA738</td><td>classic_bike </td><td>2020-12-19 13:59:33</td><td>2020-12-19 14:03:21</td><td>Rhodes Ave &amp; 32nd St</td><td>13215</td><td>Indiana Ave &amp; 31st St</td><td>TA1308000036</td><td>41.83621</td><td>-87.61353</td><td>41.83884</td><td>-87.62186</td><td>casual</td></tr>\n",
       "\t<tr><td>D17CBEDEA8DBDFF6</td><td>electric_bike</td><td>2020-12-20 15:48:41</td><td>2020-12-20 15:52:14</td><td>Rhodes Ave &amp; 32nd St</td><td>13215</td><td>Indiana Ave &amp; 31st St</td><td>TA1308000036</td><td>41.83672</td><td>-87.61336</td><td>41.83872</td><td>-87.62185</td><td>member</td></tr>\n",
       "\t<tr><td>447A6C67E9AF962E</td><td><span style=white-space:pre-wrap>docked_bike  </span></td><td>2020-12-02 16:59:58</td><td>2020-12-02 17:08:28</td><td>Rhodes Ave &amp; 32nd St</td><td>13215</td><td>Indiana Ave &amp; 31st St</td><td>TA1308000036</td><td>41.83621</td><td>-87.61353</td><td>41.83884</td><td>-87.62186</td><td>member</td></tr>\n",
       "\t<tr><td>F558C17E95751C62</td><td>electric_bike</td><td>2020-12-20 18:06:52</td><td>2020-12-20 18:09:53</td><td>Rhodes Ave &amp; 32nd St</td><td>13215</td><td>Indiana Ave &amp; 31st St</td><td>TA1308000036</td><td>41.83673</td><td>-87.61339</td><td>41.83875</td><td>-87.62186</td><td>member</td></tr>\n",
       "\t<tr><td>E1888F4B274EEA12</td><td>electric_bike</td><td>2020-12-03 09:43:42</td><td>2020-12-03 09:47:14</td><td>Rhodes Ave &amp; 32nd St</td><td>13215</td><td>Indiana Ave &amp; 31st St</td><td>TA1308000036</td><td>41.83677</td><td>-87.61337</td><td>41.83868</td><td>-87.62185</td><td>member</td></tr>\n",
       "</tbody>\n",
       "</table>\n"
      ],
      "text/latex": [
       "A data.table: 6 × 13\n",
       "\\begin{tabular}{lllllllllllll}\n",
       " ride\\_id & rideable\\_type & started\\_at & ended\\_at & start\\_station\\_name & start\\_station\\_id & end\\_station\\_name & end\\_station\\_id & start\\_lat & start\\_lng & end\\_lat & end\\_lng & member\\_casual\\\\\n",
       " <chr> & <chr> & <chr> & <chr> & <chr> & <chr> & <chr> & <chr> & <dbl> & <dbl> & <dbl> & <dbl> & <chr>\\\\\n",
       "\\hline\n",
       "\t 6248FC5575ADD257 & classic\\_bike  & 2020-12-28 22:30:39 & 2020-12-28 22:36:34 & Rhodes Ave \\& 32nd St & 13215 & Indiana Ave \\& 31st St & TA1308000036 & 41.83621 & -87.61353 & 41.83884 & -87.62186 & member\\\\\n",
       "\t 4631EE956BCEA738 & classic\\_bike  & 2020-12-19 13:59:33 & 2020-12-19 14:03:21 & Rhodes Ave \\& 32nd St & 13215 & Indiana Ave \\& 31st St & TA1308000036 & 41.83621 & -87.61353 & 41.83884 & -87.62186 & casual\\\\\n",
       "\t D17CBEDEA8DBDFF6 & electric\\_bike & 2020-12-20 15:48:41 & 2020-12-20 15:52:14 & Rhodes Ave \\& 32nd St & 13215 & Indiana Ave \\& 31st St & TA1308000036 & 41.83672 & -87.61336 & 41.83872 & -87.62185 & member\\\\\n",
       "\t 447A6C67E9AF962E & docked\\_bike   & 2020-12-02 16:59:58 & 2020-12-02 17:08:28 & Rhodes Ave \\& 32nd St & 13215 & Indiana Ave \\& 31st St & TA1308000036 & 41.83621 & -87.61353 & 41.83884 & -87.62186 & member\\\\\n",
       "\t F558C17E95751C62 & electric\\_bike & 2020-12-20 18:06:52 & 2020-12-20 18:09:53 & Rhodes Ave \\& 32nd St & 13215 & Indiana Ave \\& 31st St & TA1308000036 & 41.83673 & -87.61339 & 41.83875 & -87.62186 & member\\\\\n",
       "\t E1888F4B274EEA12 & electric\\_bike & 2020-12-03 09:43:42 & 2020-12-03 09:47:14 & Rhodes Ave \\& 32nd St & 13215 & Indiana Ave \\& 31st St & TA1308000036 & 41.83677 & -87.61337 & 41.83868 & -87.62185 & member\\\\\n",
       "\\end{tabular}\n"
      ],
      "text/markdown": [
       "\n",
       "A data.table: 6 × 13\n",
       "\n",
       "| ride_id &lt;chr&gt; | rideable_type &lt;chr&gt; | started_at &lt;chr&gt; | ended_at &lt;chr&gt; | start_station_name &lt;chr&gt; | start_station_id &lt;chr&gt; | end_station_name &lt;chr&gt; | end_station_id &lt;chr&gt; | start_lat &lt;dbl&gt; | start_lng &lt;dbl&gt; | end_lat &lt;dbl&gt; | end_lng &lt;dbl&gt; | member_casual &lt;chr&gt; |\n",
       "|---|---|---|---|---|---|---|---|---|---|---|---|---|\n",
       "| 6248FC5575ADD257 | classic_bike  | 2020-12-28 22:30:39 | 2020-12-28 22:36:34 | Rhodes Ave &amp; 32nd St | 13215 | Indiana Ave &amp; 31st St | TA1308000036 | 41.83621 | -87.61353 | 41.83884 | -87.62186 | member |\n",
       "| 4631EE956BCEA738 | classic_bike  | 2020-12-19 13:59:33 | 2020-12-19 14:03:21 | Rhodes Ave &amp; 32nd St | 13215 | Indiana Ave &amp; 31st St | TA1308000036 | 41.83621 | -87.61353 | 41.83884 | -87.62186 | casual |\n",
       "| D17CBEDEA8DBDFF6 | electric_bike | 2020-12-20 15:48:41 | 2020-12-20 15:52:14 | Rhodes Ave &amp; 32nd St | 13215 | Indiana Ave &amp; 31st St | TA1308000036 | 41.83672 | -87.61336 | 41.83872 | -87.62185 | member |\n",
       "| 447A6C67E9AF962E | docked_bike   | 2020-12-02 16:59:58 | 2020-12-02 17:08:28 | Rhodes Ave &amp; 32nd St | 13215 | Indiana Ave &amp; 31st St | TA1308000036 | 41.83621 | -87.61353 | 41.83884 | -87.62186 | member |\n",
       "| F558C17E95751C62 | electric_bike | 2020-12-20 18:06:52 | 2020-12-20 18:09:53 | Rhodes Ave &amp; 32nd St | 13215 | Indiana Ave &amp; 31st St | TA1308000036 | 41.83673 | -87.61339 | 41.83875 | -87.62186 | member |\n",
       "| E1888F4B274EEA12 | electric_bike | 2020-12-03 09:43:42 | 2020-12-03 09:47:14 | Rhodes Ave &amp; 32nd St | 13215 | Indiana Ave &amp; 31st St | TA1308000036 | 41.83677 | -87.61337 | 41.83868 | -87.62185 | member |\n",
       "\n"
      ],
      "text/plain": [
       "  ride_id          rideable_type started_at          ended_at           \n",
       "1 6248FC5575ADD257 classic_bike  2020-12-28 22:30:39 2020-12-28 22:36:34\n",
       "2 4631EE956BCEA738 classic_bike  2020-12-19 13:59:33 2020-12-19 14:03:21\n",
       "3 D17CBEDEA8DBDFF6 electric_bike 2020-12-20 15:48:41 2020-12-20 15:52:14\n",
       "4 447A6C67E9AF962E docked_bike   2020-12-02 16:59:58 2020-12-02 17:08:28\n",
       "5 F558C17E95751C62 electric_bike 2020-12-20 18:06:52 2020-12-20 18:09:53\n",
       "6 E1888F4B274EEA12 electric_bike 2020-12-03 09:43:42 2020-12-03 09:47:14\n",
       "  start_station_name   start_station_id end_station_name      end_station_id\n",
       "1 Rhodes Ave & 32nd St 13215            Indiana Ave & 31st St TA1308000036  \n",
       "2 Rhodes Ave & 32nd St 13215            Indiana Ave & 31st St TA1308000036  \n",
       "3 Rhodes Ave & 32nd St 13215            Indiana Ave & 31st St TA1308000036  \n",
       "4 Rhodes Ave & 32nd St 13215            Indiana Ave & 31st St TA1308000036  \n",
       "5 Rhodes Ave & 32nd St 13215            Indiana Ave & 31st St TA1308000036  \n",
       "6 Rhodes Ave & 32nd St 13215            Indiana Ave & 31st St TA1308000036  \n",
       "  start_lat start_lng end_lat  end_lng   member_casual\n",
       "1 41.83621  -87.61353 41.83884 -87.62186 member       \n",
       "2 41.83621  -87.61353 41.83884 -87.62186 casual       \n",
       "3 41.83672  -87.61336 41.83872 -87.62185 member       \n",
       "4 41.83621  -87.61353 41.83884 -87.62186 member       \n",
       "5 41.83673  -87.61339 41.83875 -87.62186 member       \n",
       "6 41.83677  -87.61337 41.83868 -87.62185 member       "
      ]
     },
     "metadata": {},
     "output_type": "display_data"
    }
   ],
   "source": [
    "# Checking 2020 data\n",
    "tail(base_20Q1)\n",
    "tail(base_20Q2)\n",
    "tail(base_20Q3)\n",
    "tail(base_20Q4)"
   ]
  },
  {
   "cell_type": "code",
   "execution_count": 19,
   "id": "184bef0c-bfa7-42b1-9d08-cb4250c7a1d0",
   "metadata": {},
   "outputs": [
    {
     "data": {
      "text/html": [
       "<style>\n",
       ".list-inline {list-style: none; margin:0; padding: 0}\n",
       ".list-inline>li {display: inline-block}\n",
       ".list-inline>li:not(:last-child)::after {content: \"\\00b7\"; padding: 0 .5ex}\n",
       "</style>\n",
       "<ol class=list-inline><li>'trip_id'</li><li>'start_time'</li><li>'end_time'</li><li>'bikeid'</li><li>'tripduration'</li><li>'from_station_id'</li><li>'from_station_name'</li><li>'to_station_id'</li><li>'to_station_name'</li><li>'usertype'</li><li>'gender'</li><li>'birthyear'</li></ol>\n"
      ],
      "text/latex": [
       "\\begin{enumerate*}\n",
       "\\item 'trip\\_id'\n",
       "\\item 'start\\_time'\n",
       "\\item 'end\\_time'\n",
       "\\item 'bikeid'\n",
       "\\item 'tripduration'\n",
       "\\item 'from\\_station\\_id'\n",
       "\\item 'from\\_station\\_name'\n",
       "\\item 'to\\_station\\_id'\n",
       "\\item 'to\\_station\\_name'\n",
       "\\item 'usertype'\n",
       "\\item 'gender'\n",
       "\\item 'birthyear'\n",
       "\\end{enumerate*}\n"
      ],
      "text/markdown": [
       "1. 'trip_id'\n",
       "2. 'start_time'\n",
       "3. 'end_time'\n",
       "4. 'bikeid'\n",
       "5. 'tripduration'\n",
       "6. 'from_station_id'\n",
       "7. 'from_station_name'\n",
       "8. 'to_station_id'\n",
       "9. 'to_station_name'\n",
       "10. 'usertype'\n",
       "11. 'gender'\n",
       "12. 'birthyear'\n",
       "\n",
       "\n"
      ],
      "text/plain": [
       " [1] \"trip_id\"           \"start_time\"        \"end_time\"         \n",
       " [4] \"bikeid\"            \"tripduration\"      \"from_station_id\"  \n",
       " [7] \"from_station_name\" \"to_station_id\"     \"to_station_name\"  \n",
       "[10] \"usertype\"          \"gender\"            \"birthyear\"        "
      ]
     },
     "metadata": {},
     "output_type": "display_data"
    },
    {
     "data": {
      "text/html": [
       "<style>\n",
       ".list-inline {list-style: none; margin:0; padding: 0}\n",
       ".list-inline>li {display: inline-block}\n",
       ".list-inline>li:not(:last-child)::after {content: \"\\00b7\"; padding: 0 .5ex}\n",
       "</style>\n",
       "<ol class=list-inline><li>'trip_id'</li><li>'start_time'</li><li>'end_time'</li><li>'bikeid'</li><li>'tripduration'</li><li>'from_station_id'</li><li>'from_station_name'</li><li>'to_station_id'</li><li>'to_station_name'</li><li>'usertype'</li><li>'gender'</li><li>'birthyear'</li></ol>\n"
      ],
      "text/latex": [
       "\\begin{enumerate*}\n",
       "\\item 'trip\\_id'\n",
       "\\item 'start\\_time'\n",
       "\\item 'end\\_time'\n",
       "\\item 'bikeid'\n",
       "\\item 'tripduration'\n",
       "\\item 'from\\_station\\_id'\n",
       "\\item 'from\\_station\\_name'\n",
       "\\item 'to\\_station\\_id'\n",
       "\\item 'to\\_station\\_name'\n",
       "\\item 'usertype'\n",
       "\\item 'gender'\n",
       "\\item 'birthyear'\n",
       "\\end{enumerate*}\n"
      ],
      "text/markdown": [
       "1. 'trip_id'\n",
       "2. 'start_time'\n",
       "3. 'end_time'\n",
       "4. 'bikeid'\n",
       "5. 'tripduration'\n",
       "6. 'from_station_id'\n",
       "7. 'from_station_name'\n",
       "8. 'to_station_id'\n",
       "9. 'to_station_name'\n",
       "10. 'usertype'\n",
       "11. 'gender'\n",
       "12. 'birthyear'\n",
       "\n",
       "\n"
      ],
      "text/plain": [
       " [1] \"trip_id\"           \"start_time\"        \"end_time\"         \n",
       " [4] \"bikeid\"            \"tripduration\"      \"from_station_id\"  \n",
       " [7] \"from_station_name\" \"to_station_id\"     \"to_station_name\"  \n",
       "[10] \"usertype\"          \"gender\"            \"birthyear\"        "
      ]
     },
     "metadata": {},
     "output_type": "display_data"
    },
    {
     "data": {
      "text/html": [
       "<style>\n",
       ".list-inline {list-style: none; margin:0; padding: 0}\n",
       ".list-inline>li {display: inline-block}\n",
       ".list-inline>li:not(:last-child)::after {content: \"\\00b7\"; padding: 0 .5ex}\n",
       "</style>\n",
       "<ol class=list-inline><li>'trip_id'</li><li>'start_time'</li><li>'end_time'</li><li>'bikeid'</li><li>'tripduration'</li><li>'from_station_id'</li><li>'from_station_name'</li><li>'to_station_id'</li><li>'to_station_name'</li><li>'usertype'</li><li>'gender'</li><li>'birthyear'</li></ol>\n"
      ],
      "text/latex": [
       "\\begin{enumerate*}\n",
       "\\item 'trip\\_id'\n",
       "\\item 'start\\_time'\n",
       "\\item 'end\\_time'\n",
       "\\item 'bikeid'\n",
       "\\item 'tripduration'\n",
       "\\item 'from\\_station\\_id'\n",
       "\\item 'from\\_station\\_name'\n",
       "\\item 'to\\_station\\_id'\n",
       "\\item 'to\\_station\\_name'\n",
       "\\item 'usertype'\n",
       "\\item 'gender'\n",
       "\\item 'birthyear'\n",
       "\\end{enumerate*}\n"
      ],
      "text/markdown": [
       "1. 'trip_id'\n",
       "2. 'start_time'\n",
       "3. 'end_time'\n",
       "4. 'bikeid'\n",
       "5. 'tripduration'\n",
       "6. 'from_station_id'\n",
       "7. 'from_station_name'\n",
       "8. 'to_station_id'\n",
       "9. 'to_station_name'\n",
       "10. 'usertype'\n",
       "11. 'gender'\n",
       "12. 'birthyear'\n",
       "\n",
       "\n"
      ],
      "text/plain": [
       " [1] \"trip_id\"           \"start_time\"        \"end_time\"         \n",
       " [4] \"bikeid\"            \"tripduration\"      \"from_station_id\"  \n",
       " [7] \"from_station_name\" \"to_station_id\"     \"to_station_name\"  \n",
       "[10] \"usertype\"          \"gender\"            \"birthyear\"        "
      ]
     },
     "metadata": {},
     "output_type": "display_data"
    },
    {
     "data": {
      "text/html": [
       "<style>\n",
       ".list-inline {list-style: none; margin:0; padding: 0}\n",
       ".list-inline>li {display: inline-block}\n",
       ".list-inline>li:not(:last-child)::after {content: \"\\00b7\"; padding: 0 .5ex}\n",
       "</style>\n",
       "<ol class=list-inline><li>'trip_id'</li><li>'start_time'</li><li>'end_time'</li><li>'bikeid'</li><li>'tripduration'</li><li>'from_station_id'</li><li>'from_station_name'</li><li>'to_station_id'</li><li>'to_station_name'</li><li>'usertype'</li><li>'gender'</li><li>'birthyear'</li></ol>\n"
      ],
      "text/latex": [
       "\\begin{enumerate*}\n",
       "\\item 'trip\\_id'\n",
       "\\item 'start\\_time'\n",
       "\\item 'end\\_time'\n",
       "\\item 'bikeid'\n",
       "\\item 'tripduration'\n",
       "\\item 'from\\_station\\_id'\n",
       "\\item 'from\\_station\\_name'\n",
       "\\item 'to\\_station\\_id'\n",
       "\\item 'to\\_station\\_name'\n",
       "\\item 'usertype'\n",
       "\\item 'gender'\n",
       "\\item 'birthyear'\n",
       "\\end{enumerate*}\n"
      ],
      "text/markdown": [
       "1. 'trip_id'\n",
       "2. 'start_time'\n",
       "3. 'end_time'\n",
       "4. 'bikeid'\n",
       "5. 'tripduration'\n",
       "6. 'from_station_id'\n",
       "7. 'from_station_name'\n",
       "8. 'to_station_id'\n",
       "9. 'to_station_name'\n",
       "10. 'usertype'\n",
       "11. 'gender'\n",
       "12. 'birthyear'\n",
       "\n",
       "\n"
      ],
      "text/plain": [
       " [1] \"trip_id\"           \"start_time\"        \"end_time\"         \n",
       " [4] \"bikeid\"            \"tripduration\"      \"from_station_id\"  \n",
       " [7] \"from_station_name\" \"to_station_id\"     \"to_station_name\"  \n",
       "[10] \"usertype\"          \"gender\"            \"birthyear\"        "
      ]
     },
     "metadata": {},
     "output_type": "display_data"
    },
    {
     "data": {
      "text/html": [
       "<style>\n",
       ".list-inline {list-style: none; margin:0; padding: 0}\n",
       ".list-inline>li {display: inline-block}\n",
       ".list-inline>li:not(:last-child)::after {content: \"\\00b7\"; padding: 0 .5ex}\n",
       "</style>\n",
       "<ol class=list-inline><li>'ride_id'</li><li>'rideable_type'</li><li>'started_at'</li><li>'ended_at'</li><li>'start_station_name'</li><li>'start_station_id'</li><li>'end_station_name'</li><li>'end_station_id'</li><li>'start_lat'</li><li>'start_lng'</li><li>'end_lat'</li><li>'end_lng'</li><li>'member_casual'</li></ol>\n"
      ],
      "text/latex": [
       "\\begin{enumerate*}\n",
       "\\item 'ride\\_id'\n",
       "\\item 'rideable\\_type'\n",
       "\\item 'started\\_at'\n",
       "\\item 'ended\\_at'\n",
       "\\item 'start\\_station\\_name'\n",
       "\\item 'start\\_station\\_id'\n",
       "\\item 'end\\_station\\_name'\n",
       "\\item 'end\\_station\\_id'\n",
       "\\item 'start\\_lat'\n",
       "\\item 'start\\_lng'\n",
       "\\item 'end\\_lat'\n",
       "\\item 'end\\_lng'\n",
       "\\item 'member\\_casual'\n",
       "\\end{enumerate*}\n"
      ],
      "text/markdown": [
       "1. 'ride_id'\n",
       "2. 'rideable_type'\n",
       "3. 'started_at'\n",
       "4. 'ended_at'\n",
       "5. 'start_station_name'\n",
       "6. 'start_station_id'\n",
       "7. 'end_station_name'\n",
       "8. 'end_station_id'\n",
       "9. 'start_lat'\n",
       "10. 'start_lng'\n",
       "11. 'end_lat'\n",
       "12. 'end_lng'\n",
       "13. 'member_casual'\n",
       "\n",
       "\n"
      ],
      "text/plain": [
       " [1] \"ride_id\"            \"rideable_type\"      \"started_at\"        \n",
       " [4] \"ended_at\"           \"start_station_name\" \"start_station_id\"  \n",
       " [7] \"end_station_name\"   \"end_station_id\"     \"start_lat\"         \n",
       "[10] \"start_lng\"          \"end_lat\"            \"end_lng\"           \n",
       "[13] \"member_casual\"     "
      ]
     },
     "metadata": {},
     "output_type": "display_data"
    },
    {
     "data": {
      "text/html": [
       "<style>\n",
       ".list-inline {list-style: none; margin:0; padding: 0}\n",
       ".list-inline>li {display: inline-block}\n",
       ".list-inline>li:not(:last-child)::after {content: \"\\00b7\"; padding: 0 .5ex}\n",
       "</style>\n",
       "<ol class=list-inline><li>'ride_id'</li><li>'rideable_type'</li><li>'started_at'</li><li>'ended_at'</li><li>'start_station_name'</li><li>'start_station_id'</li><li>'end_station_name'</li><li>'end_station_id'</li><li>'start_lat'</li><li>'start_lng'</li><li>'end_lat'</li><li>'end_lng'</li><li>'member_casual'</li></ol>\n"
      ],
      "text/latex": [
       "\\begin{enumerate*}\n",
       "\\item 'ride\\_id'\n",
       "\\item 'rideable\\_type'\n",
       "\\item 'started\\_at'\n",
       "\\item 'ended\\_at'\n",
       "\\item 'start\\_station\\_name'\n",
       "\\item 'start\\_station\\_id'\n",
       "\\item 'end\\_station\\_name'\n",
       "\\item 'end\\_station\\_id'\n",
       "\\item 'start\\_lat'\n",
       "\\item 'start\\_lng'\n",
       "\\item 'end\\_lat'\n",
       "\\item 'end\\_lng'\n",
       "\\item 'member\\_casual'\n",
       "\\end{enumerate*}\n"
      ],
      "text/markdown": [
       "1. 'ride_id'\n",
       "2. 'rideable_type'\n",
       "3. 'started_at'\n",
       "4. 'ended_at'\n",
       "5. 'start_station_name'\n",
       "6. 'start_station_id'\n",
       "7. 'end_station_name'\n",
       "8. 'end_station_id'\n",
       "9. 'start_lat'\n",
       "10. 'start_lng'\n",
       "11. 'end_lat'\n",
       "12. 'end_lng'\n",
       "13. 'member_casual'\n",
       "\n",
       "\n"
      ],
      "text/plain": [
       " [1] \"ride_id\"            \"rideable_type\"      \"started_at\"        \n",
       " [4] \"ended_at\"           \"start_station_name\" \"start_station_id\"  \n",
       " [7] \"end_station_name\"   \"end_station_id\"     \"start_lat\"         \n",
       "[10] \"start_lng\"          \"end_lat\"            \"end_lng\"           \n",
       "[13] \"member_casual\"     "
      ]
     },
     "metadata": {},
     "output_type": "display_data"
    },
    {
     "data": {
      "text/html": [
       "<style>\n",
       ".list-inline {list-style: none; margin:0; padding: 0}\n",
       ".list-inline>li {display: inline-block}\n",
       ".list-inline>li:not(:last-child)::after {content: \"\\00b7\"; padding: 0 .5ex}\n",
       "</style>\n",
       "<ol class=list-inline><li>'ride_id'</li><li>'rideable_type'</li><li>'started_at'</li><li>'ended_at'</li><li>'start_station_name'</li><li>'start_station_id'</li><li>'end_station_name'</li><li>'end_station_id'</li><li>'start_lat'</li><li>'start_lng'</li><li>'end_lat'</li><li>'end_lng'</li><li>'member_casual'</li></ol>\n"
      ],
      "text/latex": [
       "\\begin{enumerate*}\n",
       "\\item 'ride\\_id'\n",
       "\\item 'rideable\\_type'\n",
       "\\item 'started\\_at'\n",
       "\\item 'ended\\_at'\n",
       "\\item 'start\\_station\\_name'\n",
       "\\item 'start\\_station\\_id'\n",
       "\\item 'end\\_station\\_name'\n",
       "\\item 'end\\_station\\_id'\n",
       "\\item 'start\\_lat'\n",
       "\\item 'start\\_lng'\n",
       "\\item 'end\\_lat'\n",
       "\\item 'end\\_lng'\n",
       "\\item 'member\\_casual'\n",
       "\\end{enumerate*}\n"
      ],
      "text/markdown": [
       "1. 'ride_id'\n",
       "2. 'rideable_type'\n",
       "3. 'started_at'\n",
       "4. 'ended_at'\n",
       "5. 'start_station_name'\n",
       "6. 'start_station_id'\n",
       "7. 'end_station_name'\n",
       "8. 'end_station_id'\n",
       "9. 'start_lat'\n",
       "10. 'start_lng'\n",
       "11. 'end_lat'\n",
       "12. 'end_lng'\n",
       "13. 'member_casual'\n",
       "\n",
       "\n"
      ],
      "text/plain": [
       " [1] \"ride_id\"            \"rideable_type\"      \"started_at\"        \n",
       " [4] \"ended_at\"           \"start_station_name\" \"start_station_id\"  \n",
       " [7] \"end_station_name\"   \"end_station_id\"     \"start_lat\"         \n",
       "[10] \"start_lng\"          \"end_lat\"            \"end_lng\"           \n",
       "[13] \"member_casual\"     "
      ]
     },
     "metadata": {},
     "output_type": "display_data"
    },
    {
     "data": {
      "text/html": [
       "<style>\n",
       ".list-inline {list-style: none; margin:0; padding: 0}\n",
       ".list-inline>li {display: inline-block}\n",
       ".list-inline>li:not(:last-child)::after {content: \"\\00b7\"; padding: 0 .5ex}\n",
       "</style>\n",
       "<ol class=list-inline><li>'ride_id'</li><li>'rideable_type'</li><li>'started_at'</li><li>'ended_at'</li><li>'start_station_name'</li><li>'start_station_id'</li><li>'end_station_name'</li><li>'end_station_id'</li><li>'start_lat'</li><li>'start_lng'</li><li>'end_lat'</li><li>'end_lng'</li><li>'member_casual'</li></ol>\n"
      ],
      "text/latex": [
       "\\begin{enumerate*}\n",
       "\\item 'ride\\_id'\n",
       "\\item 'rideable\\_type'\n",
       "\\item 'started\\_at'\n",
       "\\item 'ended\\_at'\n",
       "\\item 'start\\_station\\_name'\n",
       "\\item 'start\\_station\\_id'\n",
       "\\item 'end\\_station\\_name'\n",
       "\\item 'end\\_station\\_id'\n",
       "\\item 'start\\_lat'\n",
       "\\item 'start\\_lng'\n",
       "\\item 'end\\_lat'\n",
       "\\item 'end\\_lng'\n",
       "\\item 'member\\_casual'\n",
       "\\end{enumerate*}\n"
      ],
      "text/markdown": [
       "1. 'ride_id'\n",
       "2. 'rideable_type'\n",
       "3. 'started_at'\n",
       "4. 'ended_at'\n",
       "5. 'start_station_name'\n",
       "6. 'start_station_id'\n",
       "7. 'end_station_name'\n",
       "8. 'end_station_id'\n",
       "9. 'start_lat'\n",
       "10. 'start_lng'\n",
       "11. 'end_lat'\n",
       "12. 'end_lng'\n",
       "13. 'member_casual'\n",
       "\n",
       "\n"
      ],
      "text/plain": [
       " [1] \"ride_id\"            \"rideable_type\"      \"started_at\"        \n",
       " [4] \"ended_at\"           \"start_station_name\" \"start_station_id\"  \n",
       " [7] \"end_station_name\"   \"end_station_id\"     \"start_lat\"         \n",
       "[10] \"start_lng\"          \"end_lat\"            \"end_lng\"           \n",
       "[13] \"member_casual\"     "
      ]
     },
     "metadata": {},
     "output_type": "display_data"
    }
   ],
   "source": [
    "# Get column names for all data\n",
    "colnames(base_19Q1)\n",
    "colnames(base_19Q1)\n",
    "colnames(base_19Q3)\n",
    "colnames(base_19Q4)\n",
    "colnames(base_20Q1)\n",
    "colnames(base_20Q2)\n",
    "colnames(base_20Q3)\n",
    "colnames(base_20Q4)"
   ]
  },
  {
   "cell_type": "code",
   "execution_count": 20,
   "id": "d0d05469-62f2-482d-a281-19f24cbb4a4e",
   "metadata": {},
   "outputs": [
    {
     "data": {
      "text/html": [
       "<table class=\"dataframe\">\n",
       "<caption>A data.frame: 2 × 1</caption>\n",
       "<thead>\n",
       "\t<tr><th></th><th scope=col>usertype</th></tr>\n",
       "\t<tr><th></th><th scope=col>&lt;chr&gt;</th></tr>\n",
       "</thead>\n",
       "<tbody>\n",
       "\t<tr><th scope=row>1</th><td>Subscriber</td></tr>\n",
       "\t<tr><th scope=row>2</th><td>Customer  </td></tr>\n",
       "</tbody>\n",
       "</table>\n"
      ],
      "text/latex": [
       "A data.frame: 2 × 1\n",
       "\\begin{tabular}{r|l}\n",
       "  & usertype\\\\\n",
       "  & <chr>\\\\\n",
       "\\hline\n",
       "\t1 & Subscriber\\\\\n",
       "\t2 & Customer  \\\\\n",
       "\\end{tabular}\n"
      ],
      "text/markdown": [
       "\n",
       "A data.frame: 2 × 1\n",
       "\n",
       "| <!--/--> | usertype &lt;chr&gt; |\n",
       "|---|---|\n",
       "| 1 | Subscriber |\n",
       "| 2 | Customer   |\n",
       "\n"
      ],
      "text/plain": [
       "  usertype  \n",
       "1 Subscriber\n",
       "2 Customer  "
      ]
     },
     "metadata": {},
     "output_type": "display_data"
    },
    {
     "data": {
      "text/html": [
       "<table class=\"dataframe\">\n",
       "<caption>A data.frame: 2 × 1</caption>\n",
       "<thead>\n",
       "\t<tr><th></th><th scope=col>User.Type</th></tr>\n",
       "\t<tr><th></th><th scope=col>&lt;chr&gt;</th></tr>\n",
       "</thead>\n",
       "<tbody>\n",
       "\t<tr><th scope=row>1</th><td>Subscriber</td></tr>\n",
       "\t<tr><th scope=row>2</th><td>Customer  </td></tr>\n",
       "</tbody>\n",
       "</table>\n"
      ],
      "text/latex": [
       "A data.frame: 2 × 1\n",
       "\\begin{tabular}{r|l}\n",
       "  & User.Type\\\\\n",
       "  & <chr>\\\\\n",
       "\\hline\n",
       "\t1 & Subscriber\\\\\n",
       "\t2 & Customer  \\\\\n",
       "\\end{tabular}\n"
      ],
      "text/markdown": [
       "\n",
       "A data.frame: 2 × 1\n",
       "\n",
       "| <!--/--> | User.Type &lt;chr&gt; |\n",
       "|---|---|\n",
       "| 1 | Subscriber |\n",
       "| 2 | Customer   |\n",
       "\n"
      ],
      "text/plain": [
       "  User.Type \n",
       "1 Subscriber\n",
       "2 Customer  "
      ]
     },
     "metadata": {},
     "output_type": "display_data"
    },
    {
     "data": {
      "text/html": [
       "<table class=\"dataframe\">\n",
       "<caption>A data.frame: 2 × 1</caption>\n",
       "<thead>\n",
       "\t<tr><th></th><th scope=col>usertype</th></tr>\n",
       "\t<tr><th></th><th scope=col>&lt;chr&gt;</th></tr>\n",
       "</thead>\n",
       "<tbody>\n",
       "\t<tr><th scope=row>1</th><td>Subscriber</td></tr>\n",
       "\t<tr><th scope=row>2</th><td>Customer  </td></tr>\n",
       "</tbody>\n",
       "</table>\n"
      ],
      "text/latex": [
       "A data.frame: 2 × 1\n",
       "\\begin{tabular}{r|l}\n",
       "  & usertype\\\\\n",
       "  & <chr>\\\\\n",
       "\\hline\n",
       "\t1 & Subscriber\\\\\n",
       "\t2 & Customer  \\\\\n",
       "\\end{tabular}\n"
      ],
      "text/markdown": [
       "\n",
       "A data.frame: 2 × 1\n",
       "\n",
       "| <!--/--> | usertype &lt;chr&gt; |\n",
       "|---|---|\n",
       "| 1 | Subscriber |\n",
       "| 2 | Customer   |\n",
       "\n"
      ],
      "text/plain": [
       "  usertype  \n",
       "1 Subscriber\n",
       "2 Customer  "
      ]
     },
     "metadata": {},
     "output_type": "display_data"
    },
    {
     "data": {
      "text/html": [
       "<table class=\"dataframe\">\n",
       "<caption>A data.frame: 2 × 1</caption>\n",
       "<thead>\n",
       "\t<tr><th></th><th scope=col>usertype</th></tr>\n",
       "\t<tr><th></th><th scope=col>&lt;chr&gt;</th></tr>\n",
       "</thead>\n",
       "<tbody>\n",
       "\t<tr><th scope=row>1</th><td>Subscriber</td></tr>\n",
       "\t<tr><th scope=row>2</th><td>Customer  </td></tr>\n",
       "</tbody>\n",
       "</table>\n"
      ],
      "text/latex": [
       "A data.frame: 2 × 1\n",
       "\\begin{tabular}{r|l}\n",
       "  & usertype\\\\\n",
       "  & <chr>\\\\\n",
       "\\hline\n",
       "\t1 & Subscriber\\\\\n",
       "\t2 & Customer  \\\\\n",
       "\\end{tabular}\n"
      ],
      "text/markdown": [
       "\n",
       "A data.frame: 2 × 1\n",
       "\n",
       "| <!--/--> | usertype &lt;chr&gt; |\n",
       "|---|---|\n",
       "| 1 | Subscriber |\n",
       "| 2 | Customer   |\n",
       "\n"
      ],
      "text/plain": [
       "  usertype  \n",
       "1 Subscriber\n",
       "2 Customer  "
      ]
     },
     "metadata": {},
     "output_type": "display_data"
    },
    {
     "data": {
      "text/html": [
       "<table class=\"dataframe\">\n",
       "<caption>A data.frame: 2 × 1</caption>\n",
       "<thead>\n",
       "\t<tr><th></th><th scope=col>member_casual</th></tr>\n",
       "\t<tr><th></th><th scope=col>&lt;chr&gt;</th></tr>\n",
       "</thead>\n",
       "<tbody>\n",
       "\t<tr><th scope=row>1</th><td>member</td></tr>\n",
       "\t<tr><th scope=row>2</th><td>casual</td></tr>\n",
       "</tbody>\n",
       "</table>\n"
      ],
      "text/latex": [
       "A data.frame: 2 × 1\n",
       "\\begin{tabular}{r|l}\n",
       "  & member\\_casual\\\\\n",
       "  & <chr>\\\\\n",
       "\\hline\n",
       "\t1 & member\\\\\n",
       "\t2 & casual\\\\\n",
       "\\end{tabular}\n"
      ],
      "text/markdown": [
       "\n",
       "A data.frame: 2 × 1\n",
       "\n",
       "| <!--/--> | member_casual &lt;chr&gt; |\n",
       "|---|---|\n",
       "| 1 | member |\n",
       "| 2 | casual |\n",
       "\n"
      ],
      "text/plain": [
       "  member_casual\n",
       "1 member       \n",
       "2 casual       "
      ]
     },
     "metadata": {},
     "output_type": "display_data"
    },
    {
     "data": {
      "text/html": [
       "<table class=\"dataframe\">\n",
       "<caption>A data.table: 2 × 1</caption>\n",
       "<thead>\n",
       "\t<tr><th scope=col>member_casual</th></tr>\n",
       "\t<tr><th scope=col>&lt;chr&gt;</th></tr>\n",
       "</thead>\n",
       "<tbody>\n",
       "\t<tr><td>member</td></tr>\n",
       "\t<tr><td>casual</td></tr>\n",
       "</tbody>\n",
       "</table>\n"
      ],
      "text/latex": [
       "A data.table: 2 × 1\n",
       "\\begin{tabular}{l}\n",
       " member\\_casual\\\\\n",
       " <chr>\\\\\n",
       "\\hline\n",
       "\t member\\\\\n",
       "\t casual\\\\\n",
       "\\end{tabular}\n"
      ],
      "text/markdown": [
       "\n",
       "A data.table: 2 × 1\n",
       "\n",
       "| member_casual &lt;chr&gt; |\n",
       "|---|\n",
       "| member |\n",
       "| casual |\n",
       "\n"
      ],
      "text/plain": [
       "  member_casual\n",
       "1 member       \n",
       "2 casual       "
      ]
     },
     "metadata": {},
     "output_type": "display_data"
    },
    {
     "data": {
      "text/html": [
       "<table class=\"dataframe\">\n",
       "<caption>A data.table: 2 × 1</caption>\n",
       "<thead>\n",
       "\t<tr><th scope=col>member_casual</th></tr>\n",
       "\t<tr><th scope=col>&lt;chr&gt;</th></tr>\n",
       "</thead>\n",
       "<tbody>\n",
       "\t<tr><td>member</td></tr>\n",
       "\t<tr><td>casual</td></tr>\n",
       "</tbody>\n",
       "</table>\n"
      ],
      "text/latex": [
       "A data.table: 2 × 1\n",
       "\\begin{tabular}{l}\n",
       " member\\_casual\\\\\n",
       " <chr>\\\\\n",
       "\\hline\n",
       "\t member\\\\\n",
       "\t casual\\\\\n",
       "\\end{tabular}\n"
      ],
      "text/markdown": [
       "\n",
       "A data.table: 2 × 1\n",
       "\n",
       "| member_casual &lt;chr&gt; |\n",
       "|---|\n",
       "| member |\n",
       "| casual |\n",
       "\n"
      ],
      "text/plain": [
       "  member_casual\n",
       "1 member       \n",
       "2 casual       "
      ]
     },
     "metadata": {},
     "output_type": "display_data"
    },
    {
     "data": {
      "text/html": [
       "<table class=\"dataframe\">\n",
       "<caption>A data.table: 2 × 1</caption>\n",
       "<thead>\n",
       "\t<tr><th scope=col>member_casual</th></tr>\n",
       "\t<tr><th scope=col>&lt;chr&gt;</th></tr>\n",
       "</thead>\n",
       "<tbody>\n",
       "\t<tr><td>casual</td></tr>\n",
       "\t<tr><td>member</td></tr>\n",
       "</tbody>\n",
       "</table>\n"
      ],
      "text/latex": [
       "A data.table: 2 × 1\n",
       "\\begin{tabular}{l}\n",
       " member\\_casual\\\\\n",
       " <chr>\\\\\n",
       "\\hline\n",
       "\t casual\\\\\n",
       "\t member\\\\\n",
       "\\end{tabular}\n"
      ],
      "text/markdown": [
       "\n",
       "A data.table: 2 × 1\n",
       "\n",
       "| member_casual &lt;chr&gt; |\n",
       "|---|\n",
       "| casual |\n",
       "| member |\n",
       "\n"
      ],
      "text/plain": [
       "  member_casual\n",
       "1 casual       \n",
       "2 member       "
      ]
     },
     "metadata": {},
     "output_type": "display_data"
    }
   ],
   "source": [
    "# Making sure there are no misspelled user type\n",
    "\n",
    "usertype_19Q1 <- base_19Q1 %>%\n",
    "    select(usertype) %>%\n",
    "    distinct()\n",
    "\n",
    "usertype_19Q2 <- base_19Q2 %>%\n",
    "    select(User.Type) %>%\n",
    "    distinct()\n",
    "\n",
    "usertype_19Q3 <- base_19Q3 %>%\n",
    "    select(usertype) %>%\n",
    "    distinct()\n",
    "\n",
    "usertype_19Q4 <- base_19Q4 %>%\n",
    "    select(usertype) %>%\n",
    "    distinct()\n",
    "\n",
    "usertype_20Q1 <- base_20Q1 %>%\n",
    "    select(member_casual) %>%\n",
    "    distinct()\n",
    "\n",
    "usertype_20Q2 <- base_20Q2 %>%\n",
    "    select(member_casual) %>%\n",
    "    distinct()\n",
    "\n",
    "usertype_20Q3 <- base_20Q3 %>%\n",
    "    select(member_casual) %>%\n",
    "    distinct()\n",
    "\n",
    "usertype_20Q4 <- base_20Q4 %>%\n",
    "    select(member_casual) %>%\n",
    "    distinct()\n",
    "\n",
    "head(usertype_19Q1)\n",
    "head(usertype_19Q2)\n",
    "head(usertype_19Q3)\n",
    "head(usertype_19Q4)\n",
    "head(usertype_20Q1)\n",
    "head(usertype_20Q2)\n",
    "head(usertype_20Q3)\n",
    "head(usertype_20Q4)"
   ]
  },
  {
   "cell_type": "code",
   "execution_count": 22,
   "id": "fcb81a2b-65e9-4b06-803a-2558ca5c5e10",
   "metadata": {},
   "outputs": [
    {
     "data": {
      "text/html": [
       "<table class=\"dataframe\">\n",
       "<caption>A data.frame: 1 × 1</caption>\n",
       "<thead>\n",
       "\t<tr><th></th><th scope=col>rideable_type</th></tr>\n",
       "\t<tr><th></th><th scope=col>&lt;chr&gt;</th></tr>\n",
       "</thead>\n",
       "<tbody>\n",
       "\t<tr><th scope=row>1</th><td>docked_bike</td></tr>\n",
       "</tbody>\n",
       "</table>\n"
      ],
      "text/latex": [
       "A data.frame: 1 × 1\n",
       "\\begin{tabular}{r|l}\n",
       "  & rideable\\_type\\\\\n",
       "  & <chr>\\\\\n",
       "\\hline\n",
       "\t1 & docked\\_bike\\\\\n",
       "\\end{tabular}\n"
      ],
      "text/markdown": [
       "\n",
       "A data.frame: 1 × 1\n",
       "\n",
       "| <!--/--> | rideable_type &lt;chr&gt; |\n",
       "|---|---|\n",
       "| 1 | docked_bike |\n",
       "\n"
      ],
      "text/plain": [
       "  rideable_type\n",
       "1 docked_bike  "
      ]
     },
     "metadata": {},
     "output_type": "display_data"
    },
    {
     "data": {
      "text/html": [
       "<table class=\"dataframe\">\n",
       "<caption>A data.table: 1 × 1</caption>\n",
       "<thead>\n",
       "\t<tr><th scope=col>rideable_type</th></tr>\n",
       "\t<tr><th scope=col>&lt;chr&gt;</th></tr>\n",
       "</thead>\n",
       "<tbody>\n",
       "\t<tr><td>docked_bike</td></tr>\n",
       "</tbody>\n",
       "</table>\n"
      ],
      "text/latex": [
       "A data.table: 1 × 1\n",
       "\\begin{tabular}{l}\n",
       " rideable\\_type\\\\\n",
       " <chr>\\\\\n",
       "\\hline\n",
       "\t docked\\_bike\\\\\n",
       "\\end{tabular}\n"
      ],
      "text/markdown": [
       "\n",
       "A data.table: 1 × 1\n",
       "\n",
       "| rideable_type &lt;chr&gt; |\n",
       "|---|\n",
       "| docked_bike |\n",
       "\n"
      ],
      "text/plain": [
       "  rideable_type\n",
       "1 docked_bike  "
      ]
     },
     "metadata": {},
     "output_type": "display_data"
    },
    {
     "data": {
      "text/html": [
       "<table class=\"dataframe\">\n",
       "<caption>A data.table: 2 × 1</caption>\n",
       "<thead>\n",
       "\t<tr><th scope=col>rideable_type</th></tr>\n",
       "\t<tr><th scope=col>&lt;chr&gt;</th></tr>\n",
       "</thead>\n",
       "<tbody>\n",
       "\t<tr><td>docked_bike  </td></tr>\n",
       "\t<tr><td>electric_bike</td></tr>\n",
       "</tbody>\n",
       "</table>\n"
      ],
      "text/latex": [
       "A data.table: 2 × 1\n",
       "\\begin{tabular}{l}\n",
       " rideable\\_type\\\\\n",
       " <chr>\\\\\n",
       "\\hline\n",
       "\t docked\\_bike  \\\\\n",
       "\t electric\\_bike\\\\\n",
       "\\end{tabular}\n"
      ],
      "text/markdown": [
       "\n",
       "A data.table: 2 × 1\n",
       "\n",
       "| rideable_type &lt;chr&gt; |\n",
       "|---|\n",
       "| docked_bike   |\n",
       "| electric_bike |\n",
       "\n"
      ],
      "text/plain": [
       "  rideable_type\n",
       "1 docked_bike  \n",
       "2 electric_bike"
      ]
     },
     "metadata": {},
     "output_type": "display_data"
    },
    {
     "data": {
      "text/html": [
       "<table class=\"dataframe\">\n",
       "<caption>A data.table: 3 × 1</caption>\n",
       "<thead>\n",
       "\t<tr><th scope=col>rideable_type</th></tr>\n",
       "\t<tr><th scope=col>&lt;chr&gt;</th></tr>\n",
       "</thead>\n",
       "<tbody>\n",
       "\t<tr><td>electric_bike</td></tr>\n",
       "\t<tr><td>docked_bike  </td></tr>\n",
       "\t<tr><td>classic_bike </td></tr>\n",
       "</tbody>\n",
       "</table>\n"
      ],
      "text/latex": [
       "A data.table: 3 × 1\n",
       "\\begin{tabular}{l}\n",
       " rideable\\_type\\\\\n",
       " <chr>\\\\\n",
       "\\hline\n",
       "\t electric\\_bike\\\\\n",
       "\t docked\\_bike  \\\\\n",
       "\t classic\\_bike \\\\\n",
       "\\end{tabular}\n"
      ],
      "text/markdown": [
       "\n",
       "A data.table: 3 × 1\n",
       "\n",
       "| rideable_type &lt;chr&gt; |\n",
       "|---|\n",
       "| electric_bike |\n",
       "| docked_bike   |\n",
       "| classic_bike  |\n",
       "\n"
      ],
      "text/plain": [
       "  rideable_type\n",
       "1 electric_bike\n",
       "2 docked_bike  \n",
       "3 classic_bike "
      ]
     },
     "metadata": {},
     "output_type": "display_data"
    }
   ],
   "source": [
    "# Making sure there are no misspelled ride types\n",
    "rideable_type_20Q1 <- base_20Q1 %>%\n",
    "    select(rideable_type) %>%\n",
    "    distinct()\n",
    "\n",
    "rideable_type_20Q2 <- base_20Q2 %>%\n",
    "    select(rideable_type) %>%\n",
    "    distinct()\n",
    "\n",
    "rideable_type_20Q3 <- base_20Q3 %>%\n",
    "    select(rideable_type) %>%\n",
    "    distinct()\n",
    "\n",
    "rideable_type_20Q4 <- base_20Q4 %>%\n",
    "    select(rideable_type) %>%\n",
    "    distinct()\n",
    "\n",
    "head(rideable_type_20Q1)\n",
    "head(rideable_type_20Q2)\n",
    "head(rideable_type_20Q3)\n",
    "head(rideable_type_20Q4)"
   ]
  },
  {
   "cell_type": "code",
   "execution_count": 23,
   "id": "57fcac78-2547-47ab-b7f2-c625efd930ee",
   "metadata": {},
   "outputs": [
    {
     "name": "stderr",
     "output_type": "stream",
     "text": [
      "Warning message:\n",
      "\"\u001b[1m\u001b[22mThere was 1 warning in `mutate()`.\n",
      "\u001b[1m\u001b[22m\u001b[36mi\u001b[39m In argument: `tripduration = as.numeric(tripduration)`.\n",
      "Caused by warning:\n",
      "\u001b[33m!\u001b[39m NAs introduced by coercion\"\n",
      "Warning message:\n",
      "\"\u001b[1m\u001b[22mThere was 1 warning in `mutate()`.\n",
      "\u001b[1m\u001b[22m\u001b[36mi\u001b[39m In argument: `tripduration =\n",
      "  as.numeric(X01...Rental.Details.Duration.In.Seconds.Uncapped)`.\n",
      "Caused by warning:\n",
      "\u001b[33m!\u001b[39m NAs introduced by coercion\"\n",
      "Warning message:\n",
      "\"\u001b[1m\u001b[22mThere was 1 warning in `mutate()`.\n",
      "\u001b[1m\u001b[22m\u001b[36mi\u001b[39m In argument: `tripduration = as.numeric(tripduration)`.\n",
      "Caused by warning:\n",
      "\u001b[33m!\u001b[39m NAs introduced by coercion\"\n",
      "Warning message:\n",
      "\"\u001b[1m\u001b[22mThere was 1 warning in `mutate()`.\n",
      "\u001b[1m\u001b[22m\u001b[36mi\u001b[39m In argument: `tripduration = as.numeric(tripduration)`.\n",
      "Caused by warning:\n",
      "\u001b[33m!\u001b[39m NAs introduced by coercion\"\n"
     ]
    }
   ],
   "source": [
    "# Loading all data into working variables with standardized format, removing duplicates, and removing null data\n",
    "\n",
    "data_19Q1 <- base_19Q1 %>% \n",
    "    mutate(tripduration = as.numeric(tripduration)) %>%\n",
    "    select(trip_id, \n",
    "           start_time, \n",
    "           end_time, \n",
    "           tripduration, \n",
    "           usertype\n",
    "          ) %>% \n",
    "    distinct() %>% \n",
    "    na.omit()\n",
    "\n",
    "data_19Q2 <- base_19Q2 %>% \n",
    "    mutate(tripduration = as.numeric(X01...Rental.Details.Duration.In.Seconds.Uncapped)) %>%\n",
    "    select(trip_id = X01...Rental.Details.Rental.ID, \n",
    "           start_time = X01...Rental.Details.Local.Start.Time, \n",
    "           end_time = X01...Rental.Details.Local.End.Time, \n",
    "           tripduration, \n",
    "           usertype = User.Type\n",
    "          ) %>% \n",
    "    distinct() %>% \n",
    "    na.omit()\n",
    "\n",
    "data_19Q3 <- base_19Q3 %>% \n",
    "    mutate(tripduration = as.numeric(tripduration)) %>%\n",
    "    select(trip_id, \n",
    "           start_time, \n",
    "           end_time, \n",
    "           tripduration, \n",
    "           usertype\n",
    "          ) %>% \n",
    "    distinct() %>% \n",
    "    na.omit()\n",
    "\n",
    "data_19Q4 <- base_19Q4 %>% \n",
    "    mutate(tripduration = as.numeric(tripduration)) %>%\n",
    "    select(trip_id, \n",
    "           start_time, \n",
    "           end_time, \n",
    "           tripduration, \n",
    "           usertype\n",
    "          ) %>% \n",
    "    distinct() %>% \n",
    "    na.omit()\n",
    "\n",
    "data_20Q1 <- base_20Q1 %>% \n",
    "    mutate(tripduration = as.numeric(difftime(ended_at, started_at, units=\"secs\"))) %>%\n",
    "    select(trip_id = ride_id, \n",
    "           start_time = started_at, \n",
    "           end_time = ended_at, \n",
    "           tripduration, \n",
    "           usertype = member_casual\n",
    "          ) %>% \n",
    "    distinct() %>% \n",
    "    na.omit()\n",
    "\n",
    "data_20Q2 <- base_20Q2 %>% \n",
    "    mutate(tripduration = as.numeric(difftime(ended_at, started_at, units=\"secs\"))) %>%\n",
    "    select(trip_id = ride_id, \n",
    "           start_time = started_at, \n",
    "           end_time = ended_at, \n",
    "           tripduration, \n",
    "           usertype = member_casual\n",
    "          ) %>% \n",
    "    distinct() %>% \n",
    "    na.omit()\n",
    "\n",
    "data_20Q3 <- base_20Q3 %>% \n",
    "    mutate(tripduration = as.numeric(difftime(ended_at, started_at, units=\"secs\"))) %>%\n",
    "    select(trip_id = ride_id, \n",
    "           start_time = started_at, \n",
    "           end_time = ended_at, \n",
    "           tripduration, \n",
    "           usertype = member_casual\n",
    "          ) %>% \n",
    "    distinct() %>% \n",
    "    na.omit()\n",
    "\n",
    "data_20Q4 <- base_20Q4 %>% \n",
    "    mutate(tripduration = as.numeric(difftime(ended_at, started_at, units=\"secs\"))) %>%\n",
    "    select(trip_id = ride_id, \n",
    "           start_time = started_at, \n",
    "           end_time = ended_at, \n",
    "           tripduration, \n",
    "           usertype = member_casual\n",
    "          ) %>% \n",
    "    distinct() %>% \n",
    "    na.omit()"
   ]
  },
  {
   "cell_type": "code",
   "execution_count": 24,
   "id": "b885986a-ac81-4ae4-863c-c357de987d0d",
   "metadata": {},
   "outputs": [
    {
     "data": {
      "text/html": [
       "<table class=\"dataframe\">\n",
       "<caption>A data.frame: 6 × 5</caption>\n",
       "<thead>\n",
       "\t<tr><th></th><th scope=col>trip_id</th><th scope=col>start_time</th><th scope=col>end_time</th><th scope=col>tripduration</th><th scope=col>usertype</th></tr>\n",
       "\t<tr><th></th><th scope=col>&lt;chr&gt;</th><th scope=col>&lt;chr&gt;</th><th scope=col>&lt;chr&gt;</th><th scope=col>&lt;dbl&gt;</th><th scope=col>&lt;chr&gt;</th></tr>\n",
       "</thead>\n",
       "<tbody>\n",
       "\t<tr><th scope=row>1</th><td>EACB19130B0CDA4A</td><td>2020-01-21 20:06:59</td><td>2020-01-21 20:14:30</td><td>451</td><td>member</td></tr>\n",
       "\t<tr><th scope=row>2</th><td>8FED874C809DC021</td><td>2020-01-30 14:22:39</td><td>2020-01-30 14:26:22</td><td>223</td><td>member</td></tr>\n",
       "\t<tr><th scope=row>3</th><td>789F3C21E472CA96</td><td>2020-01-09 19:29:26</td><td>2020-01-09 19:32:17</td><td>171</td><td>member</td></tr>\n",
       "\t<tr><th scope=row>4</th><td>C9A388DAC6ABF313</td><td>2020-01-06 16:17:07</td><td>2020-01-06 16:25:56</td><td>529</td><td>member</td></tr>\n",
       "\t<tr><th scope=row>5</th><td>943BC3CBECCFD662</td><td>2020-01-30 08:37:16</td><td>2020-01-30 08:42:48</td><td>332</td><td>member</td></tr>\n",
       "\t<tr><th scope=row>6</th><td>6D9C8A6938165C11</td><td>2020-01-10 12:33:05</td><td>2020-01-10 12:37:54</td><td>289</td><td>member</td></tr>\n",
       "</tbody>\n",
       "</table>\n"
      ],
      "text/latex": [
       "A data.frame: 6 × 5\n",
       "\\begin{tabular}{r|lllll}\n",
       "  & trip\\_id & start\\_time & end\\_time & tripduration & usertype\\\\\n",
       "  & <chr> & <chr> & <chr> & <dbl> & <chr>\\\\\n",
       "\\hline\n",
       "\t1 & EACB19130B0CDA4A & 2020-01-21 20:06:59 & 2020-01-21 20:14:30 & 451 & member\\\\\n",
       "\t2 & 8FED874C809DC021 & 2020-01-30 14:22:39 & 2020-01-30 14:26:22 & 223 & member\\\\\n",
       "\t3 & 789F3C21E472CA96 & 2020-01-09 19:29:26 & 2020-01-09 19:32:17 & 171 & member\\\\\n",
       "\t4 & C9A388DAC6ABF313 & 2020-01-06 16:17:07 & 2020-01-06 16:25:56 & 529 & member\\\\\n",
       "\t5 & 943BC3CBECCFD662 & 2020-01-30 08:37:16 & 2020-01-30 08:42:48 & 332 & member\\\\\n",
       "\t6 & 6D9C8A6938165C11 & 2020-01-10 12:33:05 & 2020-01-10 12:37:54 & 289 & member\\\\\n",
       "\\end{tabular}\n"
      ],
      "text/markdown": [
       "\n",
       "A data.frame: 6 × 5\n",
       "\n",
       "| <!--/--> | trip_id &lt;chr&gt; | start_time &lt;chr&gt; | end_time &lt;chr&gt; | tripduration &lt;dbl&gt; | usertype &lt;chr&gt; |\n",
       "|---|---|---|---|---|---|\n",
       "| 1 | EACB19130B0CDA4A | 2020-01-21 20:06:59 | 2020-01-21 20:14:30 | 451 | member |\n",
       "| 2 | 8FED874C809DC021 | 2020-01-30 14:22:39 | 2020-01-30 14:26:22 | 223 | member |\n",
       "| 3 | 789F3C21E472CA96 | 2020-01-09 19:29:26 | 2020-01-09 19:32:17 | 171 | member |\n",
       "| 4 | C9A388DAC6ABF313 | 2020-01-06 16:17:07 | 2020-01-06 16:25:56 | 529 | member |\n",
       "| 5 | 943BC3CBECCFD662 | 2020-01-30 08:37:16 | 2020-01-30 08:42:48 | 332 | member |\n",
       "| 6 | 6D9C8A6938165C11 | 2020-01-10 12:33:05 | 2020-01-10 12:37:54 | 289 | member |\n",
       "\n"
      ],
      "text/plain": [
       "  trip_id          start_time          end_time            tripduration\n",
       "1 EACB19130B0CDA4A 2020-01-21 20:06:59 2020-01-21 20:14:30 451         \n",
       "2 8FED874C809DC021 2020-01-30 14:22:39 2020-01-30 14:26:22 223         \n",
       "3 789F3C21E472CA96 2020-01-09 19:29:26 2020-01-09 19:32:17 171         \n",
       "4 C9A388DAC6ABF313 2020-01-06 16:17:07 2020-01-06 16:25:56 529         \n",
       "5 943BC3CBECCFD662 2020-01-30 08:37:16 2020-01-30 08:42:48 332         \n",
       "6 6D9C8A6938165C11 2020-01-10 12:33:05 2020-01-10 12:37:54 289         \n",
       "  usertype\n",
       "1 member  \n",
       "2 member  \n",
       "3 member  \n",
       "4 member  \n",
       "5 member  \n",
       "6 member  "
      ]
     },
     "metadata": {},
     "output_type": "display_data"
    },
    {
     "data": {
      "text/html": [
       "<table class=\"dataframe\">\n",
       "<caption>A data.table: 6 × 5</caption>\n",
       "<thead>\n",
       "\t<tr><th scope=col>trip_id</th><th scope=col>start_time</th><th scope=col>end_time</th><th scope=col>tripduration</th><th scope=col>usertype</th></tr>\n",
       "\t<tr><th scope=col>&lt;chr&gt;</th><th scope=col>&lt;chr&gt;</th><th scope=col>&lt;chr&gt;</th><th scope=col>&lt;dbl&gt;</th><th scope=col>&lt;chr&gt;</th></tr>\n",
       "</thead>\n",
       "<tbody>\n",
       "\t<tr><td>A847FADBBC638E45</td><td>2020-04-26 17:45:14</td><td>2020-04-26 18:12:03</td><td>1609</td><td>member</td></tr>\n",
       "\t<tr><td>5405B80E996FF60D</td><td>2020-04-17 17:08:54</td><td>2020-04-17 17:17:03</td><td> 489</td><td>member</td></tr>\n",
       "\t<tr><td>5DD24A79A4E006F4</td><td>2020-04-01 17:54:13</td><td>2020-04-01 18:08:36</td><td> 863</td><td>member</td></tr>\n",
       "\t<tr><td>2A59BBDF5CDBA725</td><td>2020-04-07 12:50:19</td><td>2020-04-07 13:02:31</td><td> 732</td><td>member</td></tr>\n",
       "\t<tr><td>27AD306C119C6158</td><td>2020-04-18 10:22:59</td><td>2020-04-18 11:15:54</td><td>3175</td><td>casual</td></tr>\n",
       "\t<tr><td>356216E875132F61</td><td>2020-04-30 17:55:47</td><td>2020-04-30 18:01:11</td><td> 324</td><td>member</td></tr>\n",
       "</tbody>\n",
       "</table>\n"
      ],
      "text/latex": [
       "A data.table: 6 × 5\n",
       "\\begin{tabular}{lllll}\n",
       " trip\\_id & start\\_time & end\\_time & tripduration & usertype\\\\\n",
       " <chr> & <chr> & <chr> & <dbl> & <chr>\\\\\n",
       "\\hline\n",
       "\t A847FADBBC638E45 & 2020-04-26 17:45:14 & 2020-04-26 18:12:03 & 1609 & member\\\\\n",
       "\t 5405B80E996FF60D & 2020-04-17 17:08:54 & 2020-04-17 17:17:03 &  489 & member\\\\\n",
       "\t 5DD24A79A4E006F4 & 2020-04-01 17:54:13 & 2020-04-01 18:08:36 &  863 & member\\\\\n",
       "\t 2A59BBDF5CDBA725 & 2020-04-07 12:50:19 & 2020-04-07 13:02:31 &  732 & member\\\\\n",
       "\t 27AD306C119C6158 & 2020-04-18 10:22:59 & 2020-04-18 11:15:54 & 3175 & casual\\\\\n",
       "\t 356216E875132F61 & 2020-04-30 17:55:47 & 2020-04-30 18:01:11 &  324 & member\\\\\n",
       "\\end{tabular}\n"
      ],
      "text/markdown": [
       "\n",
       "A data.table: 6 × 5\n",
       "\n",
       "| trip_id &lt;chr&gt; | start_time &lt;chr&gt; | end_time &lt;chr&gt; | tripduration &lt;dbl&gt; | usertype &lt;chr&gt; |\n",
       "|---|---|---|---|---|\n",
       "| A847FADBBC638E45 | 2020-04-26 17:45:14 | 2020-04-26 18:12:03 | 1609 | member |\n",
       "| 5405B80E996FF60D | 2020-04-17 17:08:54 | 2020-04-17 17:17:03 |  489 | member |\n",
       "| 5DD24A79A4E006F4 | 2020-04-01 17:54:13 | 2020-04-01 18:08:36 |  863 | member |\n",
       "| 2A59BBDF5CDBA725 | 2020-04-07 12:50:19 | 2020-04-07 13:02:31 |  732 | member |\n",
       "| 27AD306C119C6158 | 2020-04-18 10:22:59 | 2020-04-18 11:15:54 | 3175 | casual |\n",
       "| 356216E875132F61 | 2020-04-30 17:55:47 | 2020-04-30 18:01:11 |  324 | member |\n",
       "\n"
      ],
      "text/plain": [
       "  trip_id          start_time          end_time            tripduration\n",
       "1 A847FADBBC638E45 2020-04-26 17:45:14 2020-04-26 18:12:03 1609        \n",
       "2 5405B80E996FF60D 2020-04-17 17:08:54 2020-04-17 17:17:03  489        \n",
       "3 5DD24A79A4E006F4 2020-04-01 17:54:13 2020-04-01 18:08:36  863        \n",
       "4 2A59BBDF5CDBA725 2020-04-07 12:50:19 2020-04-07 13:02:31  732        \n",
       "5 27AD306C119C6158 2020-04-18 10:22:59 2020-04-18 11:15:54 3175        \n",
       "6 356216E875132F61 2020-04-30 17:55:47 2020-04-30 18:01:11  324        \n",
       "  usertype\n",
       "1 member  \n",
       "2 member  \n",
       "3 member  \n",
       "4 member  \n",
       "5 casual  \n",
       "6 member  "
      ]
     },
     "metadata": {},
     "output_type": "display_data"
    },
    {
     "data": {
      "text/html": [
       "<table class=\"dataframe\">\n",
       "<caption>A data.table: 6 × 5</caption>\n",
       "<thead>\n",
       "\t<tr><th scope=col>trip_id</th><th scope=col>start_time</th><th scope=col>end_time</th><th scope=col>tripduration</th><th scope=col>usertype</th></tr>\n",
       "\t<tr><th scope=col>&lt;chr&gt;</th><th scope=col>&lt;chr&gt;</th><th scope=col>&lt;chr&gt;</th><th scope=col>&lt;dbl&gt;</th><th scope=col>&lt;chr&gt;</th></tr>\n",
       "</thead>\n",
       "<tbody>\n",
       "\t<tr><td>762198876D69004D</td><td>2020-07-09 15:22:02</td><td>2020-07-09 15:25:52</td><td> 230</td><td>member</td></tr>\n",
       "\t<tr><td>BEC9C9FBA0D4CF1B</td><td>2020-07-24 23:56:30</td><td>2020-07-25 00:20:17</td><td>1427</td><td>member</td></tr>\n",
       "\t<tr><td>D2FD8EA432C77EC1</td><td>2020-07-08 19:49:07</td><td>2020-07-08 19:56:22</td><td> 435</td><td>casual</td></tr>\n",
       "\t<tr><td>54AE594E20B35881</td><td>2020-07-17 19:06:42</td><td>2020-07-17 19:27:38</td><td>1256</td><td>casual</td></tr>\n",
       "\t<tr><td>54025FDC7440B56F</td><td>2020-07-04 10:39:57</td><td>2020-07-04 10:45:05</td><td> 308</td><td>member</td></tr>\n",
       "\t<tr><td>65636B619E24257F</td><td>2020-07-28 16:33:03</td><td>2020-07-28 16:49:10</td><td> 967</td><td>casual</td></tr>\n",
       "</tbody>\n",
       "</table>\n"
      ],
      "text/latex": [
       "A data.table: 6 × 5\n",
       "\\begin{tabular}{lllll}\n",
       " trip\\_id & start\\_time & end\\_time & tripduration & usertype\\\\\n",
       " <chr> & <chr> & <chr> & <dbl> & <chr>\\\\\n",
       "\\hline\n",
       "\t 762198876D69004D & 2020-07-09 15:22:02 & 2020-07-09 15:25:52 &  230 & member\\\\\n",
       "\t BEC9C9FBA0D4CF1B & 2020-07-24 23:56:30 & 2020-07-25 00:20:17 & 1427 & member\\\\\n",
       "\t D2FD8EA432C77EC1 & 2020-07-08 19:49:07 & 2020-07-08 19:56:22 &  435 & casual\\\\\n",
       "\t 54AE594E20B35881 & 2020-07-17 19:06:42 & 2020-07-17 19:27:38 & 1256 & casual\\\\\n",
       "\t 54025FDC7440B56F & 2020-07-04 10:39:57 & 2020-07-04 10:45:05 &  308 & member\\\\\n",
       "\t 65636B619E24257F & 2020-07-28 16:33:03 & 2020-07-28 16:49:10 &  967 & casual\\\\\n",
       "\\end{tabular}\n"
      ],
      "text/markdown": [
       "\n",
       "A data.table: 6 × 5\n",
       "\n",
       "| trip_id &lt;chr&gt; | start_time &lt;chr&gt; | end_time &lt;chr&gt; | tripduration &lt;dbl&gt; | usertype &lt;chr&gt; |\n",
       "|---|---|---|---|---|\n",
       "| 762198876D69004D | 2020-07-09 15:22:02 | 2020-07-09 15:25:52 |  230 | member |\n",
       "| BEC9C9FBA0D4CF1B | 2020-07-24 23:56:30 | 2020-07-25 00:20:17 | 1427 | member |\n",
       "| D2FD8EA432C77EC1 | 2020-07-08 19:49:07 | 2020-07-08 19:56:22 |  435 | casual |\n",
       "| 54AE594E20B35881 | 2020-07-17 19:06:42 | 2020-07-17 19:27:38 | 1256 | casual |\n",
       "| 54025FDC7440B56F | 2020-07-04 10:39:57 | 2020-07-04 10:45:05 |  308 | member |\n",
       "| 65636B619E24257F | 2020-07-28 16:33:03 | 2020-07-28 16:49:10 |  967 | casual |\n",
       "\n"
      ],
      "text/plain": [
       "  trip_id          start_time          end_time            tripduration\n",
       "1 762198876D69004D 2020-07-09 15:22:02 2020-07-09 15:25:52  230        \n",
       "2 BEC9C9FBA0D4CF1B 2020-07-24 23:56:30 2020-07-25 00:20:17 1427        \n",
       "3 D2FD8EA432C77EC1 2020-07-08 19:49:07 2020-07-08 19:56:22  435        \n",
       "4 54AE594E20B35881 2020-07-17 19:06:42 2020-07-17 19:27:38 1256        \n",
       "5 54025FDC7440B56F 2020-07-04 10:39:57 2020-07-04 10:45:05  308        \n",
       "6 65636B619E24257F 2020-07-28 16:33:03 2020-07-28 16:49:10  967        \n",
       "  usertype\n",
       "1 member  \n",
       "2 member  \n",
       "3 casual  \n",
       "4 casual  \n",
       "5 member  \n",
       "6 casual  "
      ]
     },
     "metadata": {},
     "output_type": "display_data"
    },
    {
     "data": {
      "text/html": [
       "<table class=\"dataframe\">\n",
       "<caption>A data.table: 6 × 5</caption>\n",
       "<thead>\n",
       "\t<tr><th scope=col>trip_id</th><th scope=col>start_time</th><th scope=col>end_time</th><th scope=col>tripduration</th><th scope=col>usertype</th></tr>\n",
       "\t<tr><th scope=col>&lt;chr&gt;</th><th scope=col>&lt;chr&gt;</th><th scope=col>&lt;chr&gt;</th><th scope=col>&lt;dbl&gt;</th><th scope=col>&lt;chr&gt;</th></tr>\n",
       "</thead>\n",
       "<tbody>\n",
       "\t<tr><td>ACB6B40CF5B9044C</td><td>2020-10-31 19:39:43</td><td>2020-10-31 19:57:12</td><td>1049</td><td>casual</td></tr>\n",
       "\t<tr><td>DF450C72FD109C01</td><td>2020-10-31 23:50:08</td><td>2020-11-01 00:04:16</td><td> 848</td><td>casual</td></tr>\n",
       "\t<tr><td>B6396B54A15AC0DF</td><td>2020-10-31 23:00:01</td><td>2020-10-31 23:08:22</td><td> 501</td><td>casual</td></tr>\n",
       "\t<tr><td>44A4AEE261B9E854</td><td>2020-10-31 22:16:43</td><td>2020-10-31 22:19:35</td><td> 172</td><td>casual</td></tr>\n",
       "\t<tr><td>10B7DD76A6A2EB95</td><td>2020-10-31 19:38:19</td><td>2020-10-31 19:54:32</td><td> 973</td><td>casual</td></tr>\n",
       "\t<tr><td>DA6C3759660133DA</td><td>2020-10-29 17:38:04</td><td>2020-10-29 17:45:43</td><td> 459</td><td>casual</td></tr>\n",
       "</tbody>\n",
       "</table>\n"
      ],
      "text/latex": [
       "A data.table: 6 × 5\n",
       "\\begin{tabular}{lllll}\n",
       " trip\\_id & start\\_time & end\\_time & tripduration & usertype\\\\\n",
       " <chr> & <chr> & <chr> & <dbl> & <chr>\\\\\n",
       "\\hline\n",
       "\t ACB6B40CF5B9044C & 2020-10-31 19:39:43 & 2020-10-31 19:57:12 & 1049 & casual\\\\\n",
       "\t DF450C72FD109C01 & 2020-10-31 23:50:08 & 2020-11-01 00:04:16 &  848 & casual\\\\\n",
       "\t B6396B54A15AC0DF & 2020-10-31 23:00:01 & 2020-10-31 23:08:22 &  501 & casual\\\\\n",
       "\t 44A4AEE261B9E854 & 2020-10-31 22:16:43 & 2020-10-31 22:19:35 &  172 & casual\\\\\n",
       "\t 10B7DD76A6A2EB95 & 2020-10-31 19:38:19 & 2020-10-31 19:54:32 &  973 & casual\\\\\n",
       "\t DA6C3759660133DA & 2020-10-29 17:38:04 & 2020-10-29 17:45:43 &  459 & casual\\\\\n",
       "\\end{tabular}\n"
      ],
      "text/markdown": [
       "\n",
       "A data.table: 6 × 5\n",
       "\n",
       "| trip_id &lt;chr&gt; | start_time &lt;chr&gt; | end_time &lt;chr&gt; | tripduration &lt;dbl&gt; | usertype &lt;chr&gt; |\n",
       "|---|---|---|---|---|\n",
       "| ACB6B40CF5B9044C | 2020-10-31 19:39:43 | 2020-10-31 19:57:12 | 1049 | casual |\n",
       "| DF450C72FD109C01 | 2020-10-31 23:50:08 | 2020-11-01 00:04:16 |  848 | casual |\n",
       "| B6396B54A15AC0DF | 2020-10-31 23:00:01 | 2020-10-31 23:08:22 |  501 | casual |\n",
       "| 44A4AEE261B9E854 | 2020-10-31 22:16:43 | 2020-10-31 22:19:35 |  172 | casual |\n",
       "| 10B7DD76A6A2EB95 | 2020-10-31 19:38:19 | 2020-10-31 19:54:32 |  973 | casual |\n",
       "| DA6C3759660133DA | 2020-10-29 17:38:04 | 2020-10-29 17:45:43 |  459 | casual |\n",
       "\n"
      ],
      "text/plain": [
       "  trip_id          start_time          end_time            tripduration\n",
       "1 ACB6B40CF5B9044C 2020-10-31 19:39:43 2020-10-31 19:57:12 1049        \n",
       "2 DF450C72FD109C01 2020-10-31 23:50:08 2020-11-01 00:04:16  848        \n",
       "3 B6396B54A15AC0DF 2020-10-31 23:00:01 2020-10-31 23:08:22  501        \n",
       "4 44A4AEE261B9E854 2020-10-31 22:16:43 2020-10-31 22:19:35  172        \n",
       "5 10B7DD76A6A2EB95 2020-10-31 19:38:19 2020-10-31 19:54:32  973        \n",
       "6 DA6C3759660133DA 2020-10-29 17:38:04 2020-10-29 17:45:43  459        \n",
       "  usertype\n",
       "1 casual  \n",
       "2 casual  \n",
       "3 casual  \n",
       "4 casual  \n",
       "5 casual  \n",
       "6 casual  "
      ]
     },
     "metadata": {},
     "output_type": "display_data"
    }
   ],
   "source": [
    "# Checking data\n",
    "head(data_20Q1)\n",
    "head(data_20Q2)\n",
    "head(data_20Q3)\n",
    "head(data_20Q4)"
   ]
  },
  {
   "cell_type": "code",
   "execution_count": 25,
   "id": "375572bd-cca3-465e-8ab6-43036af3dadb",
   "metadata": {},
   "outputs": [
    {
     "data": {
      "text/html": [
       "<style>\n",
       ".list-inline {list-style: none; margin:0; padding: 0}\n",
       ".list-inline>li {display: inline-block}\n",
       ".list-inline>li:not(:last-child)::after {content: \"\\00b7\"; padding: 0 .5ex}\n",
       "</style>\n",
       "<ol class=list-inline><li>'trip_id'</li><li>'start_time'</li><li>'end_time'</li><li>'tripduration'</li><li>'usertype'</li></ol>\n"
      ],
      "text/latex": [
       "\\begin{enumerate*}\n",
       "\\item 'trip\\_id'\n",
       "\\item 'start\\_time'\n",
       "\\item 'end\\_time'\n",
       "\\item 'tripduration'\n",
       "\\item 'usertype'\n",
       "\\end{enumerate*}\n"
      ],
      "text/markdown": [
       "1. 'trip_id'\n",
       "2. 'start_time'\n",
       "3. 'end_time'\n",
       "4. 'tripduration'\n",
       "5. 'usertype'\n",
       "\n",
       "\n"
      ],
      "text/plain": [
       "[1] \"trip_id\"      \"start_time\"   \"end_time\"     \"tripduration\" \"usertype\"    "
      ]
     },
     "metadata": {},
     "output_type": "display_data"
    },
    {
     "data": {
      "text/html": [
       "<style>\n",
       ".list-inline {list-style: none; margin:0; padding: 0}\n",
       ".list-inline>li {display: inline-block}\n",
       ".list-inline>li:not(:last-child)::after {content: \"\\00b7\"; padding: 0 .5ex}\n",
       "</style>\n",
       "<ol class=list-inline><li>'trip_id'</li><li>'start_time'</li><li>'end_time'</li><li>'tripduration'</li><li>'usertype'</li></ol>\n"
      ],
      "text/latex": [
       "\\begin{enumerate*}\n",
       "\\item 'trip\\_id'\n",
       "\\item 'start\\_time'\n",
       "\\item 'end\\_time'\n",
       "\\item 'tripduration'\n",
       "\\item 'usertype'\n",
       "\\end{enumerate*}\n"
      ],
      "text/markdown": [
       "1. 'trip_id'\n",
       "2. 'start_time'\n",
       "3. 'end_time'\n",
       "4. 'tripduration'\n",
       "5. 'usertype'\n",
       "\n",
       "\n"
      ],
      "text/plain": [
       "[1] \"trip_id\"      \"start_time\"   \"end_time\"     \"tripduration\" \"usertype\"    "
      ]
     },
     "metadata": {},
     "output_type": "display_data"
    }
   ],
   "source": [
    "# Checking column names\n",
    "colnames(data_19Q1)\n",
    "colnames(data_20Q1)"
   ]
  },
  {
   "cell_type": "code",
   "execution_count": 26,
   "id": "a8a49a09-d49b-471b-b6a4-bf6d2185a47e",
   "metadata": {},
   "outputs": [
    {
     "data": {
      "text/html": [
       "<style>\n",
       ".list-inline {list-style: none; margin:0; padding: 0}\n",
       ".list-inline>li {display: inline-block}\n",
       ".list-inline>li:not(:last-child)::after {content: \"\\00b7\"; padding: 0 .5ex}\n",
       "</style>\n",
       "<ol class=list-inline><li>'ride_id'</li><li>'rideable_type'</li><li>'started_at'</li><li>'ended_at'</li><li>'start_station_name'</li><li>'start_station_id'</li><li>'end_station_name'</li><li>'end_station_id'</li><li>'start_lat'</li><li>'start_lng'</li><li>'end_lat'</li><li>'end_lng'</li><li>'member_casual'</li></ol>\n"
      ],
      "text/latex": [
       "\\begin{enumerate*}\n",
       "\\item 'ride\\_id'\n",
       "\\item 'rideable\\_type'\n",
       "\\item 'started\\_at'\n",
       "\\item 'ended\\_at'\n",
       "\\item 'start\\_station\\_name'\n",
       "\\item 'start\\_station\\_id'\n",
       "\\item 'end\\_station\\_name'\n",
       "\\item 'end\\_station\\_id'\n",
       "\\item 'start\\_lat'\n",
       "\\item 'start\\_lng'\n",
       "\\item 'end\\_lat'\n",
       "\\item 'end\\_lng'\n",
       "\\item 'member\\_casual'\n",
       "\\end{enumerate*}\n"
      ],
      "text/markdown": [
       "1. 'ride_id'\n",
       "2. 'rideable_type'\n",
       "3. 'started_at'\n",
       "4. 'ended_at'\n",
       "5. 'start_station_name'\n",
       "6. 'start_station_id'\n",
       "7. 'end_station_name'\n",
       "8. 'end_station_id'\n",
       "9. 'start_lat'\n",
       "10. 'start_lng'\n",
       "11. 'end_lat'\n",
       "12. 'end_lng'\n",
       "13. 'member_casual'\n",
       "\n",
       "\n"
      ],
      "text/plain": [
       " [1] \"ride_id\"            \"rideable_type\"      \"started_at\"        \n",
       " [4] \"ended_at\"           \"start_station_name\" \"start_station_id\"  \n",
       " [7] \"end_station_name\"   \"end_station_id\"     \"start_lat\"         \n",
       "[10] \"start_lng\"          \"end_lat\"            \"end_lng\"           \n",
       "[13] \"member_casual\"     "
      ]
     },
     "metadata": {},
     "output_type": "display_data"
    }
   ],
   "source": [
    "# Checking whether main backup were affected\n",
    "colnames(base_20Q1)"
   ]
  },
  {
   "cell_type": "code",
   "execution_count": 28,
   "id": "08b4fe17-8aec-4856-bd9e-4cc05a53d54e",
   "metadata": {},
   "outputs": [
    {
     "data": {
      "image/png": "[encoded data removed]",
      "text/plain": [
       "plot without title"
      ]
     },
     "metadata": {
      "image/png": {
       "height": 420,
       "width": 420
      }
     },
     "output_type": "display_data"
    },
    {
     "data": {
      "image/png": "[encoded data removed]",
      "text/plain": [
       "plot without title"
      ]
     },
     "metadata": {
      "image/png": {
       "height": 420,
       "width": 420
      }
     },
     "output_type": "display_data"
    },
    {
     "data": {
      "image/png": "[encoded data removed]",
      "text/plain": [
       "plot without title"
      ]
     },
     "metadata": {
      "image/png": {
       "height": 420,
       "width": 420
      }
     },
     "output_type": "display_data"
    },
    {
     "data": {
      "image/png": "[encoded data removed]",
      "text/plain": [
       "plot without title"
      ]
     },
     "metadata": {
      "image/png": {
       "height": 420,
       "width": 420
      }
     },
     "output_type": "display_data"
    },
    {
     "data": {
      "image/png": "[encoded data removed]",
      "text/plain": [
       "plot without title"
      ]
     },
     "metadata": {
      "image/png": {
       "height": 420,
       "width": 420
      }
     },
     "output_type": "display_data"
    },
    {
     "data": {
      "image/png": "[encoded data removed]",
      "text/plain": [
       "plot without title"
      ]
     },
     "metadata": {
      "image/png": {
       "height": 420,
       "width": 420
      }
     },
     "output_type": "display_data"
    },
    {
     "data": {
      "image/png": "[encoded data removed]",
      "text/plain": [
       "plot without title"
      ]
     },
     "metadata": {
      "image/png": {
       "height": 420,
       "width": 420
      }
     },
     "output_type": "display_data"
    },
    {
     "data": {
      "image/png": "[encoded data removed]",
      "text/plain": [
       "plot without title"
      ]
     },
     "metadata": {
      "image/png": {
       "height": 420,
       "width": 420
      }
     },
     "output_type": "display_data"
    }
   ],
   "source": [
    "# Checking for outliers in trip duration\n",
    "\n",
    "data_19Q1 %>% ggplot(aes(y = tripduration)) +\n",
    "    geom_boxplot() +\n",
    "    scale_x_discrete() +\n",
    "    labs(title = \"2019 Q1 Trip Duration Distribution\", y = \"Trip Duration (sec)\")\n",
    "\n",
    "data_19Q2 %>% ggplot(aes(y = tripduration)) +\n",
    "    geom_boxplot() +\n",
    "    scale_x_discrete() +\n",
    "    labs(title = \"2019 Q2 Trip Duration Distribution\", y = \"Trip Duration (sec)\")\n",
    "\n",
    "data_19Q3 %>% ggplot(aes(y = tripduration)) +\n",
    "    geom_boxplot() +\n",
    "    scale_x_discrete() +\n",
    "    labs(title = \"2019 Q3 Trip Duration Distribution\", y = \"Trip Duration (sec)\")\n",
    "\n",
    "data_19Q4 %>% ggplot(aes(y = tripduration)) +\n",
    "    geom_boxplot() +\n",
    "    scale_x_discrete() +\n",
    "    labs(title = \"2019 Q4 Trip Duration Distribution\", y = \"Trip Duration (sec)\")\n",
    "\n",
    "data_20Q1 %>% ggplot(aes(y = tripduration)) +\n",
    "    geom_boxplot() +\n",
    "    scale_x_discrete() +\n",
    "    labs(title = \"2020 Q1 Trip Duration Distribution\", y = \"Trip Duration (sec)\")\n",
    "\n",
    "data_20Q2 %>% ggplot(aes(y = tripduration)) +\n",
    "    geom_boxplot() +\n",
    "    scale_x_discrete() +\n",
    "    labs(title = \"2020 Q2 Trip Duration Distribution\", y = \"Trip Duration (sec)\")\n",
    "\n",
    "data_20Q3 %>% ggplot(aes(y = tripduration)) +\n",
    "    geom_boxplot() +\n",
    "    scale_x_discrete() +\n",
    "    labs(title = \"2020 Q3 Trip Duration Distribution\", y = \"Trip Duration (sec)\")\n",
    "\n",
    "data_20Q4 %>% ggplot(aes(y = tripduration)) +\n",
    "    geom_boxplot() +\n",
    "    scale_x_discrete() +\n",
    "    labs(title = \"2020 Q4 Trip Duration Distribution\", y = \"Trip Duration (sec)\")"
   ]
  },
  {
   "cell_type": "code",
   "execution_count": 29,
   "id": "87960ef8-5868-40ff-adeb-a87a4ee5ab51",
   "metadata": {},
   "outputs": [
    {
     "data": {
      "image/png": "[encoded data removed]",
      "text/plain": [
       "plot without title"
      ]
     },
     "metadata": {
      "image/png": {
       "height": 420,
       "width": 420
      }
     },
     "output_type": "display_data"
    },
    {
     "data": {
      "image/png": "[encoded data removed]",
      "text/plain": [
       "plot without title"
      ]
     },
     "metadata": {
      "image/png": {
       "height": 420,
       "width": 420
      }
     },
     "output_type": "display_data"
    },
    {
     "data": {
      "image/png": "[encoded data removed]",
      "text/plain": [
       "plot without title"
      ]
     },
     "metadata": {
      "image/png": {
       "height": 420,
       "width": 420
      }
     },
     "output_type": "display_data"
    },
    {
     "data": {
      "image/png": "[encoded data removed]",
      "text/plain": [
       "plot without title"
      ]
     },
     "metadata": {
      "image/png": {
       "height": 420,
       "width": 420
      }
     },
     "output_type": "display_data"
    },
    {
     "data": {
      "image/png": "[encoded data removed]",
      "text/plain": [
       "plot without title"
      ]
     },
     "metadata": {
      "image/png": {
       "height": 420,
       "width": 420
      }
     },
     "output_type": "display_data"
    },
    {
     "data": {
      "image/png": "[encoded data removed]",
      "text/plain": [
       "plot without title"
      ]
     },
     "metadata": {
      "image/png": {
       "height": 420,
       "width": 420
      }
     },
     "output_type": "display_data"
    },
    {
     "data": {
      "image/png": "[encoded data removed]",
      "text/plain": [
       "plot without title"
      ]
     },
     "metadata": {
      "image/png": {
       "height": 420,
       "width": 420
      }
     },
     "output_type": "display_data"
    },
    {
     "data": {
      "image/png": "[encoded data removed]",
      "text/plain": [
       "plot without title"
      ]
     },
     "metadata": {
      "image/png": {
       "height": 420,
       "width": 420
      }
     },
     "output_type": "display_data"
    }
   ],
   "source": [
    "# Removing outliers\n",
    "\n",
    "# Finding quartiles\n",
    "quant_19Q1 <- data_19Q1 %>%\n",
    "    select(tripduration) %>%\n",
    "    quantile(probs = c(0.25, 0.75), na.rm = TRUE)\n",
    "\n",
    "quant_19Q2 <- data_19Q2 %>%\n",
    "    select(tripduration) %>%\n",
    "    quantile(probs = c(0.25, 0.75), na.rm = TRUE)\n",
    "\n",
    "quant_19Q3 <- data_19Q3 %>%\n",
    "    select(tripduration) %>%\n",
    "    quantile(probs = c(0.25, 0.75), na.rm = TRUE)\n",
    "\n",
    "quant_19Q4 <- data_19Q4 %>%\n",
    "    select(tripduration) %>%\n",
    "    quantile(probs = c(0.25, 0.75), na.rm = TRUE)\n",
    "\n",
    "quant_20Q1 <- data_20Q1 %>%\n",
    "    select(tripduration) %>%\n",
    "    quantile(probs = c(0.25, 0.75), na.rm = TRUE)\n",
    "\n",
    "quant_20Q2 <- data_20Q2 %>%\n",
    "    select(tripduration) %>%\n",
    "    quantile(probs = c(0.25, 0.75), na.rm = TRUE)\n",
    "\n",
    "quant_20Q3 <- data_20Q3 %>%\n",
    "    select(tripduration) %>%\n",
    "    quantile(probs = c(0.25, 0.75), na.rm = TRUE)\n",
    "\n",
    "quant_20Q4 <- data_20Q4 %>%\n",
    "    select(tripduration) %>%\n",
    "    quantile(probs = c(0.25, 0.75), na.rm = TRUE)\n",
    "\n",
    "# Filterning out outliers\n",
    "data_19Q1 <- data_19Q1 %>%\n",
    "    filter(tripduration >= quant_19Q1[1] - 1.5 * (quant_19Q1[2] - quant_19Q1[1])) %>%\n",
    "    filter(tripduration <= quant_19Q1[2] + 1.5 * (quant_19Q1[2] - quant_19Q1[1])) %>%\n",
    "    filter(tripduration > 0)\n",
    "\n",
    "data_19Q2 <- data_19Q2 %>%\n",
    "    filter(tripduration >= quant_19Q2[1] - 1.5 * (quant_19Q2[2] - quant_19Q2[1])) %>%\n",
    "    filter(tripduration <= quant_19Q2[2] + 1.5 * (quant_19Q2[2] - quant_19Q2[1])) %>%\n",
    "    filter(tripduration > 0)\n",
    "\n",
    "data_19Q3 <- data_19Q3 %>%\n",
    "    filter(tripduration >= quant_19Q3[1] - 1.5 * (quant_19Q3[2] - quant_19Q3[1])) %>%\n",
    "    filter(tripduration <= quant_19Q3[2] + 1.5 * (quant_19Q3[2] - quant_19Q3[1])) %>%\n",
    "    filter(tripduration > 0)\n",
    "\n",
    "data_19Q4 <- data_19Q4 %>%\n",
    "    filter(tripduration >= quant_19Q4[1] - 1.5 * (quant_19Q4[2] - quant_19Q4[1])) %>%\n",
    "    filter(tripduration <= quant_19Q4[2] + 1.5 * (quant_19Q4[2] - quant_19Q4[1])) %>%\n",
    "    filter(tripduration > 0)\n",
    "\n",
    "data_20Q1 <- data_20Q1 %>%\n",
    "    filter(tripduration >= quant_20Q1[1] - 1.5 * (quant_20Q1[2] - quant_20Q1[1])) %>%\n",
    "    filter(tripduration <= quant_20Q1[2] + 1.5 * (quant_20Q1[2] - quant_20Q1[1])) %>%\n",
    "    filter(tripduration > 0)\n",
    "\n",
    "data_20Q2 <- data_20Q2 %>%\n",
    "    filter(tripduration >= quant_20Q2[1] - 1.5 * (quant_20Q2[2] - quant_20Q2[1])) %>%\n",
    "    filter(tripduration <= quant_20Q2[2] + 1.5 * (quant_20Q2[2] - quant_20Q2[1])) %>%\n",
    "    filter(tripduration > 0)\n",
    "\n",
    "data_20Q3 <- data_20Q3 %>%\n",
    "    filter(tripduration >= quant_20Q3[1] - 1.5 * (quant_20Q3[2] - quant_20Q3[1])) %>%\n",
    "    filter(tripduration <= quant_20Q3[2] + 1.5 * (quant_20Q3[2] - quant_20Q3[1])) %>%\n",
    "    filter(tripduration > 0)\n",
    "\n",
    "data_20Q4 <- data_20Q4 %>%\n",
    "    filter(tripduration >= quant_20Q4[1] - 1.5 * (quant_20Q4[2] - quant_20Q4[1])) %>%\n",
    "    filter(tripduration <= quant_20Q4[2] + 1.5 * (quant_20Q4[2] - quant_20Q4[1])) %>%\n",
    "    filter(tripduration > 0)\n",
    "\n",
    "# Checking result of outlier removal\n",
    "data_19Q1 %>% ggplot(aes(y = tripduration )) +\n",
    "    geom_boxplot() +\n",
    "    scale_x_discrete() +\n",
    "    labs(title = \"2019 Q1 Trip Duration Distribution\", y = \"Trip Duration (sec)\")\n",
    "\n",
    "data_19Q2 %>% ggplot(aes(y = tripduration )) +\n",
    "    geom_boxplot() +\n",
    "    scale_x_discrete() +\n",
    "    labs(title = \"2019 Q2 Trip Duration Distribution\", y = \"Trip Duration (sec)\")\n",
    "\n",
    "data_19Q3 %>% ggplot(aes(y = tripduration )) +\n",
    "    geom_boxplot() +\n",
    "    scale_x_discrete() +\n",
    "    labs(title = \"2019 Q3 Trip Duration Distribution\", y = \"Trip Duration (sec)\")\n",
    "\n",
    "data_19Q4 %>% ggplot(aes(y = tripduration )) +\n",
    "    geom_boxplot() +\n",
    "    scale_x_discrete() +\n",
    "    labs(title = \"2019 Q4 Trip Duration Distribution\", y = \"Trip Duration (sec)\")\n",
    "\n",
    "data_20Q1 %>% ggplot(aes(y = tripduration )) +\n",
    "    geom_boxplot() +\n",
    "    scale_x_discrete() +\n",
    "    labs(title = \"2020 Q1 Trip Duration Distribution\", y = \"Trip Duration (sec)\")\n",
    "\n",
    "data_20Q2 %>% ggplot(aes(y = tripduration )) +\n",
    "    geom_boxplot() +\n",
    "    scale_x_discrete() +\n",
    "    labs(title = \"2020 Q2 Trip Duration Distribution\", y = \"Trip Duration (sec)\")\n",
    "\n",
    "data_20Q3 %>% ggplot(aes(y = tripduration )) +\n",
    "    geom_boxplot() +\n",
    "    scale_x_discrete() +\n",
    "    labs(title = \"2020 Q3 Trip Duration Distribution\", y = \"Trip Duration (sec)\")\n",
    "\n",
    "data_20Q4 %>% ggplot(aes(y = tripduration )) +\n",
    "    geom_boxplot() +\n",
    "    scale_x_discrete() +\n",
    "    labs(title = \"2020 Q4 Trip Duration Distribution\", y = \"Trip Duration (sec)\")"
   ]
  },
  {
   "cell_type": "code",
   "execution_count": 30,
   "id": "9824fb90-1588-4280-9775-f0c30bb56257",
   "metadata": {},
   "outputs": [],
   "source": [
    "# Standarize user-type terminology and saving copies of working data\n",
    "\n",
    "# standarize user-type terminology\n",
    "data_20Q1 <- within(data_20Q1, usertype[usertype == 'casual'] <- 'Customer')\n",
    "data_20Q1 <- within(data_20Q1, usertype[usertype == 'member'] <- 'Subscriber')\n",
    "\n",
    "data_20Q2 <- within(data_20Q2, usertype[usertype == 'casual'] <- 'Customer')\n",
    "data_20Q2 <- within(data_20Q2, usertype[usertype == 'member'] <- 'Subscriber')\n",
    "\n",
    "data_20Q3 <- within(data_20Q3, usertype[usertype == 'casual'] <- 'Customer')\n",
    "data_20Q3 <- within(data_20Q3, usertype[usertype == 'member'] <- 'Subscriber')\n",
    "\n",
    "data_20Q4 <- within(data_20Q4, usertype[usertype == 'casual'] <- 'Customer')\n",
    "data_20Q4 <- within(data_20Q4, usertype[usertype == 'member'] <- 'Subscriber')\n",
    "\n",
    "# Saving data\n",
    "write.csv(data_19Q1, \".\\\\data_19Q1.csv\", row.names=TRUE)\n",
    "write.csv(data_19Q2, \".\\\\data_19Q2.csv\", row.names=TRUE)\n",
    "write.csv(data_19Q3, \".\\\\data_19Q3.csv\", row.names=TRUE)\n",
    "write.csv(data_19Q4, \".\\\\data_19Q4.csv\", row.names=TRUE)\n",
    "write.csv(data_20Q1, \".\\\\data_20Q1.csv\", row.names=TRUE)\n",
    "write.csv(data_20Q2, \".\\\\data_20Q2.csv\", row.names=TRUE)\n",
    "write.csv(data_20Q3, \".\\\\data_20Q3.csv\", row.names=TRUE)\n",
    "write.csv(data_20Q4, \".\\\\data_20Q4.csv\", row.names=TRUE)\n",
    "\n",
    "# Saving mergered version of the data\n",
    "data_19n20 <- do.call(\"rbind\", list(data_19Q1, data_19Q2, data_19Q3, data_19Q4, data_20Q1, data_20Q2, data_20Q3, data_20Q4))\n",
    "write.csv(data_19n20, \".\\\\data_19n20.csv\", row.names=TRUE)"
   ]
  },
  {
   "cell_type": "code",
   "execution_count": 31,
   "id": "cf29d0a9-2d21-454b-ae42-71e7150f9f08",
   "metadata": {},
   "outputs": [
    {
     "data": {
      "text/html": [
       "<table class=\"dataframe\">\n",
       "<caption>A data.frame: 6 × 5</caption>\n",
       "<thead>\n",
       "\t<tr><th></th><th scope=col>trip_id</th><th scope=col>start_time</th><th scope=col>end_time</th><th scope=col>tripduration</th><th scope=col>usertype</th></tr>\n",
       "\t<tr><th></th><th scope=col>&lt;chr&gt;</th><th scope=col>&lt;chr&gt;</th><th scope=col>&lt;chr&gt;</th><th scope=col>&lt;dbl&gt;</th><th scope=col>&lt;chr&gt;</th></tr>\n",
       "</thead>\n",
       "<tbody>\n",
       "\t<tr><th scope=row>5744398</th><td>6248FC5575ADD257</td><td>2020-12-28 22:30:39</td><td>2020-12-28 22:36:34</td><td>355</td><td>Subscriber</td></tr>\n",
       "\t<tr><th scope=row>5744399</th><td>4631EE956BCEA738</td><td>2020-12-19 13:59:33</td><td>2020-12-19 14:03:21</td><td>228</td><td>Customer  </td></tr>\n",
       "\t<tr><th scope=row>5744400</th><td>D17CBEDEA8DBDFF6</td><td>2020-12-20 15:48:41</td><td>2020-12-20 15:52:14</td><td>213</td><td>Subscriber</td></tr>\n",
       "\t<tr><th scope=row>5744401</th><td>447A6C67E9AF962E</td><td>2020-12-02 16:59:58</td><td>2020-12-02 17:08:28</td><td>510</td><td>Subscriber</td></tr>\n",
       "\t<tr><th scope=row>5744402</th><td>F558C17E95751C62</td><td>2020-12-20 18:06:52</td><td>2020-12-20 18:09:53</td><td>181</td><td>Subscriber</td></tr>\n",
       "\t<tr><th scope=row>5744403</th><td>E1888F4B274EEA12</td><td>2020-12-03 09:43:42</td><td>2020-12-03 09:47:14</td><td>212</td><td>Subscriber</td></tr>\n",
       "</tbody>\n",
       "</table>\n"
      ],
      "text/latex": [
       "A data.frame: 6 × 5\n",
       "\\begin{tabular}{r|lllll}\n",
       "  & trip\\_id & start\\_time & end\\_time & tripduration & usertype\\\\\n",
       "  & <chr> & <chr> & <chr> & <dbl> & <chr>\\\\\n",
       "\\hline\n",
       "\t5744398 & 6248FC5575ADD257 & 2020-12-28 22:30:39 & 2020-12-28 22:36:34 & 355 & Subscriber\\\\\n",
       "\t5744399 & 4631EE956BCEA738 & 2020-12-19 13:59:33 & 2020-12-19 14:03:21 & 228 & Customer  \\\\\n",
       "\t5744400 & D17CBEDEA8DBDFF6 & 2020-12-20 15:48:41 & 2020-12-20 15:52:14 & 213 & Subscriber\\\\\n",
       "\t5744401 & 447A6C67E9AF962E & 2020-12-02 16:59:58 & 2020-12-02 17:08:28 & 510 & Subscriber\\\\\n",
       "\t5744402 & F558C17E95751C62 & 2020-12-20 18:06:52 & 2020-12-20 18:09:53 & 181 & Subscriber\\\\\n",
       "\t5744403 & E1888F4B274EEA12 & 2020-12-03 09:43:42 & 2020-12-03 09:47:14 & 212 & Subscriber\\\\\n",
       "\\end{tabular}\n"
      ],
      "text/markdown": [
       "\n",
       "A data.frame: 6 × 5\n",
       "\n",
       "| <!--/--> | trip_id &lt;chr&gt; | start_time &lt;chr&gt; | end_time &lt;chr&gt; | tripduration &lt;dbl&gt; | usertype &lt;chr&gt; |\n",
       "|---|---|---|---|---|---|\n",
       "| 5744398 | 6248FC5575ADD257 | 2020-12-28 22:30:39 | 2020-12-28 22:36:34 | 355 | Subscriber |\n",
       "| 5744399 | 4631EE956BCEA738 | 2020-12-19 13:59:33 | 2020-12-19 14:03:21 | 228 | Customer   |\n",
       "| 5744400 | D17CBEDEA8DBDFF6 | 2020-12-20 15:48:41 | 2020-12-20 15:52:14 | 213 | Subscriber |\n",
       "| 5744401 | 447A6C67E9AF962E | 2020-12-02 16:59:58 | 2020-12-02 17:08:28 | 510 | Subscriber |\n",
       "| 5744402 | F558C17E95751C62 | 2020-12-20 18:06:52 | 2020-12-20 18:09:53 | 181 | Subscriber |\n",
       "| 5744403 | E1888F4B274EEA12 | 2020-12-03 09:43:42 | 2020-12-03 09:47:14 | 212 | Subscriber |\n",
       "\n"
      ],
      "text/plain": [
       "        trip_id          start_time          end_time            tripduration\n",
       "5744398 6248FC5575ADD257 2020-12-28 22:30:39 2020-12-28 22:36:34 355         \n",
       "5744399 4631EE956BCEA738 2020-12-19 13:59:33 2020-12-19 14:03:21 228         \n",
       "5744400 D17CBEDEA8DBDFF6 2020-12-20 15:48:41 2020-12-20 15:52:14 213         \n",
       "5744401 447A6C67E9AF962E 2020-12-02 16:59:58 2020-12-02 17:08:28 510         \n",
       "5744402 F558C17E95751C62 2020-12-20 18:06:52 2020-12-20 18:09:53 181         \n",
       "5744403 E1888F4B274EEA12 2020-12-03 09:43:42 2020-12-03 09:47:14 212         \n",
       "        usertype  \n",
       "5744398 Subscriber\n",
       "5744399 Customer  \n",
       "5744400 Subscriber\n",
       "5744401 Subscriber\n",
       "5744402 Subscriber\n",
       "5744403 Subscriber"
      ]
     },
     "metadata": {},
     "output_type": "display_data"
    },
    {
     "data": {
      "text/html": [
       "<table class=\"dataframe\">\n",
       "<caption>A data.frame: 6 × 5</caption>\n",
       "<thead>\n",
       "\t<tr><th></th><th scope=col>trip_id</th><th scope=col>start_time</th><th scope=col>end_time</th><th scope=col>tripduration</th><th scope=col>usertype</th></tr>\n",
       "\t<tr><th></th><th scope=col>&lt;chr&gt;</th><th scope=col>&lt;chr&gt;</th><th scope=col>&lt;chr&gt;</th><th scope=col>&lt;dbl&gt;</th><th scope=col>&lt;chr&gt;</th></tr>\n",
       "</thead>\n",
       "<tbody>\n",
       "\t<tr><th scope=row>397374</th><td>005D3BC2A3B33DDA</td><td>2020-03-12 07:32:25</td><td>2020-03-12 07:38:44</td><td> 379</td><td>Subscriber</td></tr>\n",
       "\t<tr><th scope=row>397375</th><td>6F4D221BDDFD943F</td><td>2020-03-10 10:40:27</td><td>2020-03-10 10:40:29</td><td>   2</td><td>Customer  </td></tr>\n",
       "\t<tr><th scope=row>397376</th><td>ADDAA33CEBCAE733</td><td>2020-03-10 10:40:06</td><td>2020-03-10 10:40:07</td><td>   1</td><td>Customer  </td></tr>\n",
       "\t<tr><th scope=row>397377</th><td>AA0D5AAA0B59C8AA</td><td>2020-03-01 13:12:38</td><td>2020-03-01 13:38:29</td><td>1551</td><td>Customer  </td></tr>\n",
       "\t<tr><th scope=row>397378</th><td>3296360A7BC20FB8</td><td>2020-03-07 18:02:45</td><td>2020-03-07 18:13:18</td><td> 633</td><td>Subscriber</td></tr>\n",
       "\t<tr><th scope=row>397379</th><td>064EC7698E4FF9B3</td><td>2020-03-08 13:03:57</td><td>2020-03-08 13:32:27</td><td>1710</td><td>Customer  </td></tr>\n",
       "</tbody>\n",
       "</table>\n"
      ],
      "text/latex": [
       "A data.frame: 6 × 5\n",
       "\\begin{tabular}{r|lllll}\n",
       "  & trip\\_id & start\\_time & end\\_time & tripduration & usertype\\\\\n",
       "  & <chr> & <chr> & <chr> & <dbl> & <chr>\\\\\n",
       "\\hline\n",
       "\t397374 & 005D3BC2A3B33DDA & 2020-03-12 07:32:25 & 2020-03-12 07:38:44 &  379 & Subscriber\\\\\n",
       "\t397375 & 6F4D221BDDFD943F & 2020-03-10 10:40:27 & 2020-03-10 10:40:29 &    2 & Customer  \\\\\n",
       "\t397376 & ADDAA33CEBCAE733 & 2020-03-10 10:40:06 & 2020-03-10 10:40:07 &    1 & Customer  \\\\\n",
       "\t397377 & AA0D5AAA0B59C8AA & 2020-03-01 13:12:38 & 2020-03-01 13:38:29 & 1551 & Customer  \\\\\n",
       "\t397378 & 3296360A7BC20FB8 & 2020-03-07 18:02:45 & 2020-03-07 18:13:18 &  633 & Subscriber\\\\\n",
       "\t397379 & 064EC7698E4FF9B3 & 2020-03-08 13:03:57 & 2020-03-08 13:32:27 & 1710 & Customer  \\\\\n",
       "\\end{tabular}\n"
      ],
      "text/markdown": [
       "\n",
       "A data.frame: 6 × 5\n",
       "\n",
       "| <!--/--> | trip_id &lt;chr&gt; | start_time &lt;chr&gt; | end_time &lt;chr&gt; | tripduration &lt;dbl&gt; | usertype &lt;chr&gt; |\n",
       "|---|---|---|---|---|---|\n",
       "| 397374 | 005D3BC2A3B33DDA | 2020-03-12 07:32:25 | 2020-03-12 07:38:44 |  379 | Subscriber |\n",
       "| 397375 | 6F4D221BDDFD943F | 2020-03-10 10:40:27 | 2020-03-10 10:40:29 |    2 | Customer   |\n",
       "| 397376 | ADDAA33CEBCAE733 | 2020-03-10 10:40:06 | 2020-03-10 10:40:07 |    1 | Customer   |\n",
       "| 397377 | AA0D5AAA0B59C8AA | 2020-03-01 13:12:38 | 2020-03-01 13:38:29 | 1551 | Customer   |\n",
       "| 397378 | 3296360A7BC20FB8 | 2020-03-07 18:02:45 | 2020-03-07 18:13:18 |  633 | Subscriber |\n",
       "| 397379 | 064EC7698E4FF9B3 | 2020-03-08 13:03:57 | 2020-03-08 13:32:27 | 1710 | Customer   |\n",
       "\n"
      ],
      "text/plain": [
       "       trip_id          start_time          end_time            tripduration\n",
       "397374 005D3BC2A3B33DDA 2020-03-12 07:32:25 2020-03-12 07:38:44  379        \n",
       "397375 6F4D221BDDFD943F 2020-03-10 10:40:27 2020-03-10 10:40:29    2        \n",
       "397376 ADDAA33CEBCAE733 2020-03-10 10:40:06 2020-03-10 10:40:07    1        \n",
       "397377 AA0D5AAA0B59C8AA 2020-03-01 13:12:38 2020-03-01 13:38:29 1551        \n",
       "397378 3296360A7BC20FB8 2020-03-07 18:02:45 2020-03-07 18:13:18  633        \n",
       "397379 064EC7698E4FF9B3 2020-03-08 13:03:57 2020-03-08 13:32:27 1710        \n",
       "       usertype  \n",
       "397374 Subscriber\n",
       "397375 Customer  \n",
       "397376 Customer  \n",
       "397377 Customer  \n",
       "397378 Subscriber\n",
       "397379 Customer  "
      ]
     },
     "metadata": {},
     "output_type": "display_data"
    },
    {
     "data": {
      "text/html": [
       "<table class=\"dataframe\">\n",
       "<caption>A data.table: 6 × 5</caption>\n",
       "<thead>\n",
       "\t<tr><th scope=col>trip_id</th><th scope=col>start_time</th><th scope=col>end_time</th><th scope=col>tripduration</th><th scope=col>usertype</th></tr>\n",
       "\t<tr><th scope=col>&lt;chr&gt;</th><th scope=col>&lt;chr&gt;</th><th scope=col>&lt;chr&gt;</th><th scope=col>&lt;dbl&gt;</th><th scope=col>&lt;chr&gt;</th></tr>\n",
       "</thead>\n",
       "<tbody>\n",
       "\t<tr><td>EC924948B484A1AF</td><td>2020-06-12 15:42:35</td><td>2020-06-12 15:49:41</td><td> 426</td><td>Customer  </td></tr>\n",
       "\t<tr><td>52FD068FC638E369</td><td>2020-06-23 07:34:49</td><td>2020-06-23 07:58:57</td><td>1448</td><td>Subscriber</td></tr>\n",
       "\t<tr><td>E1263EE99DA7CC71</td><td>2020-06-13 14:23:02</td><td>2020-06-13 14:45:20</td><td>1338</td><td>Customer  </td></tr>\n",
       "\t<tr><td>BCDB84E21D8509D3</td><td>2020-06-16 16:55:53</td><td>2020-06-16 17:12:42</td><td>1009</td><td>Customer  </td></tr>\n",
       "\t<tr><td>AE90AFD2AD1384B1</td><td>2020-06-24 16:12:23</td><td>2020-06-24 16:24:56</td><td> 753</td><td>Customer  </td></tr>\n",
       "\t<tr><td>998C129DBA742467</td><td>2020-06-06 15:21:50</td><td>2020-06-06 15:43:45</td><td>1315</td><td>Customer  </td></tr>\n",
       "</tbody>\n",
       "</table>\n"
      ],
      "text/latex": [
       "A data.table: 6 × 5\n",
       "\\begin{tabular}{lllll}\n",
       " trip\\_id & start\\_time & end\\_time & tripduration & usertype\\\\\n",
       " <chr> & <chr> & <chr> & <dbl> & <chr>\\\\\n",
       "\\hline\n",
       "\t EC924948B484A1AF & 2020-06-12 15:42:35 & 2020-06-12 15:49:41 &  426 & Customer  \\\\\n",
       "\t 52FD068FC638E369 & 2020-06-23 07:34:49 & 2020-06-23 07:58:57 & 1448 & Subscriber\\\\\n",
       "\t E1263EE99DA7CC71 & 2020-06-13 14:23:02 & 2020-06-13 14:45:20 & 1338 & Customer  \\\\\n",
       "\t BCDB84E21D8509D3 & 2020-06-16 16:55:53 & 2020-06-16 17:12:42 & 1009 & Customer  \\\\\n",
       "\t AE90AFD2AD1384B1 & 2020-06-24 16:12:23 & 2020-06-24 16:24:56 &  753 & Customer  \\\\\n",
       "\t 998C129DBA742467 & 2020-06-06 15:21:50 & 2020-06-06 15:43:45 & 1315 & Customer  \\\\\n",
       "\\end{tabular}\n"
      ],
      "text/markdown": [
       "\n",
       "A data.table: 6 × 5\n",
       "\n",
       "| trip_id &lt;chr&gt; | start_time &lt;chr&gt; | end_time &lt;chr&gt; | tripduration &lt;dbl&gt; | usertype &lt;chr&gt; |\n",
       "|---|---|---|---|---|\n",
       "| EC924948B484A1AF | 2020-06-12 15:42:35 | 2020-06-12 15:49:41 |  426 | Customer   |\n",
       "| 52FD068FC638E369 | 2020-06-23 07:34:49 | 2020-06-23 07:58:57 | 1448 | Subscriber |\n",
       "| E1263EE99DA7CC71 | 2020-06-13 14:23:02 | 2020-06-13 14:45:20 | 1338 | Customer   |\n",
       "| BCDB84E21D8509D3 | 2020-06-16 16:55:53 | 2020-06-16 17:12:42 | 1009 | Customer   |\n",
       "| AE90AFD2AD1384B1 | 2020-06-24 16:12:23 | 2020-06-24 16:24:56 |  753 | Customer   |\n",
       "| 998C129DBA742467 | 2020-06-06 15:21:50 | 2020-06-06 15:43:45 | 1315 | Customer   |\n",
       "\n"
      ],
      "text/plain": [
       "  trip_id          start_time          end_time            tripduration\n",
       "1 EC924948B484A1AF 2020-06-12 15:42:35 2020-06-12 15:49:41  426        \n",
       "2 52FD068FC638E369 2020-06-23 07:34:49 2020-06-23 07:58:57 1448        \n",
       "3 E1263EE99DA7CC71 2020-06-13 14:23:02 2020-06-13 14:45:20 1338        \n",
       "4 BCDB84E21D8509D3 2020-06-16 16:55:53 2020-06-16 17:12:42 1009        \n",
       "5 AE90AFD2AD1384B1 2020-06-24 16:12:23 2020-06-24 16:24:56  753        \n",
       "6 998C129DBA742467 2020-06-06 15:21:50 2020-06-06 15:43:45 1315        \n",
       "  usertype  \n",
       "1 Customer  \n",
       "2 Subscriber\n",
       "3 Customer  \n",
       "4 Customer  \n",
       "5 Customer  \n",
       "6 Customer  "
      ]
     },
     "metadata": {},
     "output_type": "display_data"
    },
    {
     "data": {
      "text/html": [
       "<table class=\"dataframe\">\n",
       "<caption>A data.table: 6 × 5</caption>\n",
       "<thead>\n",
       "\t<tr><th scope=col>trip_id</th><th scope=col>start_time</th><th scope=col>end_time</th><th scope=col>tripduration</th><th scope=col>usertype</th></tr>\n",
       "\t<tr><th scope=col>&lt;chr&gt;</th><th scope=col>&lt;chr&gt;</th><th scope=col>&lt;chr&gt;</th><th scope=col>&lt;dbl&gt;</th><th scope=col>&lt;chr&gt;</th></tr>\n",
       "</thead>\n",
       "<tbody>\n",
       "\t<tr><td>16919D708CA11A7F</td><td>2020-09-26 07:42:44</td><td>2020-09-26 07:57:13</td><td> 869</td><td>Customer</td></tr>\n",
       "\t<tr><td>21331F397B4D12CB</td><td>2020-09-26 14:58:19</td><td>2020-09-26 15:04:10</td><td> 351</td><td>Customer</td></tr>\n",
       "\t<tr><td>151752B99EA40774</td><td>2020-09-26 12:24:38</td><td>2020-09-26 12:37:41</td><td> 783</td><td>Customer</td></tr>\n",
       "\t<tr><td>D022E7106FFA648C</td><td>2020-09-26 17:19:04</td><td>2020-09-26 17:39:26</td><td>1222</td><td>Customer</td></tr>\n",
       "\t<tr><td>16F6F14FE158E720</td><td>2020-09-26 17:58:15</td><td>2020-09-26 18:43:59</td><td>2744</td><td>Customer</td></tr>\n",
       "\t<tr><td>A48C9D5A2A7DCA34</td><td>2020-09-26 16:57:55</td><td>2020-09-26 17:31:20</td><td>2005</td><td>Customer</td></tr>\n",
       "</tbody>\n",
       "</table>\n"
      ],
      "text/latex": [
       "A data.table: 6 × 5\n",
       "\\begin{tabular}{lllll}\n",
       " trip\\_id & start\\_time & end\\_time & tripduration & usertype\\\\\n",
       " <chr> & <chr> & <chr> & <dbl> & <chr>\\\\\n",
       "\\hline\n",
       "\t 16919D708CA11A7F & 2020-09-26 07:42:44 & 2020-09-26 07:57:13 &  869 & Customer\\\\\n",
       "\t 21331F397B4D12CB & 2020-09-26 14:58:19 & 2020-09-26 15:04:10 &  351 & Customer\\\\\n",
       "\t 151752B99EA40774 & 2020-09-26 12:24:38 & 2020-09-26 12:37:41 &  783 & Customer\\\\\n",
       "\t D022E7106FFA648C & 2020-09-26 17:19:04 & 2020-09-26 17:39:26 & 1222 & Customer\\\\\n",
       "\t 16F6F14FE158E720 & 2020-09-26 17:58:15 & 2020-09-26 18:43:59 & 2744 & Customer\\\\\n",
       "\t A48C9D5A2A7DCA34 & 2020-09-26 16:57:55 & 2020-09-26 17:31:20 & 2005 & Customer\\\\\n",
       "\\end{tabular}\n"
      ],
      "text/markdown": [
       "\n",
       "A data.table: 6 × 5\n",
       "\n",
       "| trip_id &lt;chr&gt; | start_time &lt;chr&gt; | end_time &lt;chr&gt; | tripduration &lt;dbl&gt; | usertype &lt;chr&gt; |\n",
       "|---|---|---|---|---|\n",
       "| 16919D708CA11A7F | 2020-09-26 07:42:44 | 2020-09-26 07:57:13 |  869 | Customer |\n",
       "| 21331F397B4D12CB | 2020-09-26 14:58:19 | 2020-09-26 15:04:10 |  351 | Customer |\n",
       "| 151752B99EA40774 | 2020-09-26 12:24:38 | 2020-09-26 12:37:41 |  783 | Customer |\n",
       "| D022E7106FFA648C | 2020-09-26 17:19:04 | 2020-09-26 17:39:26 | 1222 | Customer |\n",
       "| 16F6F14FE158E720 | 2020-09-26 17:58:15 | 2020-09-26 18:43:59 | 2744 | Customer |\n",
       "| A48C9D5A2A7DCA34 | 2020-09-26 16:57:55 | 2020-09-26 17:31:20 | 2005 | Customer |\n",
       "\n"
      ],
      "text/plain": [
       "  trip_id          start_time          end_time            tripduration\n",
       "1 16919D708CA11A7F 2020-09-26 07:42:44 2020-09-26 07:57:13  869        \n",
       "2 21331F397B4D12CB 2020-09-26 14:58:19 2020-09-26 15:04:10  351        \n",
       "3 151752B99EA40774 2020-09-26 12:24:38 2020-09-26 12:37:41  783        \n",
       "4 D022E7106FFA648C 2020-09-26 17:19:04 2020-09-26 17:39:26 1222        \n",
       "5 16F6F14FE158E720 2020-09-26 17:58:15 2020-09-26 18:43:59 2744        \n",
       "6 A48C9D5A2A7DCA34 2020-09-26 16:57:55 2020-09-26 17:31:20 2005        \n",
       "  usertype\n",
       "1 Customer\n",
       "2 Customer\n",
       "3 Customer\n",
       "4 Customer\n",
       "5 Customer\n",
       "6 Customer"
      ]
     },
     "metadata": {},
     "output_type": "display_data"
    },
    {
     "data": {
      "text/html": [
       "<table class=\"dataframe\">\n",
       "<caption>A data.table: 6 × 5</caption>\n",
       "<thead>\n",
       "\t<tr><th scope=col>trip_id</th><th scope=col>start_time</th><th scope=col>end_time</th><th scope=col>tripduration</th><th scope=col>usertype</th></tr>\n",
       "\t<tr><th scope=col>&lt;chr&gt;</th><th scope=col>&lt;chr&gt;</th><th scope=col>&lt;chr&gt;</th><th scope=col>&lt;dbl&gt;</th><th scope=col>&lt;chr&gt;</th></tr>\n",
       "</thead>\n",
       "<tbody>\n",
       "\t<tr><td>6248FC5575ADD257</td><td>2020-12-28 22:30:39</td><td>2020-12-28 22:36:34</td><td>355</td><td>Subscriber</td></tr>\n",
       "\t<tr><td>4631EE956BCEA738</td><td>2020-12-19 13:59:33</td><td>2020-12-19 14:03:21</td><td>228</td><td>Customer  </td></tr>\n",
       "\t<tr><td>D17CBEDEA8DBDFF6</td><td>2020-12-20 15:48:41</td><td>2020-12-20 15:52:14</td><td>213</td><td>Subscriber</td></tr>\n",
       "\t<tr><td>447A6C67E9AF962E</td><td>2020-12-02 16:59:58</td><td>2020-12-02 17:08:28</td><td>510</td><td>Subscriber</td></tr>\n",
       "\t<tr><td>F558C17E95751C62</td><td>2020-12-20 18:06:52</td><td>2020-12-20 18:09:53</td><td>181</td><td>Subscriber</td></tr>\n",
       "\t<tr><td>E1888F4B274EEA12</td><td>2020-12-03 09:43:42</td><td>2020-12-03 09:47:14</td><td>212</td><td>Subscriber</td></tr>\n",
       "</tbody>\n",
       "</table>\n"
      ],
      "text/latex": [
       "A data.table: 6 × 5\n",
       "\\begin{tabular}{lllll}\n",
       " trip\\_id & start\\_time & end\\_time & tripduration & usertype\\\\\n",
       " <chr> & <chr> & <chr> & <dbl> & <chr>\\\\\n",
       "\\hline\n",
       "\t 6248FC5575ADD257 & 2020-12-28 22:30:39 & 2020-12-28 22:36:34 & 355 & Subscriber\\\\\n",
       "\t 4631EE956BCEA738 & 2020-12-19 13:59:33 & 2020-12-19 14:03:21 & 228 & Customer  \\\\\n",
       "\t D17CBEDEA8DBDFF6 & 2020-12-20 15:48:41 & 2020-12-20 15:52:14 & 213 & Subscriber\\\\\n",
       "\t 447A6C67E9AF962E & 2020-12-02 16:59:58 & 2020-12-02 17:08:28 & 510 & Subscriber\\\\\n",
       "\t F558C17E95751C62 & 2020-12-20 18:06:52 & 2020-12-20 18:09:53 & 181 & Subscriber\\\\\n",
       "\t E1888F4B274EEA12 & 2020-12-03 09:43:42 & 2020-12-03 09:47:14 & 212 & Subscriber\\\\\n",
       "\\end{tabular}\n"
      ],
      "text/markdown": [
       "\n",
       "A data.table: 6 × 5\n",
       "\n",
       "| trip_id &lt;chr&gt; | start_time &lt;chr&gt; | end_time &lt;chr&gt; | tripduration &lt;dbl&gt; | usertype &lt;chr&gt; |\n",
       "|---|---|---|---|---|\n",
       "| 6248FC5575ADD257 | 2020-12-28 22:30:39 | 2020-12-28 22:36:34 | 355 | Subscriber |\n",
       "| 4631EE956BCEA738 | 2020-12-19 13:59:33 | 2020-12-19 14:03:21 | 228 | Customer   |\n",
       "| D17CBEDEA8DBDFF6 | 2020-12-20 15:48:41 | 2020-12-20 15:52:14 | 213 | Subscriber |\n",
       "| 447A6C67E9AF962E | 2020-12-02 16:59:58 | 2020-12-02 17:08:28 | 510 | Subscriber |\n",
       "| F558C17E95751C62 | 2020-12-20 18:06:52 | 2020-12-20 18:09:53 | 181 | Subscriber |\n",
       "| E1888F4B274EEA12 | 2020-12-03 09:43:42 | 2020-12-03 09:47:14 | 212 | Subscriber |\n",
       "\n"
      ],
      "text/plain": [
       "  trip_id          start_time          end_time            tripduration\n",
       "1 6248FC5575ADD257 2020-12-28 22:30:39 2020-12-28 22:36:34 355         \n",
       "2 4631EE956BCEA738 2020-12-19 13:59:33 2020-12-19 14:03:21 228         \n",
       "3 D17CBEDEA8DBDFF6 2020-12-20 15:48:41 2020-12-20 15:52:14 213         \n",
       "4 447A6C67E9AF962E 2020-12-02 16:59:58 2020-12-02 17:08:28 510         \n",
       "5 F558C17E95751C62 2020-12-20 18:06:52 2020-12-20 18:09:53 181         \n",
       "6 E1888F4B274EEA12 2020-12-03 09:43:42 2020-12-03 09:47:14 212         \n",
       "  usertype  \n",
       "1 Subscriber\n",
       "2 Customer  \n",
       "3 Subscriber\n",
       "4 Subscriber\n",
       "5 Subscriber\n",
       "6 Subscriber"
      ]
     },
     "metadata": {},
     "output_type": "display_data"
    }
   ],
   "source": [
    "# Checking data for issues\n",
    "tail(data_19n20)\n",
    "tail(data_20Q1)\n",
    "tail(data_20Q2)\n",
    "tail(data_20Q3)\n",
    "tail(data_20Q4)"
   ]
  },
  {
   "cell_type": "code",
   "execution_count": 32,
   "id": "a26aedb4-5ef9-4a5a-b8e3-ca9a68b04634",
   "metadata": {},
   "outputs": [
    {
     "data": {
      "image/png": "[encoded data removed]",
      "text/plain": [
       "plot without title"
      ]
     },
     "metadata": {
      "image/png": {
       "height": 420,
       "width": 420
      }
     },
     "output_type": "display_data"
    },
    {
     "data": {
      "image/png": "[encoded data removed]",
      "text/plain": [
       "plot without title"
      ]
     },
     "metadata": {
      "image/png": {
       "height": 420,
       "width": 420
      }
     },
     "output_type": "display_data"
    },
    {
     "data": {
      "image/png": "[encoded data removed]",
      "text/plain": [
       "plot without title"
      ]
     },
     "metadata": {
      "image/png": {
       "height": 420,
       "width": 420
      }
     },
     "output_type": "display_data"
    },
    {
     "data": {
      "image/png": "[encoded data removed]",
      "text/plain": [
       "plot without title"
      ]
     },
     "metadata": {
      "image/png": {
       "height": 420,
       "width": 420
      }
     },
     "output_type": "display_data"
    },
    {
     "data": {
      "image/png": "[encoded data removed]",
      "text/plain": [
       "plot without title"
      ]
     },
     "metadata": {
      "image/png": {
       "height": 420,
       "width": 420
      }
     },
     "output_type": "display_data"
    },
    {
     "data": {
      "image/png": "[encoded data removed]",
      "text/plain": [
       "plot without title"
      ]
     },
     "metadata": {
      "image/png": {
       "height": 420,
       "width": 420
      }
     },
     "output_type": "display_data"
    },
    {
     "data": {
      "image/png": "[encoded data removed]",
      "text/plain": [
       "plot without title"
      ]
     },
     "metadata": {
      "image/png": {
       "height": 420,
       "width": 420
      }
     },
     "output_type": "display_data"
    },
    {
     "data": {
      "image/png": "[encoded data removed]",
      "text/plain": [
       "plot without title"
      ]
     },
     "metadata": {
      "image/png": {
       "height": 420,
       "width": 420
      }
     },
     "output_type": "display_data"
    }
   ],
   "source": [
    "# Plotting ride count between Customer and Subscriber, then saving image of plot\n",
    "\n",
    "ggplot(data = data_19Q1) + \n",
    "    geom_bar(mapping = aes(x = usertype)) +\n",
    "    labs(title = \"2019 Q1 User Type Trip Comparison\",\n",
    "         x = \"User Type\",\n",
    "         y = \"Number of Rides\")\n",
    "\n",
    "ggplot(data = data_19Q2) + \n",
    "    geom_bar(mapping = aes(x = usertype)) +\n",
    "    labs(title = \"2019 Q2 User Type Trip Comparison\",\n",
    "         x = \"User Type\",\n",
    "         y = \"Number of Rides\")\n",
    "\n",
    "ggplot(data = data_19Q3) + \n",
    "    geom_bar(mapping = aes(x = usertype)) +\n",
    "    labs(title = \"2019 Q3 User Type Trip Comparison\",\n",
    "         x = \"User Type\",\n",
    "         y = \"Number of Rides\")\n",
    "\n",
    "ggplot(data = data_19Q4) + \n",
    "    geom_bar(mapping = aes(x = usertype)) +\n",
    "    labs(title = \"2019 Q4 User Type Trip Comparison\",\n",
    "         x = \"User Type\",\n",
    "         y = \"Number of Rides\")\n",
    "\n",
    "ggplot(data = data_20Q1) + \n",
    "    geom_bar(mapping = aes(x = usertype)) +\n",
    "    labs(title = \"2020 Q1 User Type Trip Comparison\",\n",
    "         x = \"User Type\",\n",
    "         y = \"Number of Rides\")\n",
    "\n",
    "ggplot(data = data_20Q2) + \n",
    "    geom_bar(mapping = aes(x = usertype)) +\n",
    "    labs(title = \"2020 Q2 User Type Trip Comparison\",\n",
    "         x = \"User Type\",\n",
    "         y = \"Number of Rides\")\n",
    "\n",
    "ggplot(data = data_20Q3) + \n",
    "    geom_bar(mapping = aes(x = usertype)) +\n",
    "    labs(title = \"2020 Q3 User Type Trip Comparison\",\n",
    "         x = \"User Type\",\n",
    "         y = \"Number of Rides\")\n",
    "\n",
    "ggplot(data = data_20Q4) + \n",
    "    geom_bar(mapping = aes(x = usertype)) +\n",
    "    labs(title = \"2020 Q4 User Type Trip Comparison\",\n",
    "         x = \"User Type\",\n",
    "         y = \"Number of Rides\")"
   ]
  },
  {
   "cell_type": "code",
   "execution_count": 33,
   "id": "1cafb5b8-cc88-43c4-a0ee-35f7cfc2eff1",
   "metadata": {},
   "outputs": [
    {
     "name": "stderr",
     "output_type": "stream",
     "text": [
      "Warning message in geom_bar(mapping = aes(x = usertype, y = tripduration), stat = \"summary\", :\n",
      "\"\u001b[1m\u001b[22mIgnoring unknown parameters: `fun.y`\"\n",
      "\u001b[1m\u001b[22mNo summary function supplied, defaulting to `mean_se()`\n",
      "\u001b[1m\u001b[22mSaving 6.67 x 6.67 in image\n",
      "\u001b[1m\u001b[22mNo summary function supplied, defaulting to `mean_se()`\n",
      "Warning message in geom_bar(mapping = aes(x = usertype, y = tripduration), stat = \"summary\", :\n",
      "\"\u001b[1m\u001b[22mIgnoring unknown parameters: `fun.y`\"\n",
      "\u001b[1m\u001b[22mNo summary function supplied, defaulting to `mean_se()`\n"
     ]
    },
    {
     "data": {
      "image/png": "[encoded data removed]",
      "text/plain": [
       "plot without title"
      ]
     },
     "metadata": {
      "image/png": {
       "height": 420,
       "width": 420
      }
     },
     "output_type": "display_data"
    },
    {
     "name": "stderr",
     "output_type": "stream",
     "text": [
      "\u001b[1m\u001b[22mSaving 6.67 x 6.67 in image\n",
      "\u001b[1m\u001b[22mNo summary function supplied, defaulting to `mean_se()`\n",
      "Warning message in geom_bar(mapping = aes(x = usertype, y = tripduration), stat = \"summary\", :\n",
      "\"\u001b[1m\u001b[22mIgnoring unknown parameters: `fun.y`\"\n",
      "\u001b[1m\u001b[22mNo summary function supplied, defaulting to `mean_se()`\n"
     ]
    },
    {
     "data": {
      "image/png": "[encoded data removed]",
      "text/plain": [
       "plot without title"
      ]
     },
     "metadata": {
      "image/png": {
       "height": 420,
       "width": 420
      }
     },
     "output_type": "display_data"
    },
    {
     "name": "stderr",
     "output_type": "stream",
     "text": [
      "\u001b[1m\u001b[22mSaving 6.67 x 6.67 in image\n",
      "\u001b[1m\u001b[22mNo summary function supplied, defaulting to `mean_se()`\n",
      "Warning message in geom_bar(mapping = aes(x = usertype, y = tripduration), stat = \"summary\", :\n",
      "\"\u001b[1m\u001b[22mIgnoring unknown parameters: `fun.y`\"\n",
      "\u001b[1m\u001b[22mNo summary function supplied, defaulting to `mean_se()`\n"
     ]
    },
    {
     "data": {
      "image/png": "[encoded data removed]",
      "text/plain": [
       "plot without title"
      ]
     },
     "metadata": {
      "image/png": {
       "height": 420,
       "width": 420
      }
     },
     "output_type": "display_data"
    },
    {
     "name": "stderr",
     "output_type": "stream",
     "text": [
      "\u001b[1m\u001b[22mSaving 6.67 x 6.67 in image\n",
      "\u001b[1m\u001b[22mNo summary function supplied, defaulting to `mean_se()`\n",
      "Warning message in geom_bar(mapping = aes(x = usertype, y = tripduration), stat = \"summary\", :\n",
      "\"\u001b[1m\u001b[22mIgnoring unknown parameters: `fun.y`\"\n",
      "\u001b[1m\u001b[22mNo summary function supplied, defaulting to `mean_se()`\n"
     ]
    },
    {
     "data": {
      "image/png": "[encoded data removed]",
      "text/plain": [
       "plot without title"
      ]
     },
     "metadata": {
      "image/png": {
       "height": 420,
       "width": 420
      }
     },
     "output_type": "display_data"
    },
    {
     "name": "stderr",
     "output_type": "stream",
     "text": [
      "\u001b[1m\u001b[22mSaving 6.67 x 6.67 in image\n",
      "\u001b[1m\u001b[22mNo summary function supplied, defaulting to `mean_se()`\n",
      "Warning message in geom_bar(mapping = aes(x = usertype, y = tripduration), stat = \"summary\", :\n",
      "\"\u001b[1m\u001b[22mIgnoring unknown parameters: `fun.y`\"\n",
      "\u001b[1m\u001b[22mNo summary function supplied, defaulting to `mean_se()`\n"
     ]
    },
    {
     "data": {
      "image/png": "[encoded data removed]",
      "text/plain": [
       "plot without title"
      ]
     },
     "metadata": {
      "image/png": {
       "height": 420,
       "width": 420
      }
     },
     "output_type": "display_data"
    },
    {
     "name": "stderr",
     "output_type": "stream",
     "text": [
      "\u001b[1m\u001b[22mSaving 6.67 x 6.67 in image\n",
      "\u001b[1m\u001b[22mNo summary function supplied, defaulting to `mean_se()`\n",
      "Warning message in geom_bar(mapping = aes(x = usertype, y = tripduration), stat = \"summary\", :\n",
      "\"\u001b[1m\u001b[22mIgnoring unknown parameters: `fun.y`\"\n",
      "\u001b[1m\u001b[22mNo summary function supplied, defaulting to `mean_se()`\n"
     ]
    },
    {
     "data": {
      "image/png": "[encoded data removed]",
      "text/plain": [
       "plot without title"
      ]
     },
     "metadata": {
      "image/png": {
       "height": 420,
       "width": 420
      }
     },
     "output_type": "display_data"
    },
    {
     "name": "stderr",
     "output_type": "stream",
     "text": [
      "\u001b[1m\u001b[22mSaving 6.67 x 6.67 in image\n",
      "\u001b[1m\u001b[22mNo summary function supplied, defaulting to `mean_se()`\n",
      "Warning message in geom_bar(mapping = aes(x = usertype, y = tripduration), stat = \"summary\", :\n",
      "\"\u001b[1m\u001b[22mIgnoring unknown parameters: `fun.y`\"\n",
      "\u001b[1m\u001b[22mNo summary function supplied, defaulting to `mean_se()`\n"
     ]
    },
    {
     "data": {
      "image/png": "[encoded data removed]",
      "text/plain": [
       "plot without title"
      ]
     },
     "metadata": {
      "image/png": {
       "height": 420,
       "width": 420
      }
     },
     "output_type": "display_data"
    },
    {
     "name": "stderr",
     "output_type": "stream",
     "text": [
      "\u001b[1m\u001b[22mSaving 6.67 x 6.67 in image\n",
      "\u001b[1m\u001b[22mNo summary function supplied, defaulting to `mean_se()`\n"
     ]
    },
    {
     "data": {
      "image/png": "[encoded data removed]",
      "text/plain": [
       "plot without title"
      ]
     },
     "metadata": {
      "image/png": {
       "height": 420,
       "width": 420
      }
     },
     "output_type": "display_data"
    }
   ],
   "source": [
    "# Plotting average trip duration, then saving plot images\n",
    "\n",
    "ggplot(data = data_19Q1) +\n",
    "    geom_bar(mapping = aes(x = usertype, y = tripduration), \n",
    "             stat = 'summary',\n",
    "             fun.y = 'mean') +\n",
    "    labs(title = \"2019 Q1 Average Trip Duration\",\n",
    "         x = \"User Type\",\n",
    "         y = \"Trip Duration (sec)\")\n",
    "\n",
    "ggsave(\"avg_duration_19Q1.jpeg\")\n",
    "\n",
    "ggplot(data = data_19Q2) +\n",
    "    geom_bar(mapping = aes(x = usertype, y = tripduration), \n",
    "             stat = 'summary',\n",
    "             fun.y = 'mean') +\n",
    "    labs(title = \"2019 Q2 Average Trip Duration\",\n",
    "         x = \"User Type\",\n",
    "         y = \"Trip Duration (sec)\")\n",
    "\n",
    "ggsave(\"avg_duration_19Q2.jpeg\")\n",
    "\n",
    "ggplot(data = data_19Q3) +\n",
    "    geom_bar(mapping = aes(x = usertype, y = tripduration), \n",
    "             stat = 'summary',\n",
    "             fun.y = 'mean') +\n",
    "    labs(title = \"2019 Q3 Average Trip Duration\",\n",
    "         x = \"User Type\",\n",
    "         y = \"Trip Duration (sec)\")\n",
    "\n",
    "ggsave(\"avg_duration_19Q3.jpeg\")\n",
    "\n",
    "ggplot(data = data_19Q4) +\n",
    "    geom_bar(mapping = aes(x = usertype, y = tripduration), \n",
    "             stat = 'summary',\n",
    "             fun.y = 'mean') +\n",
    "    labs(title = \"2019 Q1 Average Trip Duration\",\n",
    "         x = \"User Type\",\n",
    "         y = \"Trip Duration (sec)\")\n",
    "\n",
    "ggsave(\"avg_duration_19Q4.jpeg\")\n",
    "\n",
    "ggplot(data = data_20Q1) +\n",
    "    geom_bar(mapping = aes(x = usertype, y = tripduration), \n",
    "             stat = 'summary',\n",
    "             fun.y = 'mean') +\n",
    "    labs(title = \"2020 Q1 Average Trip Duration\",\n",
    "         x = \"User Type\",\n",
    "         y = \"Trip Duration (sec)\")\n",
    "\n",
    "ggsave(\"avg_duration_20Q1.jpeg\")\n",
    "\n",
    "ggplot(data = data_20Q2) +\n",
    "    geom_bar(mapping = aes(x = usertype, y = tripduration), \n",
    "             stat = 'summary',\n",
    "             fun.y = 'mean') +\n",
    "    labs(title = \"2020 Q2 Average Trip Duration\",\n",
    "         x = \"User Type\",\n",
    "         y = \"Trip Duration (sec)\")\n",
    "\n",
    "ggsave(\"avg_duration_20Q2.jpeg\")\n",
    "\n",
    "ggplot(data = data_20Q3) +\n",
    "    geom_bar(mapping = aes(x = usertype, y = tripduration), \n",
    "             stat = 'summary',\n",
    "             fun.y = 'mean') +\n",
    "    labs(title = \"2020 Q3 Average Trip Duration\",\n",
    "         x = \"User Type\",\n",
    "         y = \"Trip Duration (sec)\")\n",
    "\n",
    "ggsave(\"avg_duration_20Q3.jpeg\")\n",
    "\n",
    "ggplot(data = data_20Q4) +\n",
    "    geom_bar(mapping = aes(x = usertype, y = tripduration), \n",
    "             stat = 'summary',\n",
    "             fun.y = 'mean') +\n",
    "    labs(title = \"2020 Q4 Average Trip Duration\",\n",
    "         x = \"User Type\",\n",
    "         y = \"Trip Duration (sec)\")\n",
    "\n",
    "ggsave(\"avg_duration_20Q4.jpeg\")"
   ]
  },
  {
   "cell_type": "code",
   "execution_count": 34,
   "id": "c1f56383-fef6-406a-bcaa-c13d35284682",
   "metadata": {},
   "outputs": [
    {
     "name": "stderr",
     "output_type": "stream",
     "text": [
      "\u001b[1m\u001b[22mSaving 6.67 x 6.67 in image\n"
     ]
    },
    {
     "data": {
      "image/png": "[encoded data removed]",
      "text/plain": [
       "plot without title"
      ]
     },
     "metadata": {
      "image/png": {
       "height": 420,
       "width": 420
      }
     },
     "output_type": "display_data"
    },
    {
     "name": "stderr",
     "output_type": "stream",
     "text": [
      "\u001b[1m\u001b[22mSaving 6.67 x 6.67 in image\n"
     ]
    },
    {
     "data": {
      "image/png": "[encoded data removed]",
      "text/plain": [
       "plot without title"
      ]
     },
     "metadata": {
      "image/png": {
       "height": 420,
       "width": 420
      }
     },
     "output_type": "display_data"
    },
    {
     "name": "stderr",
     "output_type": "stream",
     "text": [
      "\u001b[1m\u001b[22mSaving 6.67 x 6.67 in image\n"
     ]
    },
    {
     "data": {
      "image/png": "[encoded data removed]",
      "text/plain": [
       "plot without title"
      ]
     },
     "metadata": {
      "image/png": {
       "height": 420,
       "width": 420
      }
     },
     "output_type": "display_data"
    },
    {
     "name": "stderr",
     "output_type": "stream",
     "text": [
      "\u001b[1m\u001b[22mSaving 6.67 x 6.67 in image\n"
     ]
    },
    {
     "data": {
      "image/png": "[encoded data removed]",
      "text/plain": [
       "plot without title"
      ]
     },
     "metadata": {
      "image/png": {
       "height": 420,
       "width": 420
      }
     },
     "output_type": "display_data"
    },
    {
     "name": "stderr",
     "output_type": "stream",
     "text": [
      "\u001b[1m\u001b[22mSaving 6.67 x 6.67 in image\n"
     ]
    },
    {
     "data": {
      "image/png": "[encoded data removed]",
      "text/plain": [
       "plot without title"
      ]
     },
     "metadata": {
      "image/png": {
       "height": 420,
       "width": 420
      }
     },
     "output_type": "display_data"
    },
    {
     "name": "stderr",
     "output_type": "stream",
     "text": [
      "\u001b[1m\u001b[22mSaving 6.67 x 6.67 in image\n"
     ]
    },
    {
     "data": {
      "image/png": "[encoded data removed]",
      "text/plain": [
       "plot without title"
      ]
     },
     "metadata": {
      "image/png": {
       "height": 420,
       "width": 420
      }
     },
     "output_type": "display_data"
    },
    {
     "name": "stderr",
     "output_type": "stream",
     "text": [
      "\u001b[1m\u001b[22mSaving 6.67 x 6.67 in image\n"
     ]
    },
    {
     "data": {
      "image/png": "[encoded data removed]",
      "text/plain": [
       "plot without title"
      ]
     },
     "metadata": {
      "image/png": {
       "height": 420,
       "width": 420
      }
     },
     "output_type": "display_data"
    },
    {
     "name": "stderr",
     "output_type": "stream",
     "text": [
      "\u001b[1m\u001b[22mSaving 6.67 x 6.67 in image\n"
     ]
    },
    {
     "data": {
      "image/png": "[encoded data removed]",
      "text/plain": [
       "plot without title"
      ]
     },
     "metadata": {
      "image/png": {
       "height": 420,
       "width": 420
      }
     },
     "output_type": "display_data"
    }
   ],
   "source": [
    "# Plot density of trip duration, then saving plot images\n",
    "\n",
    "# Calculate mean and median of trip duration\n",
    "stats_19Q1 <- data_19Q1 %>% group_by(usertype) %>% \n",
    "  summarize(Avg = mean(tripduration), Median = median(tripduration)) %>% \n",
    "  pivot_longer(Avg:Median, names_to = \"Stat\", values_to = \"Value\")\n",
    "\n",
    "stats_19Q2 <- data_19Q2 %>% group_by(usertype) %>% \n",
    "  summarize(Avg = mean(tripduration), Median = median(tripduration)) %>% \n",
    "  pivot_longer(Avg:Median, names_to = \"Stat\", values_to = \"Value\")\n",
    "\n",
    "stats_19Q3 <- data_19Q3 %>% group_by(usertype) %>% \n",
    "  summarize(Avg = mean(tripduration), Median = median(tripduration)) %>% \n",
    "  pivot_longer(Avg:Median, names_to = \"Stat\", values_to = \"Value\")\n",
    "\n",
    "stats_19Q4 <- data_19Q4 %>% group_by(usertype) %>% \n",
    "  summarize(Avg = mean(tripduration), Median = median(tripduration)) %>% \n",
    "  pivot_longer(Avg:Median, names_to = \"Stat\", values_to = \"Value\")\n",
    "\n",
    "stats_20Q1 <- data_20Q1 %>% group_by(usertype) %>% \n",
    "  summarize(Avg = mean(tripduration), Median = median(tripduration)) %>% \n",
    "  pivot_longer(Avg:Median, names_to = \"Stat\", values_to = \"Value\")\n",
    "\n",
    "stats_20Q2 <- data_20Q2 %>% group_by(usertype) %>% \n",
    "  summarize(Avg = mean(tripduration), Median = median(tripduration)) %>% \n",
    "  pivot_longer(Avg:Median, names_to = \"Stat\", values_to = \"Value\")\n",
    "\n",
    "stats_20Q3 <- data_20Q3 %>% group_by(usertype) %>% \n",
    "  summarize(Avg = mean(tripduration), Median = median(tripduration)) %>% \n",
    "  pivot_longer(Avg:Median, names_to = \"Stat\", values_to = \"Value\")\n",
    "\n",
    "stats_20Q4 <- data_20Q4 %>% group_by(usertype) %>% \n",
    "  summarize(Avg = mean(tripduration), Median = median(tripduration)) %>% \n",
    "  pivot_longer(Avg:Median, names_to = \"Stat\", values_to = \"Value\")\n",
    "\n",
    "\n",
    "# Plot and save trip duration distribution and their mean and median\n",
    "ggplot(data_19Q1, aes(x = tripduration)) + \n",
    "    geom_density() +\n",
    "    facet_wrap(~usertype) +\n",
    "    geom_vline(data = stats_19Q1, mapping = aes(xintercept = Value, color = Stat)) + \n",
    "    labs(title=\"2019 Q1 Trip Duration Distribution\",\n",
    "            x=\"Trip Duration\")\n",
    "\n",
    "ggsave(\"dur_dis_19Q1.jpeg\")\n",
    "\n",
    "ggplot(data_19Q2, aes(x = tripduration)) + \n",
    "    geom_density() +\n",
    "    facet_wrap(~usertype) +\n",
    "    geom_vline(data = stats_19Q2, mapping = aes(xintercept = Value, color = Stat)) + \n",
    "    labs(title=\"2019 Q2 Trip Duration Distribution\",\n",
    "            x=\"Trip Duration\")\n",
    "\n",
    "ggsave(\"dur_dis_19Q2.jpeg\")\n",
    "\n",
    "ggplot(data_19Q3, aes(x = tripduration)) + \n",
    "    geom_density() +\n",
    "    facet_wrap(~usertype) +\n",
    "    geom_vline(data = stats_19Q3, mapping = aes(xintercept = Value, color = Stat)) + \n",
    "    labs(title=\"2019 Q3 Trip Duration Distribution\",\n",
    "            x=\"Trip Duration\")\n",
    "\n",
    "ggsave(\"dur_dis_19Q3.jpeg\")\n",
    "\n",
    "ggplot(data_19Q4, aes(x = tripduration)) + \n",
    "    geom_density() +\n",
    "    facet_wrap(~usertype) +\n",
    "    geom_vline(data = stats_19Q4, mapping = aes(xintercept = Value, color = Stat)) + \n",
    "    labs(title=\"2019 Q4 Trip Duration Distribution\",\n",
    "            x=\"Trip Duration\")\n",
    "\n",
    "ggsave(\"dur_dis_19Q4.jpeg\")\n",
    "\n",
    "ggplot(data_20Q1, aes(x = tripduration)) + \n",
    "    geom_density() +\n",
    "    facet_wrap(~usertype) +\n",
    "    geom_vline(data = stats_20Q1, mapping = aes(xintercept = Value, color = Stat)) + \n",
    "    labs(title=\"2020 Q1 Trip Duration Distribution\",\n",
    "            x=\"Trip Duration\")\n",
    "\n",
    "ggsave(\"dur_dis_20Q1.jpeg\")\n",
    "\n",
    "ggplot(data_20Q2, aes(x = tripduration)) + \n",
    "    geom_density() +\n",
    "    facet_wrap(~usertype) +\n",
    "    geom_vline(data = stats_20Q2, mapping = aes(xintercept = Value, color = Stat)) + \n",
    "    labs(title=\"2020 Q2 Trip Duration Distribution\",\n",
    "            x=\"Trip Duration\")\n",
    "\n",
    "ggsave(\"dur_dis_20Q2.jpeg\")\n",
    "\n",
    "ggplot(data_20Q3, aes(x = tripduration)) + \n",
    "    geom_density() +\n",
    "    facet_wrap(~usertype) +\n",
    "    geom_vline(data = stats_20Q3, mapping = aes(xintercept = Value, color = Stat)) + \n",
    "    labs(title=\"2020 Q3 Trip Duration Distribution\",\n",
    "            x=\"Trip Duration\")\n",
    "\n",
    "ggsave(\"dur_dis_20Q3.jpeg\")\n",
    "\n",
    "ggplot(data_20Q4, aes(x = tripduration)) + \n",
    "    geom_density() +\n",
    "    facet_wrap(~usertype) +\n",
    "    geom_vline(data = stats_20Q4, mapping = aes(xintercept = Value, color = Stat)) + \n",
    "    labs(title=\"2020 Q4 Trip Duration Distribution\",\n",
    "            x=\"Trip Duration\")\n",
    "\n",
    "ggsave(\"dur_dis_20Q4.jpeg\")"
   ]
  },
  {
   "cell_type": "code",
   "execution_count": 35,
   "id": "16171822-b394-473d-ac46-4bfcb0e1b487",
   "metadata": {},
   "outputs": [
    {
     "name": "stderr",
     "output_type": "stream",
     "text": [
      "\u001b[1m\u001b[22mSaving 6.67 x 6.67 in image\n"
     ]
    },
    {
     "data": {
      "image/png": "[encoded data removed]",
      "text/plain": [
       "plot without title"
      ]
     },
     "metadata": {
      "image/png": {
       "height": 420,
       "width": 420
      }
     },
     "output_type": "display_data"
    },
    {
     "name": "stderr",
     "output_type": "stream",
     "text": [
      "\u001b[1m\u001b[22mSaving 6.67 x 6.67 in image\n"
     ]
    },
    {
     "data": {
      "image/png": "[encoded data removed]",
      "text/plain": [
       "plot without title"
      ]
     },
     "metadata": {
      "image/png": {
       "height": 420,
       "width": 420
      }
     },
     "output_type": "display_data"
    },
    {
     "name": "stderr",
     "output_type": "stream",
     "text": [
      "\u001b[1m\u001b[22mSaving 6.67 x 6.67 in image\n"
     ]
    },
    {
     "data": {
      "image/png": "[encoded data removed]",
      "text/plain": [
       "plot without title"
      ]
     },
     "metadata": {
      "image/png": {
       "height": 420,
       "width": 420
      }
     },
     "output_type": "display_data"
    },
    {
     "name": "stderr",
     "output_type": "stream",
     "text": [
      "\u001b[1m\u001b[22mSaving 6.67 x 6.67 in image\n"
     ]
    },
    {
     "data": {
      "image/png": "[encoded data removed]",
      "text/plain": [
       "plot without title"
      ]
     },
     "metadata": {
      "image/png": {
       "height": 420,
       "width": 420
      }
     },
     "output_type": "display_data"
    },
    {
     "name": "stderr",
     "output_type": "stream",
     "text": [
      "\u001b[1m\u001b[22mSaving 6.67 x 6.67 in image\n"
     ]
    },
    {
     "data": {
      "image/png": "[encoded data removed]",
      "text/plain": [
       "plot without title"
      ]
     },
     "metadata": {
      "image/png": {
       "height": 420,
       "width": 420
      }
     },
     "output_type": "display_data"
    },
    {
     "name": "stderr",
     "output_type": "stream",
     "text": [
      "\u001b[1m\u001b[22mSaving 6.67 x 6.67 in image\n"
     ]
    },
    {
     "data": {
      "image/png": "[encoded data removed]",
      "text/plain": [
       "plot without title"
      ]
     },
     "metadata": {
      "image/png": {
       "height": 420,
       "width": 420
      }
     },
     "output_type": "display_data"
    },
    {
     "name": "stderr",
     "output_type": "stream",
     "text": [
      "\u001b[1m\u001b[22mSaving 6.67 x 6.67 in image\n"
     ]
    },
    {
     "data": {
      "image/png": "[encoded data removed]",
      "text/plain": [
       "plot without title"
      ]
     },
     "metadata": {
      "image/png": {
       "height": 420,
       "width": 420
      }
     },
     "output_type": "display_data"
    },
    {
     "name": "stderr",
     "output_type": "stream",
     "text": [
      "\u001b[1m\u001b[22mSaving 6.67 x 6.67 in image\n"
     ]
    },
    {
     "data": {
      "image/png": "[encoded data removed]",
      "text/plain": [
       "plot without title"
      ]
     },
     "metadata": {
      "image/png": {
       "height": 420,
       "width": 420
      }
     },
     "output_type": "display_data"
    }
   ],
   "source": [
    "# Plot distribution of time of day a ride occures\n",
    "\n",
    "# Extract time of day data\n",
    "data_19Q1$Time <- hour(data_19Q1$start_time)\n",
    "data_19Q2$Time <- hour(data_19Q2$start_time)\n",
    "data_19Q3$Time <- hour(data_19Q3$start_time)\n",
    "data_19Q4$Time <- hour(data_19Q4$start_time)\n",
    "data_20Q1$Time <- hour(data_20Q1$start_time)\n",
    "data_20Q2$Time <- hour(data_20Q2$start_time)\n",
    "data_20Q3$Time <- hour(data_20Q3$start_time)\n",
    "data_20Q4$Time <- hour(data_20Q4$start_time)\n",
    "\n",
    "# Plot and save time of day distribution\n",
    "ggplot(data = data_19Q1, aes(x = Time)) + \n",
    "    geom_density() +\n",
    "    facet_wrap(~usertype) +\n",
    "    labs(title=\"2019 Q1 Ride Time Distribution\",\n",
    "            x=\"Time of Day\")\n",
    "\n",
    "ggsave(\"time_dis_19Q1.jpeg\")\n",
    "\n",
    "ggplot(data = data_19Q2, aes(x = Time)) + \n",
    "    geom_density() +\n",
    "    facet_wrap(~usertype) +\n",
    "    labs(title=\"2019 Q2 Ride Time Distribution\",\n",
    "            x=\"Time of Day\")\n",
    "\n",
    "ggsave(\"time_dis_19Q2.jpeg\")\n",
    "\n",
    "ggplot(data = data_19Q3, aes(x = Time)) + \n",
    "    geom_density() +\n",
    "    facet_wrap(~usertype) +\n",
    "    labs(title=\"2019 Q3 Ride Time Distribution\",\n",
    "            x=\"Time of Day\")\n",
    "\n",
    "ggsave(\"time_dis_19Q3.jpeg\")\n",
    "\n",
    "ggplot(data = data_19Q4, aes(x = Time)) + \n",
    "    geom_density() +\n",
    "    facet_wrap(~usertype) +\n",
    "    labs(title=\"2019 Q4 Ride Time Distribution\",\n",
    "            x=\"Time of Day\")\n",
    "\n",
    "ggsave(\"time_dis_19Q4.jpeg\")\n",
    "\n",
    "ggplot(data = data_20Q1, aes(x = Time)) + \n",
    "    geom_density() +\n",
    "    facet_wrap(~usertype) +\n",
    "    labs(title=\"2020 Q1 Ride Time Distribution\",\n",
    "            x=\"Time of Day\")\n",
    "\n",
    "ggsave(\"time_dis_20Q1.jpeg\")\n",
    "\n",
    "ggplot(data = data_20Q2, aes(x = Time)) + \n",
    "    geom_density() +\n",
    "    facet_wrap(~usertype) +\n",
    "    labs(title=\"2020 Q2 Ride Time Distribution\",\n",
    "            x=\"Time of Day\")\n",
    "\n",
    "ggsave(\"time_dis_20Q2.jpeg\")\n",
    "\n",
    "ggplot(data = data_20Q3, aes(x = Time)) + \n",
    "    geom_density() +\n",
    "    facet_wrap(~usertype) +\n",
    "    labs(title=\"2020 Q3 Ride Time Distribution\",\n",
    "            x=\"Time of Day\")\n",
    "\n",
    "ggsave(\"time_dis_20Q3.jpeg\")\n",
    "\n",
    "ggplot(data = data_20Q4, aes(x = Time)) + \n",
    "    geom_density() +\n",
    "    facet_wrap(~usertype) +\n",
    "    labs(title=\"2020 Q4 Ride Time Distribution\",\n",
    "            x=\"Time of Day\")\n",
    "\n",
    "ggsave(\"time_dis_20Q4.jpeg\")"
   ]
  },
  {
   "cell_type": "code",
   "execution_count": null,
   "id": "cf02daf8-0166-49a0-9578-2d2bbf8c51d4",
   "metadata": {},
   "outputs": [],
   "source": []
  }
 ],
 "metadata": {
  "kernelspec": {
   "display_name": "R",
   "language": "R",
   "name": "ir"
  },
  "language_info": {
   "codemirror_mode": "r",
   "file_extension": ".r",
   "mimetype": "text/x-r-source",
   "name": "R",
   "pygments_lexer": "r",
   "version": "4.1.3"
  }
 },
 "nbformat": 4,
 "nbformat_minor": 5
}
